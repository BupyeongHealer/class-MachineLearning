{
  "nbformat": 4,
  "nbformat_minor": 0,
  "metadata": {
    "colab": {
      "name": "10.Multi-label classification using Neural Networks with a regularization.ipynb",
      "provenance": [],
      "collapsed_sections": []
    },
    "kernelspec": {
      "name": "python3",
      "display_name": "Python 3"
    }
  },
  "cells": [
    {
      "cell_type": "code",
      "metadata": {
        "id": "V0BqPQCyiZQS",
        "colab_type": "code",
        "colab": {}
      },
      "source": [
        "import matplotlib.pyplot as plt\n",
        "import numpy as np\n",
        "import copy\n",
        "import math\n",
        "import csv\n",
        "from google.colab import files\n",
        "from collections import deque"
      ],
      "execution_count": 0,
      "outputs": []
    },
    {
      "cell_type": "code",
      "metadata": {
        "id": "HwmL4SD6ieF9",
        "colab_type": "code",
        "outputId": "02166705-67d3-481a-e121-80c1e3ba9d1c",
        "colab": {
          "resources": {
            "http://localhost:8080/nbextensions/google.colab/files.js": {
              "data": "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",
              "ok": true,
              "headers": [
                [
                  "content-type",
                  "application/javascript"
                ]
              ],
              "status": 200,
              "status_text": ""
            }
          },
          "base_uri": "https://localhost:8080/",
          "height": 78
        }
      },
      "source": [
        "uploaded = files.upload()"
      ],
      "execution_count": 4,
      "outputs": [
        {
          "output_type": "display_data",
          "data": {
            "text/html": [
              "\n",
              "     <input type=\"file\" id=\"files-4f12ec3a-2b08-4a64-95fd-450aef949c19\" name=\"files[]\" multiple disabled />\n",
              "     <output id=\"result-4f12ec3a-2b08-4a64-95fd-450aef949c19\">\n",
              "      Upload widget is only available when the cell has been executed in the\n",
              "      current browser session. Please rerun this cell to enable.\n",
              "      </output>\n",
              "      <script src=\"/nbextensions/google.colab/files.js\"></script> "
            ],
            "text/plain": [
              "<IPython.core.display.HTML object>"
            ]
          },
          "metadata": {
            "tags": []
          }
        },
        {
          "output_type": "stream",
          "text": [
            "Saving mnist.csv to mnist.csv\n"
          ],
          "name": "stdout"
        }
      ]
    },
    {
      "cell_type": "code",
      "metadata": {
        "id": "JmV8XN4XifFM",
        "colab_type": "code",
        "outputId": "e3a207cb-5202-40f1-e11b-e7acc5e710c6",
        "colab": {
          "base_uri": "https://localhost:8080/",
          "height": 470
        }
      },
      "source": [
        "file_data   = \"mnist.csv\"\n",
        "handle_file = open(file_data, \"r\")\n",
        "data        = handle_file.readlines()\n",
        "handle_file.close()\n",
        "\n",
        "size_row    = 28    # height of the image\n",
        "size_col    = 28    # width of the image\n",
        "\n",
        "num_image   = len(data)   #10000개\n",
        "count       = 0     # count for the number of images\n",
        "\n",
        "#\n",
        "# normalize the values of the input data to be [0, 1]\n",
        "#\n",
        "def normalize(data):\n",
        "\n",
        "    data_normalized = (data - min(data)) / (max(data) - min(data))\n",
        "\n",
        "    return(data_normalized)\n",
        "\n",
        "#\n",
        "# example of distance function between two vectors x and y\n",
        "#\n",
        "def distance(x, y):\n",
        "\n",
        "    d = (x - y) ** 2\n",
        "    s = np.sum(d)\n",
        "    # r = np.sqrt(s)\n",
        "\n",
        "    return(s)\n",
        "\n",
        "#\n",
        "# make a matrix each column of which represents an images in a vector form\n",
        "#\n",
        "train_image  = np.empty((size_row * size_col, 1000), dtype=float)\n",
        "train_label  = np.empty(1000, dtype=int)\n",
        "test_image  = np.empty((size_row * size_col, 9000), dtype=float)\n",
        "test_label  = np.empty(9000, dtype=int)\n",
        "\n",
        "for line in data:\n",
        "    if count < 1000 :\n",
        "      line_data   = line.split(',')\n",
        "      label       = line_data[0]\n",
        "      im_vector   = np.asfarray(line_data[1:])\n",
        "      im_vector   = normalize(im_vector)\n",
        "\n",
        "      train_label[count]       = label       # size : 10000\n",
        "      train_image[:, count]    = im_vector   # size : 784 * 10000\n",
        "\n",
        "    else: \n",
        "      line_data   = line.split(',')\n",
        "      label       = line_data[0]\n",
        "      im_vector   = np.asfarray(line_data[1:])\n",
        "      im_vector   = normalize(im_vector)\n",
        "\n",
        "      test_label[count-1000]       = label       # size : 10000\n",
        "      test_image[:, count-1000]    = im_vector   # size : 784 * 10000\n",
        "\n",
        "    count += 1\n",
        "\n",
        "train_costs = deque()\n",
        "test_costs = deque()\n",
        "theta_0s = deque()\n",
        "theta_1s = deque()\n",
        "theta_2s = deque()\n",
        "bias_0s = deque()\n",
        "bias_1s = deque()\n",
        "bias_2s = deque()\n",
        "iters = deque()\n",
        "train_accuracys = deque()\n",
        "test_accuracys = deque()\n",
        "incorrect_predicts = deque()\n",
        "\n",
        "#correct_labels = []\n",
        "correct_labels = deque()\n",
        "#incorrect_labels = []\n",
        "incorrect_labels = deque()\n",
        "\n",
        "print(num_image)  #10000\n",
        "print(len(train_image))  #784\n",
        "print(len(train_image[0]))  #1000\n",
        "print(len(train_label))  #1000\n",
        "print(len(test_image))  #784\n",
        "print(len(test_image[0]))  #9000\n",
        "print(len(test_label))  #9000\n",
        "print(train_image.shape)\n",
        "\n",
        "train_length = len(train_label)\n",
        "train_l = np.zeros((10,1000))\n",
        "for i in range(0,train_length):\n",
        "  index = train_label[i]\n",
        "  a = np.zeros(10)\n",
        "  a[index] = 1\n",
        "  train_l[:,i] = a\n",
        "print(train_l)\n",
        "print(train_l.shape)\n",
        "\n",
        "test_length = len(test_label)\n",
        "test_l = np.zeros((10,9000))\n",
        "for i in range(0,test_length):\n",
        "  index = test_label[i]\n",
        "  a = np.zeros(10)\n",
        "  a[index] = 1\n",
        "  test_l[:,i] = a\n",
        "print(test_l)\n",
        "print(test_l.shape)\n",
        "print(test_l[:,8999])\n",
        "#list_label 0~5999까지 training data, 6000~9999까지 test data\n",
        "#list_image [:,5999]까지 training data, [:,9999]까지 test data"
      ],
      "execution_count": 5,
      "outputs": [
        {
          "output_type": "stream",
          "text": [
            "10000\n",
            "784\n",
            "1000\n",
            "1000\n",
            "784\n",
            "9000\n",
            "9000\n",
            "(784, 1000)\n",
            "[[0. 0. 0. ... 1. 0. 0.]\n",
            " [0. 0. 1. ... 0. 0. 0.]\n",
            " [0. 1. 0. ... 0. 0. 0.]\n",
            " ...\n",
            " [1. 0. 0. ... 0. 0. 0.]\n",
            " [0. 0. 0. ... 0. 1. 0.]\n",
            " [0. 0. 0. ... 0. 0. 1.]]\n",
            "(10, 1000)\n",
            "[[0. 1. 0. ... 0. 0. 0.]\n",
            " [0. 0. 0. ... 0. 0. 0.]\n",
            " [0. 0. 1. ... 0. 0. 0.]\n",
            " ...\n",
            " [0. 0. 0. ... 0. 0. 0.]\n",
            " [0. 0. 0. ... 0. 0. 0.]\n",
            " [1. 0. 0. ... 0. 0. 0.]]\n",
            "(10, 9000)\n",
            "[0. 0. 0. 0. 0. 0. 1. 0. 0. 0.]\n"
          ],
          "name": "stdout"
        }
      ]
    },
    {
      "cell_type": "code",
      "metadata": {
        "id": "B_UkBCZFii_k",
        "colab_type": "code",
        "colab": {}
      },
      "source": [
        "def forward(theta, value):\n",
        "  #print(theta.shape, value.shape)\n",
        "  #print(\"Theta\", theta.shape)\n",
        "  #print(\"value\", value.shape)\n",
        "  result = np.matmul(theta, value)\n",
        "  return result"
      ],
      "execution_count": 0,
      "outputs": []
    },
    {
      "cell_type": "code",
      "metadata": {
        "id": "qVq9jp5iikTi",
        "colab_type": "code",
        "colab": {}
      },
      "source": [
        "def sigmoid(value):\n",
        "  \"\"\"\n",
        "  length = len(value)\n",
        "  for i in range(0, length):\n",
        "    value[i] = 1 / (1 + np.exp(-value[i]))\n",
        "  \"\"\"\n",
        "  value = value.astype(float)\n",
        "  value = np.multiply(value,-1)\n",
        "  value = np.exp(value)\n",
        "  value = np.add(1,value)\n",
        "  value = np.divide(1, value)\n",
        "  return value"
      ],
      "execution_count": 0,
      "outputs": []
    },
    {
      "cell_type": "code",
      "metadata": {
        "id": "PsayRgz3ZkGm",
        "colab_type": "code",
        "colab": {}
      },
      "source": [
        "def addBias(value, bias):\n",
        "  \"\"\"\n",
        "  length = len(bias)\n",
        "  for i in range(0, length):\n",
        "    value[i] += bias[i]\n",
        "  \"\"\"\n",
        "  value = np.add(value, bias)\n",
        "  return value"
      ],
      "execution_count": 0,
      "outputs": []
    },
    {
      "cell_type": "code",
      "metadata": {
        "id": "Vvg44h6kZWZr",
        "colab_type": "code",
        "colab": {}
      },
      "source": [
        "def neuralNet(x, u, bias0):    #data, theta0, theta1, theta2, bias0, bias1, bias2\n",
        "  y_hat = forward(u, x)\n",
        "  y_hat = addBias(y_hat, bias0)\n",
        "  y = sigmoid(y_hat)\n",
        "  \"\"\"\n",
        "  z_hat = forward(v, y)\n",
        "  z_hat = addBias(z_hat, bias1)\n",
        "  z = sigmoid(z_hat)\n",
        "  h_hat = forward(w, z)\n",
        "  h_hat = addBias(h_hat, bias2)\n",
        "  h = sigmoid(h_hat)\n",
        "  \"\"\"\n",
        "  return y"
      ],
      "execution_count": 0,
      "outputs": []
    },
    {
      "cell_type": "code",
      "metadata": {
        "id": "sjcnYDFMnCRg",
        "colab_type": "code",
        "colab": {}
      },
      "source": [
        "def objectiveFunction(image, l, lamda, y, theta0, b0):     #list_image[:, count], list_label -> traing과 test 구분해야겠다.!!\n",
        "  length = len(image[0])                    #두는 이유는 trainig 6000, test 4000개  갯수가 달라서\n",
        "  cost1 = np.log(y)      # **** y size : 10x 1000 바꾸기(main, neural net)\n",
        "  cost1 = np.multiply(cost1, l)\n",
        "  cost1 = np.multiply(cost1, -1)\n",
        "  cost2 = np.subtract(1, y)\n",
        "  cost2 = np.log(cost2)\n",
        "  temp = np.subtract(1, l)\n",
        "  cost2 = np.multiply(cost2, temp)\n",
        "  cost = np.subtract(cost1, cost2)\n",
        "  cost = np.divide(cost,length)\n",
        "  cost = np.sum(cost)\n",
        "  cost_r = np.multiply(theta0, theta0)\n",
        "  cost_r = np.sum(cost_r)\n",
        "  cost_r = cost_r * lamda / (2*7840)          #추후에 theta 추가나 값 size 변경시 이곳 변경!!!!!\n",
        "  cost += cost_r\n",
        "  \n",
        "  return cost"
      ],
      "execution_count": 0,
      "outputs": []
    },
    {
      "cell_type": "code",
      "metadata": {
        "id": "tzRWAQQG0uxJ",
        "colab_type": "code",
        "colab": {}
      },
      "source": [
        "def gradientDescent(image, l, lamda, learning_rate, y, theta0, b0):\n",
        "  lr = learning_rate\n",
        "  length = len(image[0])\n",
        "\n",
        "  x_transpose = np.reshape(image, (1000,784))\n",
        "  #######theta0\n",
        "  partial_0 = np.subtract(y, l)\n",
        "  partial_theta0 = np.matmul(partial_0, x_transpose)\n",
        "  regular_theta0 = np.sum(theta0)\n",
        "  regular_theta0 = np.multiply(regular_theta0, lamda)\n",
        "  regular_theta0 = np.divide(regular_theta0, 7840) \n",
        "  partial_theta0 = np.sum(partial_theta0, regular_theta0)\n",
        "  partial_theta0 = np.multiply(partial_theta0, lr)\n",
        "  theta0 = np.subtract(theta0, partial_theta0)\n",
        "  \n",
        "  #######bias0\n",
        "  partial_bias0 = np.ones((1000,1))\n",
        "  partial_bias0 = np.matmul(partial_0, partial_bias0)\n",
        "  partial_bias0 = np.divide(partial_bias0, 1000)      ## 확실치 않음 없애야할수도 있다!\n",
        "  partial_bias0 = np.multiply(partial_bias0, lr)\n",
        "  b0 = np.subtract(b0, partial_bias0)\n",
        "\n",
        "  return theta0, b0"
      ],
      "execution_count": 0,
      "outputs": []
    },
    {
      "cell_type": "code",
      "metadata": {
        "id": "WN6ghexckeWy",
        "colab_type": "code",
        "colab": {}
      },
      "source": [
        "def checkAccuracy(image, label, y, theta0, b0):\n",
        "  length = len(label)\n",
        "  count = 0\n",
        "  for i in range(0, length):\n",
        "    if label[i] == np.argmax(y[:,i]):\n",
        "      count += 1\n",
        "  accuracy = count / length\n",
        "  return accuracy"
      ],
      "execution_count": 0,
      "outputs": []
    },
    {
      "cell_type": "code",
      "metadata": {
        "id": "TP9QaVGX2KDJ",
        "colab_type": "code",
        "colab": {}
      },
      "source": [
        "def checkCorrect(image, label, y, theta0, b0):\n",
        "  length = len(label)\n",
        "  count = 0\n",
        "  labels = []\n",
        "  for i in range(0, length):\n",
        "    if count == 10:\n",
        "      break\n",
        "    else:\n",
        "      if label[i] == np.argmax(y[:,i]):\n",
        "        labels.append(i)  #index를 labels 리스트에 추가\n",
        "        count += 1\n",
        "  return labels"
      ],
      "execution_count": 0,
      "outputs": []
    },
    {
      "cell_type": "code",
      "metadata": {
        "id": "TURh4x9O4ZhA",
        "colab_type": "code",
        "colab": {}
      },
      "source": [
        "def checkIncorrect(image, label, y, theta0, b0):\n",
        "  length = len(label)\n",
        "  count = 0\n",
        "  labels = []\n",
        "  predicts = []\n",
        "  for i in range(0, length):\n",
        "    if count == 10:\n",
        "      break\n",
        "    else:\n",
        "      if label[i] != np.argmax(y[:,i]):\n",
        "        labels.append(i)  #index를 labels 리스트에 추가\n",
        "        count += 1\n",
        "        predicts.append(np.argmax(y[:,i]))\n",
        "  return labels, predicts"
      ],
      "execution_count": 0,
      "outputs": []
    },
    {
      "cell_type": "code",
      "metadata": {
        "id": "Ae53uHmoilyj",
        "colab_type": "code",
        "outputId": "8e36f4f8-a023-4359-b919-099992de604b",
        "colab": {
          "base_uri": "https://localhost:8080/",
          "height": 579
        }
      },
      "source": [
        "def main():\n",
        "  mu = 0\n",
        "  sigma = 0.1\n",
        "  lamda = 0\n",
        "\n",
        "  theta_0 = np.random.normal(mu, sigma, size=(10,784))   #size = 196x784\n",
        "  #theta_1 = np.random.normal(mu, sigma, size=(49,196))    #size = 49x196\n",
        "  #theta_2 = np.random.normal(mu, sigma, size=(10,49))     #size = 10x49\n",
        "  \n",
        "  b_0 = np.random.normal(mu, sigma, size=(10,1))                  #size = 196x1\n",
        "  #b_1 = np.random.normal(mu, sigma, 49)                   #size = 49x1\n",
        "  #b_2 = np.random.normal(mu, sigma, 10)                   #size = 10x1\n",
        "\n",
        "  lr = 1                                                #learning rate\n",
        "\n",
        "  #training step\n",
        "  for iter in range(0, 10):\n",
        "    iters.append(iter)\n",
        "    y = neuralNet(train_image, theta_0, b_0)\n",
        "    print(\"y\",y)\n",
        "    train_cost = objectiveFunction(train_image, train_l, lamda, y, theta_0, b_0)  #print(cost)\n",
        "    print(\"traincost\",train_cost)\n",
        "    print(\"##########################################111111111111111111111111111111\",iter)\n",
        "    train_costs.append(train_cost)\n",
        "    theta_0, b_0 = gradientDescent(train_image, train_l, lamda, lr, y, theta_0, b_0)\n",
        "    print(\"b0\", b_0)\n",
        "    #############train accuracy 하자!############\n",
        "    train_accuracy = checkAccuracy(train_image, train_label, y, theta_0, b_0)\n",
        "    print(\"accuracy\",train_accuracy)\n",
        "    train_accuracys.append(train_accuracy)\n",
        "    print(\"##########################################12222222222\")\n",
        "    correct_label = checkCorrect(test_image, test_label, y, theta_0, b_0)\n",
        "    correct_labels.append(correct_label)\n",
        "\n",
        "    #########test\n",
        "    y = neuralNet(test_image, theta_0, b_0)\n",
        "    test_cost = objectiveFunction(test_image, test_l, lamda, y, theta_0, b_0)\n",
        "    print(\"##########################################33333333333\")\n",
        "    test_costs.append(test_cost)\n",
        "    #############test accuracy\n",
        "    test_accuracy = checkAccuracy(test_image, test_label, y, theta_0, b_0)\n",
        "    test_accuracys.append(test_accuracy)\n",
        "    incorrect_label, predict = checkIncorrect(test_image, test_label, y, theta_0, b_0)\n",
        "    incorrect_labels.append(incorrect_label)\n",
        "    incorrect_predicts.append(predict)\n",
        "    #train_y, train_z, train_h = neuralNet(train_image, theta_0, theta_1, theta_2, b_0, b_1, b_2) #image 문제\n",
        "    print(\"##########################################4444444444444444444\")\n",
        "    theta_0s.append(theta_0)\n",
        "    bias_0s.append(b_0)\n",
        "    \n",
        "  ######correct label 가져오자!\n",
        "  #correct_labels = checkCorrect(test_image, test_label, theta_0, theta_1, theta_2, b_0, b_1, b_2)  #data의 index만 헐당!\n",
        "\n",
        "  #incorrect_labels = checkIncorrect(test_image, test_label, theta_0, theta_1, theta_2, b_0, b_1, b_2)\n",
        "\n",
        "\n",
        "if __name__ == \"__main__\":\n",
        "  main()"
      ],
      "execution_count": 17,
      "outputs": [
        {
          "output_type": "stream",
          "text": [
            "y [[0.76588256 0.26519834 0.54108222 ... 0.22144583 0.56440004 0.56460274]\n",
            " [0.28315036 0.25930549 0.50214779 ... 0.48893544 0.21273051 0.51953402]\n",
            " [0.71413611 0.44656114 0.55309757 ... 0.43037112 0.92252874 0.82868036]\n",
            " ...\n",
            " [0.52223599 0.81018525 0.56649099 ... 0.65008224 0.71311476 0.43460721]\n",
            " [0.50351411 0.51885877 0.68139281 ... 0.84835235 0.76122377 0.58842863]\n",
            " [0.35955878 0.50884025 0.53103235 ... 0.18216472 0.49484079 0.65792804]]\n",
            "traincost 8.182260675980535\n",
            "##########################################111111111111111111111111111111 0\n"
          ],
          "name": "stdout"
        },
        {
          "output_type": "error",
          "ename": "TypeError",
          "evalue": "ignored",
          "traceback": [
            "\u001b[0;31m---------------------------------------------------------------------------\u001b[0m",
            "\u001b[0;31mTypeError\u001b[0m                                 Traceback (most recent call last)",
            "\u001b[0;32m<ipython-input-17-50b3777feff8>\u001b[0m in \u001b[0;36m<module>\u001b[0;34m()\u001b[0m\n\u001b[1;32m     56\u001b[0m \u001b[0;34m\u001b[0m\u001b[0m\n\u001b[1;32m     57\u001b[0m \u001b[0;32mif\u001b[0m \u001b[0m__name__\u001b[0m \u001b[0;34m==\u001b[0m \u001b[0;34m\"__main__\"\u001b[0m\u001b[0;34m:\u001b[0m\u001b[0;34m\u001b[0m\u001b[0;34m\u001b[0m\u001b[0m\n\u001b[0;32m---> 58\u001b[0;31m   \u001b[0mmain\u001b[0m\u001b[0;34m(\u001b[0m\u001b[0;34m)\u001b[0m\u001b[0;34m\u001b[0m\u001b[0;34m\u001b[0m\u001b[0m\n\u001b[0m",
            "\u001b[0;32m<ipython-input-17-50b3777feff8>\u001b[0m in \u001b[0;36mmain\u001b[0;34m()\u001b[0m\n\u001b[1;32m     23\u001b[0m     \u001b[0mprint\u001b[0m\u001b[0;34m(\u001b[0m\u001b[0;34m\"##########################################111111111111111111111111111111\"\u001b[0m\u001b[0;34m,\u001b[0m\u001b[0miter\u001b[0m\u001b[0;34m)\u001b[0m\u001b[0;34m\u001b[0m\u001b[0;34m\u001b[0m\u001b[0m\n\u001b[1;32m     24\u001b[0m     \u001b[0mtrain_costs\u001b[0m\u001b[0;34m.\u001b[0m\u001b[0mappend\u001b[0m\u001b[0;34m(\u001b[0m\u001b[0mtrain_cost\u001b[0m\u001b[0;34m)\u001b[0m\u001b[0;34m\u001b[0m\u001b[0;34m\u001b[0m\u001b[0m\n\u001b[0;32m---> 25\u001b[0;31m     \u001b[0mtheta_0\u001b[0m\u001b[0;34m,\u001b[0m \u001b[0mb_0\u001b[0m \u001b[0;34m=\u001b[0m \u001b[0mgradientDescent\u001b[0m\u001b[0;34m(\u001b[0m\u001b[0mtrain_image\u001b[0m\u001b[0;34m,\u001b[0m \u001b[0mtrain_l\u001b[0m\u001b[0;34m,\u001b[0m \u001b[0mlamda\u001b[0m\u001b[0;34m,\u001b[0m \u001b[0mlr\u001b[0m\u001b[0;34m,\u001b[0m \u001b[0my\u001b[0m\u001b[0;34m,\u001b[0m \u001b[0mtheta_0\u001b[0m\u001b[0;34m,\u001b[0m \u001b[0mb_0\u001b[0m\u001b[0;34m)\u001b[0m\u001b[0;34m\u001b[0m\u001b[0;34m\u001b[0m\u001b[0m\n\u001b[0m\u001b[1;32m     26\u001b[0m     \u001b[0mprint\u001b[0m\u001b[0;34m(\u001b[0m\u001b[0;34m\"b0\"\u001b[0m\u001b[0;34m,\u001b[0m \u001b[0mb_0\u001b[0m\u001b[0;34m)\u001b[0m\u001b[0;34m\u001b[0m\u001b[0;34m\u001b[0m\u001b[0m\n\u001b[1;32m     27\u001b[0m     \u001b[0;31m#############train accuracy 하자!############\u001b[0m\u001b[0;34m\u001b[0m\u001b[0;34m\u001b[0m\u001b[0;34m\u001b[0m\u001b[0m\n",
            "\u001b[0;32m<ipython-input-11-04317cfc783e>\u001b[0m in \u001b[0;36mgradientDescent\u001b[0;34m(image, l, lamda, learning_rate, y, theta0, b0)\u001b[0m\n\u001b[1;32m     10\u001b[0m   \u001b[0mregular_theta0\u001b[0m \u001b[0;34m=\u001b[0m \u001b[0mnp\u001b[0m\u001b[0;34m.\u001b[0m\u001b[0mmultiply\u001b[0m\u001b[0;34m(\u001b[0m\u001b[0mregular_theta0\u001b[0m\u001b[0;34m,\u001b[0m \u001b[0mlamda\u001b[0m\u001b[0;34m)\u001b[0m\u001b[0;34m\u001b[0m\u001b[0;34m\u001b[0m\u001b[0m\n\u001b[1;32m     11\u001b[0m   \u001b[0mregular_theta0\u001b[0m \u001b[0;34m=\u001b[0m \u001b[0mnp\u001b[0m\u001b[0;34m.\u001b[0m\u001b[0mdivide\u001b[0m\u001b[0;34m(\u001b[0m\u001b[0mregular_theta0\u001b[0m\u001b[0;34m,\u001b[0m \u001b[0;36m7840\u001b[0m\u001b[0;34m)\u001b[0m\u001b[0;34m\u001b[0m\u001b[0;34m\u001b[0m\u001b[0m\n\u001b[0;32m---> 12\u001b[0;31m   \u001b[0mpartial_theta0\u001b[0m \u001b[0;34m=\u001b[0m \u001b[0mnp\u001b[0m\u001b[0;34m.\u001b[0m\u001b[0msum\u001b[0m\u001b[0;34m(\u001b[0m\u001b[0mpartial_theta0\u001b[0m\u001b[0;34m,\u001b[0m \u001b[0mregular_theta0\u001b[0m\u001b[0;34m)\u001b[0m\u001b[0;34m\u001b[0m\u001b[0;34m\u001b[0m\u001b[0m\n\u001b[0m\u001b[1;32m     13\u001b[0m   \u001b[0mpartial_theta0\u001b[0m \u001b[0;34m=\u001b[0m \u001b[0mnp\u001b[0m\u001b[0;34m.\u001b[0m\u001b[0mmultiply\u001b[0m\u001b[0;34m(\u001b[0m\u001b[0mpartial_theta0\u001b[0m\u001b[0;34m,\u001b[0m \u001b[0mlr\u001b[0m\u001b[0;34m)\u001b[0m\u001b[0;34m\u001b[0m\u001b[0;34m\u001b[0m\u001b[0m\n\u001b[1;32m     14\u001b[0m   \u001b[0mtheta0\u001b[0m \u001b[0;34m=\u001b[0m \u001b[0mnp\u001b[0m\u001b[0;34m.\u001b[0m\u001b[0msubtract\u001b[0m\u001b[0;34m(\u001b[0m\u001b[0mtheta0\u001b[0m\u001b[0;34m,\u001b[0m \u001b[0mpartial_theta0\u001b[0m\u001b[0;34m)\u001b[0m\u001b[0;34m\u001b[0m\u001b[0;34m\u001b[0m\u001b[0m\n",
            "\u001b[0;32m<__array_function__ internals>\u001b[0m in \u001b[0;36msum\u001b[0;34m(*args, **kwargs)\u001b[0m\n",
            "\u001b[0;32m/usr/local/lib/python3.6/dist-packages/numpy/core/fromnumeric.py\u001b[0m in \u001b[0;36msum\u001b[0;34m(a, axis, dtype, out, keepdims, initial, where)\u001b[0m\n\u001b[1;32m   2227\u001b[0m \u001b[0;34m\u001b[0m\u001b[0m\n\u001b[1;32m   2228\u001b[0m     return _wrapreduction(a, np.add, 'sum', axis, dtype, out, keepdims=keepdims,\n\u001b[0;32m-> 2229\u001b[0;31m                           initial=initial, where=where)\n\u001b[0m\u001b[1;32m   2230\u001b[0m \u001b[0;34m\u001b[0m\u001b[0m\n\u001b[1;32m   2231\u001b[0m \u001b[0;34m\u001b[0m\u001b[0m\n",
            "\u001b[0;32m/usr/local/lib/python3.6/dist-packages/numpy/core/fromnumeric.py\u001b[0m in \u001b[0;36m_wrapreduction\u001b[0;34m(obj, ufunc, method, axis, dtype, out, **kwargs)\u001b[0m\n\u001b[1;32m     88\u001b[0m                 \u001b[0;32mreturn\u001b[0m \u001b[0mreduction\u001b[0m\u001b[0;34m(\u001b[0m\u001b[0maxis\u001b[0m\u001b[0;34m=\u001b[0m\u001b[0maxis\u001b[0m\u001b[0;34m,\u001b[0m \u001b[0mout\u001b[0m\u001b[0;34m=\u001b[0m\u001b[0mout\u001b[0m\u001b[0;34m,\u001b[0m \u001b[0;34m**\u001b[0m\u001b[0mpasskwargs\u001b[0m\u001b[0;34m)\u001b[0m\u001b[0;34m\u001b[0m\u001b[0;34m\u001b[0m\u001b[0m\n\u001b[1;32m     89\u001b[0m \u001b[0;34m\u001b[0m\u001b[0m\n\u001b[0;32m---> 90\u001b[0;31m     \u001b[0;32mreturn\u001b[0m \u001b[0mufunc\u001b[0m\u001b[0;34m.\u001b[0m\u001b[0mreduce\u001b[0m\u001b[0;34m(\u001b[0m\u001b[0mobj\u001b[0m\u001b[0;34m,\u001b[0m \u001b[0maxis\u001b[0m\u001b[0;34m,\u001b[0m \u001b[0mdtype\u001b[0m\u001b[0;34m,\u001b[0m \u001b[0mout\u001b[0m\u001b[0;34m,\u001b[0m \u001b[0;34m**\u001b[0m\u001b[0mpasskwargs\u001b[0m\u001b[0;34m)\u001b[0m\u001b[0;34m\u001b[0m\u001b[0;34m\u001b[0m\u001b[0m\n\u001b[0m\u001b[1;32m     91\u001b[0m \u001b[0;34m\u001b[0m\u001b[0m\n\u001b[1;32m     92\u001b[0m \u001b[0;34m\u001b[0m\u001b[0m\n",
            "\u001b[0;31mTypeError\u001b[0m: 'numpy.float64' object cannot be interpreted as an integer"
          ]
        }
      ]
    },
    {
      "cell_type": "markdown",
      "metadata": {
        "id": "t3U7TGl2icNm",
        "colab_type": "text"
      },
      "source": [
        "### **1. Plot the loss curve**"
      ]
    },
    {
      "cell_type": "code",
      "metadata": {
        "id": "_TpBzAaCiVhd",
        "colab_type": "code",
        "outputId": "aca88546-272d-4b32-d2ab-2365b98b682f",
        "colab": {
          "base_uri": "https://localhost:8080/",
          "height": 319
        }
      },
      "source": [
        "fig = plt.figure()\n",
        "print(train_costs)\n",
        "graph1 = plt.plot(iters, train_costs, 'b')\n",
        "graph2 = plt.plot(iters, test_costs, 'r')\n",
        "plt.xlabel('iterations')\n",
        "plt.ylabel('loss')\n",
        "plt.show()"
      ],
      "execution_count": 0,
      "outputs": [
        {
          "output_type": "stream",
          "text": [
            "deque([7.021563122164063, nan, nan, nan, nan, nan, nan, nan, nan, nan, nan, nan, nan, nan, nan, nan, nan, nan, nan, nan, nan, nan, nan, nan, nan, nan, nan, nan, nan, nan, nan, nan, nan, nan, nan, nan, nan, nan, nan, nan, nan, nan, nan, nan, nan, nan, nan, nan, nan, nan, nan, nan, nan, nan, nan, nan, nan, nan, nan, nan, nan, nan, nan, nan, nan, nan, nan, nan, nan, nan, nan, nan, nan, nan, nan, nan, nan, nan, nan, nan, nan, nan, nan, nan, nan, nan, nan, nan, nan, nan, nan, nan, nan, nan, nan, nan, nan, nan, nan, nan])\n"
          ],
          "name": "stdout"
        },
        {
          "output_type": "display_data",
          "data": {
            "image/png": "[encoded data removed]",
            "text/plain": [
              "<Figure size 432x288 with 1 Axes>"
            ]
          },
          "metadata": {
            "tags": [],
            "needs_background": "light"
          }
        }
      ]
    },
    {
      "cell_type": "code",
      "metadata": {
        "id": "zPQCFoVlIzSB",
        "colab_type": "code",
        "colab": {
          "base_uri": "https://localhost:8080/",
          "height": 245
        },
        "outputId": "a7346945-a121-44d7-9efc-e6a299c7f767"
      },
      "source": [
        "fig = plt.figure()\n",
        "print(\"theta,bias\")\n",
        "graph1 = plt.plot(iters, theta_0s, 'b')\n",
        "graph2 = plt.plot(iters, bias_0s, 'r')\n",
        "plt.xlabel('iterations')\n",
        "plt.ylabel('unknown')\n",
        "plt.show()"
      ],
      "execution_count": 1,
      "outputs": [
        {
          "output_type": "error",
          "ename": "NameError",
          "evalue": "ignored",
          "traceback": [
            "\u001b[0;31m---------------------------------------------------------------------------\u001b[0m",
            "\u001b[0;31mNameError\u001b[0m                                 Traceback (most recent call last)",
            "\u001b[0;32m<ipython-input-1-a0bc64656bc0>\u001b[0m in \u001b[0;36m<module>\u001b[0;34m()\u001b[0m\n\u001b[0;32m----> 1\u001b[0;31m \u001b[0mfig\u001b[0m \u001b[0;34m=\u001b[0m \u001b[0mplt\u001b[0m\u001b[0;34m.\u001b[0m\u001b[0mfigure\u001b[0m\u001b[0;34m(\u001b[0m\u001b[0;34m)\u001b[0m\u001b[0;34m\u001b[0m\u001b[0;34m\u001b[0m\u001b[0m\n\u001b[0m\u001b[1;32m      2\u001b[0m \u001b[0mprint\u001b[0m\u001b[0;34m(\u001b[0m\u001b[0;34m\"theta,bias\"\u001b[0m\u001b[0;34m)\u001b[0m\u001b[0;34m\u001b[0m\u001b[0;34m\u001b[0m\u001b[0m\n\u001b[1;32m      3\u001b[0m \u001b[0mgraph1\u001b[0m \u001b[0;34m=\u001b[0m \u001b[0mplt\u001b[0m\u001b[0;34m.\u001b[0m\u001b[0mplot\u001b[0m\u001b[0;34m(\u001b[0m\u001b[0miters\u001b[0m\u001b[0;34m,\u001b[0m \u001b[0mtheta_0s\u001b[0m\u001b[0;34m,\u001b[0m \u001b[0;34m'b'\u001b[0m\u001b[0;34m)\u001b[0m\u001b[0;34m\u001b[0m\u001b[0;34m\u001b[0m\u001b[0m\n\u001b[1;32m      4\u001b[0m \u001b[0mgraph2\u001b[0m \u001b[0;34m=\u001b[0m \u001b[0mplt\u001b[0m\u001b[0;34m.\u001b[0m\u001b[0mplot\u001b[0m\u001b[0;34m(\u001b[0m\u001b[0miters\u001b[0m\u001b[0;34m,\u001b[0m \u001b[0mbias_0s\u001b[0m\u001b[0;34m,\u001b[0m \u001b[0;34m'r'\u001b[0m\u001b[0;34m)\u001b[0m\u001b[0;34m\u001b[0m\u001b[0;34m\u001b[0m\u001b[0m\n\u001b[1;32m      5\u001b[0m \u001b[0mplt\u001b[0m\u001b[0;34m.\u001b[0m\u001b[0mxlabel\u001b[0m\u001b[0;34m(\u001b[0m\u001b[0;34m'iterations'\u001b[0m\u001b[0;34m)\u001b[0m\u001b[0;34m\u001b[0m\u001b[0;34m\u001b[0m\u001b[0m\n",
            "\u001b[0;31mNameError\u001b[0m: name 'plt' is not defined"
          ]
        }
      ]
    },
    {
      "cell_type": "markdown",
      "metadata": {
        "id": "wYAIbkRpjUNZ",
        "colab_type": "text"
      },
      "source": [
        "<br>\n",
        "<br>\n",
        "<br>\n",
        "<br>\n",
        "<br>\n",
        "<br>\n",
        "<br>\n",
        "<br>\n",
        "<br>\n",
        "<br>\n"
      ]
    },
    {
      "cell_type": "markdown",
      "metadata": {
        "id": "hbvpbieUigAI",
        "colab_type": "text"
      },
      "source": [
        "### **2. Plot the accuracy curve**"
      ]
    },
    {
      "cell_type": "code",
      "metadata": {
        "id": "_WepyFzxik6n",
        "colab_type": "code",
        "outputId": "10c2b8b2-74fd-4b40-d005-e831596939c5",
        "colab": {
          "base_uri": "https://localhost:8080/",
          "height": 279
        }
      },
      "source": [
        "fig = plt.figure()\n",
        "graph3 = plt.plot(iters, train_accuracys, 'b')\n",
        "graph4 = plt.plot(iters, test_accuracys, 'r')\n",
        "plt.xlabel('iterations')\n",
        "plt.ylabel('loss')\n",
        "plt.show()"
      ],
      "execution_count": 0,
      "outputs": [
        {
          "output_type": "display_data",
          "data": {
            "image/png": "[encoded data removed]",
            "text/plain": [
              "<Figure size 432x288 with 1 Axes>"
            ]
          },
          "metadata": {
            "tags": [],
            "needs_background": "light"
          }
        }
      ]
    },
    {
      "cell_type": "markdown",
      "metadata": {
        "id": "CcYJkW0ZvIBq",
        "colab_type": "text"
      },
      "source": [
        "### **3. Plot the accuracy value**"
      ]
    },
    {
      "cell_type": "code",
      "metadata": {
        "id": "_I-fWRNFvQEv",
        "colab_type": "code",
        "outputId": "9a8cfa00-6d18-4db4-ffde-ff0919aefc2d",
        "colab": {
          "base_uri": "https://localhost:8080/",
          "height": 53
        }
      },
      "source": [
        "final_train_accuracy = train_accuracys[-1]\n",
        "final_test_accuracy = test_accuracys[-1]\n",
        "print(\"final_train_accuracys :\", final_train_accuracy,\"%\")\n",
        "print(\"final_test_accuracys :\", final_test_accuracy,\"%\")"
      ],
      "execution_count": 0,
      "outputs": [
        {
          "output_type": "stream",
          "text": [
            "final_train_accuracys : 0.095 %\n",
            "final_test_accuracys : 0.10255555555555555 %\n"
          ],
          "name": "stdout"
        }
      ]
    },
    {
      "cell_type": "markdown",
      "metadata": {
        "id": "v1k8NptSxNFy",
        "colab_type": "text"
      },
      "source": [
        "### **4. Plot the classification example**"
      ]
    },
    {
      "cell_type": "code",
      "metadata": {
        "id": "lVBi79mqxQGY",
        "colab_type": "code",
        "outputId": "8eb6da68-eb52-4794-ef55-5694dd239c63",
        "colab": {
          "base_uri": "https://localhost:8080/",
          "height": 529
        }
      },
      "source": [
        "f2 = plt.figure(2)\n",
        "im_correct  = np.zeros((size_row * size_col, 10), dtype=float)\n",
        "print(correct_labels)\n",
        "print(correct_labels[0][1])\n",
        "print(incorrect_labels)\n",
        "label_correct_index = []\n",
        "label_incorrect_index = []\n",
        "\n",
        "for i in range(10):\n",
        "    correct_index = correct_labels[0][i]\n",
        "    im_correct[:, i] += test_image[:, correct_index]\n",
        "    label_correct_index.append(test_label[correct_index])\n",
        "\n",
        "for i in range(10):\n",
        "    plt.subplot(2, 5, i+1)\n",
        "    plt.title(label_correct_index[i])\n",
        "    plt.imshow(im_correct[:,i].reshape((size_row, size_col)), cmap='Greys', interpolation='None')\n",
        "\n",
        "    frame   = plt.gca()\n",
        "    frame.axes.get_xaxis().set_visible(False)\n",
        "    frame.axes.get_yaxis().set_visible(False)\n",
        "plt.show()\n",
        "###################################################\n",
        "print(incorrect_predicts)\n",
        "\n",
        "f2 = plt.figure(2)\n",
        "im_incorrect  = np.zeros((size_row * size_col, 10), dtype=float)\n",
        "\n",
        "for i in range(10):\n",
        "    incorrect_index = incorrect_labels[0][i]\n",
        "    im_incorrect[:, i] += test_image[:, incorrect_index]\n",
        "    label_incorrect_index.append(test_label[incorrect_index])\n",
        "\n",
        "for i in range(10):\n",
        "    plt.subplot(2, 5, i+1)\n",
        "    value = incorrect_predicts[0][i]\n",
        "    plt.title(value)\n",
        "    plt.imshow(im_incorrect[:,i].reshape((size_row, size_col)), cmap='Greys', interpolation='None')\n",
        "\n",
        "    frame   = plt.gca()\n",
        "    frame.axes.get_xaxis().set_visible(False)\n",
        "    frame.axes.get_yaxis().set_visible(False)\n",
        "plt.show()"
      ],
      "execution_count": 0,
      "outputs": [
        {
          "output_type": "stream",
          "text": [
            "deque([[8, 14, 25, 30, 44, 48, 58, 88, 90, 108], [1, 9, 34, 47, 61, 84, 94, 121, 148, 154], [1, 9, 34, 47, 61, 84, 94, 121, 148, 154], [6, 12, 21, 39, 55, 91, 96, 100, 104, 110], [2, 16, 31, 36, 49, 50, 53, 56, 65, 76], [10, 15, 42, 57, 59, 66, 67, 69, 77, 78], [4, 8, 11, 19, 25, 27, 30, 37, 38, 40], [1, 9, 34, 47, 61, 84, 94, 121, 148, 154], [3, 22, 32, 41, 46, 70, 73, 82, 87, 89], [14, 17, 35, 44, 79, 85, 99, 106, 108, 123], [1, 9, 34, 47, 61, 84, 94, 121, 148, 154], [1, 9, 34, 47, 61, 84, 94, 121, 148, 175], [1, 6, 12, 21, 39, 45, 55, 81, 90, 91], [65, 66, 67, 69, 95, 114, 127, 128, 134, 138], [4, 8, 11, 19, 25, 27, 30, 37, 38, 54], [2, 16, 31, 35, 36, 49, 50, 56, 65, 76], [1, 9, 34, 47, 61, 84, 94, 121, 148, 154], [1, 9, 34, 47, 61, 84, 94, 121, 148, 154], [1, 9, 34, 47, 61, 84, 94, 121, 148, 154], [1, 9, 34, 47, 61, 84, 94, 121, 148, 154], [1, 9, 10, 15, 23, 24, 43, 57, 59, 77], [10, 15, 42, 57, 59, 66, 69, 77, 78, 111], [4, 8, 11, 19, 25, 27, 30, 38, 54, 55], [7, 26, 34, 46, 52, 61, 68, 94, 101, 125], [3, 22, 32, 41, 46, 61, 70, 73, 82, 87], [1, 2, 9, 34, 36, 49, 50, 56, 61, 65], [2, 56, 65, 66, 67, 69, 79, 81, 90, 138], [10, 15, 17, 35, 79, 85, 99, 104, 106, 126], [10, 15, 26, 43, 56, 65, 68, 81, 87, 93], [4, 11, 27, 32, 38, 46, 65, 73, 75, 94], [0, 10, 15, 36, 45, 49, 56, 57, 63, 65], [7, 9, 11, 26, 94, 104, 117, 125, 139, 170], [4, 11, 27, 32, 38, 46, 54, 65, 75, 94], [32, 56, 65, 68, 69, 79, 99, 118, 119, 126], [10, 15, 22, 32, 43, 46, 57, 63, 77, 78], [4, 11, 14, 65, 69, 79, 90, 99, 119, 126], [4, 11, 26, 32, 38, 65, 68, 75, 93, 94], [11, 42, 63, 65, 66, 69, 79, 90, 108, 119], [4, 11, 32, 38, 46, 54, 63, 65, 73, 75], [10, 11, 14, 17, 65, 66, 68, 69, 79, 99], [4, 11, 32, 38, 46, 65, 73, 75, 94, 111], [10, 11, 42, 57, 63, 65, 66, 69, 79, 81], [4, 11, 17, 32, 38, 46, 54, 65, 68, 75], [10, 11, 32, 43, 57, 63, 65, 66, 69, 81], [4, 11, 17, 32, 38, 65, 75, 79, 94, 126], [10, 11, 32, 42, 57, 63, 65, 69, 79, 87], [4, 11, 17, 32, 38, 65, 75, 79, 94, 126], [10, 11, 15, 32, 42, 43, 57, 63, 65, 79], [4, 11, 17, 32, 38, 65, 75, 79, 89, 94], [10, 11, 15, 32, 42, 43, 57, 63, 65, 79], [4, 11, 32, 38, 63, 65, 75, 79, 89, 94], [10, 11, 15, 32, 42, 43, 63, 65, 73, 79], [4, 11, 32, 38, 63, 65, 75, 79, 89, 94], [10, 11, 32, 42, 43, 63, 65, 73, 79, 87], [4, 10, 11, 32, 38, 63, 65, 75, 79, 89], [4, 10, 11, 32, 38, 63, 65, 73, 79, 87], [4, 10, 11, 32, 38, 63, 65, 75, 79, 89], [4, 10, 11, 32, 38, 63, 65, 73, 79, 90], [4, 10, 11, 32, 38, 63, 65, 75, 79, 82], [4, 10, 11, 32, 38, 63, 65, 73, 79, 90], [4, 10, 11, 32, 38, 63, 65, 75, 79, 82], [4, 10, 11, 32, 38, 63, 65, 73, 79, 90], [4, 10, 11, 32, 38, 63, 65, 73, 75, 79], [4, 10, 11, 38, 63, 65, 79, 94, 117, 119], [4, 10, 11, 32, 38, 63, 65, 73, 75, 79], [4, 10, 11, 38, 63, 65, 73, 79, 94, 117], [4, 10, 11, 32, 38, 63, 65, 73, 75, 79], [4, 10, 11, 38, 63, 65, 73, 79, 94, 117], [4, 10, 11, 32, 38, 63, 65, 73, 75, 79], [4, 10, 11, 38, 63, 65, 79, 94, 117, 119], [4, 10, 11, 38, 63, 65, 73, 75, 79, 89], [4, 10, 11, 38, 63, 65, 73, 79, 89, 94], [4, 10, 11, 38, 63, 65, 73, 75, 79, 89], [4, 10, 11, 38, 63, 65, 73, 79, 84, 89], [10, 11, 38, 63, 65, 73, 75, 79, 89, 94], [10, 11, 38, 56, 63, 65, 73, 79, 84, 89], [10, 11, 38, 63, 65, 73, 75, 79, 89, 94], [10, 11, 38, 63, 65, 73, 75, 79, 84, 89], [10, 11, 38, 63, 65, 73, 75, 79, 84, 89], [10, 11, 38, 63, 65, 73, 75, 79, 84, 89], [10, 11, 38, 63, 65, 73, 75, 79, 84, 89], [10, 11, 38, 63, 65, 73, 75, 79, 84, 89], [10, 11, 38, 63, 65, 73, 75, 79, 84, 89], [10, 11, 38, 63, 65, 73, 75, 79, 84, 89], [10, 11, 38, 63, 65, 73, 75, 79, 82, 84], [10, 11, 38, 63, 65, 73, 75, 79, 84, 89], [10, 11, 38, 56, 63, 65, 73, 75, 79, 82], [10, 11, 38, 63, 65, 73, 75, 79, 84, 89], [10, 11, 38, 56, 63, 65, 73, 75, 79, 82], [10, 11, 38, 63, 65, 73, 75, 79, 84, 89], [10, 11, 38, 56, 63, 65, 73, 75, 79, 82], [10, 11, 38, 63, 65, 73, 75, 79, 84, 89], [10, 11, 38, 56, 63, 65, 73, 75, 79, 84], [10, 11, 38, 63, 65, 73, 75, 79, 84, 89], [10, 11, 38, 56, 63, 65, 73, 75, 79, 84], [10, 11, 38, 63, 65, 73, 75, 79, 84, 89], [10, 11, 38, 56, 63, 65, 73, 75, 79, 84], [10, 11, 38, 63, 65, 73, 75, 79, 84, 94], [10, 11, 38, 56, 63, 65, 73, 75, 79, 84], [10, 11, 38, 56, 63, 65, 73, 75, 79, 84], [2, 18, 52, 69, 70, 79, 83, 88, 104, 123], [1, 9, 34, 47, 61, 84, 94, 121, 148, 188], [10, 15, 23, 24, 43, 51, 57, 59, 60, 77], [10, 15, 23, 24, 43, 51, 57, 59, 60, 77], [20, 28, 42, 62, 66, 67, 69, 72, 92, 95], [6, 12, 39, 55, 65, 71, 91, 100, 104, 117], [1, 9, 34, 47, 61, 84, 94, 121, 148, 154], [7, 18, 26, 29, 33, 52, 68, 74, 93, 101], [2, 16, 31, 36, 49, 50, 53, 56, 64, 65], [3, 22, 32, 41, 46, 70, 73, 82, 87, 89], [1, 9, 15, 24, 34, 43, 57, 59, 61, 77], [10, 15, 23, 24, 43, 51, 57, 59, 60, 77], [6, 12, 21, 39, 55, 71, 91, 96, 100, 104], [20, 28, 42, 62, 66, 67, 69, 72, 92, 95], [4, 8, 11, 19, 25, 27, 30, 37, 38, 40], [1, 9, 34, 61, 84, 94, 121, 148, 170, 188], [7, 34, 52, 61, 94, 101, 121, 148, 170, 176], [2, 16, 31, 36, 49, 50, 53, 56, 64, 65], [0, 5, 13, 45, 48, 58, 63, 81, 86, 88], [10, 15, 17, 23, 43, 44, 51, 57, 60, 77], [14, 17, 35, 44, 79, 99, 104, 108, 122, 126], [4, 9, 11, 27, 34, 42, 69, 75, 84, 117], [4, 8, 11, 19, 25, 27, 30, 37, 38, 54], [14, 17, 35, 56, 65, 79, 106, 138, 151, 155], [3, 22, 32, 41, 43, 46, 70, 73, 82, 87], [10, 15, 42, 57, 66, 67, 94, 111, 127, 140], [1, 6, 12, 31, 39, 50, 55, 65, 71, 100], [9, 18, 26, 29, 50, 56, 61, 65, 68, 93], [45, 63, 65, 81, 90, 94, 104, 117, 119, 126], [4, 11, 18, 26, 30, 38, 65, 68, 75, 93], [10, 11, 15, 56, 57, 63, 65, 82, 94, 111], [4, 8, 11, 19, 25, 27, 30, 32, 38, 46], [10, 14, 15, 17, 35, 46, 65, 79, 99, 104], [10, 15, 32, 43, 56, 57, 65, 87, 90, 111], [66, 68, 94, 117, 125, 126, 133, 141, 164, 171], [4, 11, 32, 38, 42, 57, 63, 65, 69, 73], [11, 17, 65, 68, 79, 94, 99, 104, 126, 155], [4, 11, 27, 32, 38, 54, 57, 65, 75, 97], [32, 46, 63, 65, 73, 82, 87, 89, 90, 94], [10, 11, 17, 42, 56, 65, 69, 79, 99, 106], [4, 11, 27, 32, 38, 46, 54, 65, 75, 94], [2, 17, 32, 56, 63, 65, 66, 69, 79, 81], [4, 10, 11, 15, 32, 38, 46, 65, 68, 79], [4, 11, 17, 38, 63, 65, 69, 75, 79, 89], [4, 10, 11, 32, 38, 46, 65, 73, 82, 87], [4, 11, 38, 63, 65, 69, 75, 79, 111, 117], [1, 4, 10, 11, 32, 38, 65, 73, 79, 82], [4, 11, 38, 56, 63, 65, 69, 75, 79, 111], [4, 10, 11, 32, 38, 65, 79, 82, 94, 111], [4, 11, 38, 56, 63, 65, 69, 75, 79, 94], [4, 10, 11, 32, 38, 65, 79, 94, 111, 119], [4, 10, 11, 38, 56, 63, 65, 69, 75, 79], [4, 10, 11, 32, 38, 65, 79, 82, 94, 111], [4, 10, 11, 38, 56, 63, 65, 69, 75, 79], [4, 10, 11, 32, 38, 65, 79, 82, 94, 119], [4, 10, 11, 38, 56, 63, 65, 69, 75, 79], [1, 4, 10, 11, 32, 38, 65, 73, 79, 82], [4, 10, 11, 38, 56, 63, 65, 75, 79, 87], [4, 10, 11, 32, 38, 65, 73, 79, 82, 94], [4, 10, 11, 38, 56, 63, 65, 75, 79, 84], [4, 10, 11, 32, 38, 56, 65, 73, 79, 94], [4, 10, 11, 38, 56, 63, 65, 75, 79, 87], [4, 10, 11, 32, 38, 56, 65, 73, 75, 79], [4, 10, 11, 32, 38, 56, 63, 65, 75, 79], [4, 10, 11, 32, 38, 56, 63, 65, 73, 79], [4, 10, 11, 32, 38, 56, 63, 65, 75, 79], [4, 10, 11, 32, 38, 56, 63, 65, 73, 75], [10, 11, 32, 38, 56, 63, 65, 75, 79, 94], [10, 11, 32, 38, 56, 63, 65, 73, 75, 79], [10, 11, 38, 56, 63, 65, 75, 79, 94, 117], [10, 11, 32, 38, 56, 63, 65, 73, 75, 79], [10, 11, 38, 56, 63, 65, 75, 79, 89, 94], [10, 11, 32, 38, 56, 63, 65, 73, 75, 79], [10, 11, 32, 38, 56, 63, 65, 75, 79, 84], [10, 11, 32, 38, 56, 63, 65, 73, 75, 79], [10, 11, 32, 38, 56, 63, 65, 75, 79, 89], [10, 11, 32, 38, 56, 63, 65, 73, 75, 79], [11, 32, 38, 56, 63, 65, 75, 79, 84, 89], [11, 32, 38, 56, 63, 65, 73, 75, 79, 84], [11, 32, 38, 56, 63, 65, 75, 79, 84, 89], [11, 32, 38, 56, 63, 65, 73, 75, 79, 84], [11, 32, 38, 56, 63, 65, 75, 79, 84, 89], [11, 32, 38, 56, 63, 65, 73, 75, 79, 84], [11, 32, 38, 56, 63, 65, 75, 79, 84, 89], [11, 32, 38, 56, 63, 65, 75, 79, 84, 89], [11, 32, 38, 56, 63, 65, 75, 79, 84, 89], [11, 32, 38, 56, 63, 65, 75, 79, 84, 89], [11, 32, 38, 56, 63, 65, 66, 75, 79, 84], [11, 32, 38, 56, 63, 65, 66, 75, 79, 84], [10, 11, 32, 38, 56, 63, 65, 66, 75, 79], [11, 32, 38, 56, 63, 65, 66, 75, 79, 84], [10, 11, 32, 38, 56, 63, 65, 66, 75, 79], [10, 11, 32, 38, 56, 63, 65, 66, 75, 79], [10, 11, 32, 38, 56, 63, 65, 66, 75, 79], [10, 11, 32, 38, 56, 63, 65, 66, 75, 79], [10, 11, 32, 38, 56, 63, 65, 66, 75, 79], [10, 11, 32, 38, 56, 63, 65, 66, 75, 79], [10, 11, 32, 38, 56, 63, 65, 66, 75, 79], [10, 11, 32, 38, 56, 63, 65, 66, 75, 79], [10, 11, 32, 38, 56, 63, 65, 66, 75, 79]])\n",
            "14\n",
            "deque([[0, 2, 3, 4, 5, 6, 7, 8, 10, 11], [0, 2, 3, 4, 5, 6, 7, 8, 10, 11], [0, 1, 2, 3, 4, 5, 7, 8, 9, 10], [0, 1, 3, 4, 5, 6, 7, 8, 9, 10], [0, 1, 2, 3, 4, 5, 6, 7, 8, 9], [0, 1, 2, 3, 5, 6, 7, 9, 10, 12], [0, 2, 3, 4, 5, 6, 7, 8, 10, 11], [0, 1, 2, 4, 5, 6, 7, 8, 9, 10], [0, 1, 2, 3, 4, 5, 6, 7, 8, 9], [0, 2, 3, 4, 5, 6, 7, 8, 10, 11], [0, 2, 3, 4, 5, 6, 7, 8, 10, 11], [0, 1, 2, 3, 4, 5, 6, 7, 8, 9], [0, 1, 2, 3, 4, 5, 6, 7, 8, 9], [0, 1, 2, 3, 5, 6, 7, 8, 9, 10], [0, 1, 3, 4, 5, 6, 7, 8, 9, 10], [0, 2, 3, 4, 5, 6, 7, 8, 10, 11], [0, 2, 3, 4, 5, 6, 7, 8, 10, 11], [0, 2, 3, 4, 5, 6, 7, 8, 10, 11], [0, 2, 3, 4, 5, 6, 7, 8, 10, 11], [0, 2, 3, 4, 5, 6, 7, 8, 9, 10], [0, 1, 2, 3, 4, 5, 6, 7, 8, 9], [0, 1, 2, 3, 5, 6, 7, 8, 9, 10], [0, 2, 3, 4, 5, 6, 7, 8, 9, 10], [0, 1, 2, 4, 5, 6, 7, 8, 9, 10], [0, 1, 3, 4, 5, 6, 7, 8, 10, 11], [0, 1, 2, 3, 4, 5, 6, 7, 8, 9], [0, 1, 2, 3, 4, 5, 6, 7, 8, 9], [0, 1, 2, 3, 4, 5, 6, 7, 8, 9], [0, 2, 4, 5, 6, 7, 8, 9, 10, 11], [0, 1, 2, 3, 4, 5, 6, 7, 8, 9], [0, 1, 2, 3, 4, 5, 6, 7, 8, 9], [0, 1, 2, 3, 4, 5, 6, 7, 8, 9], [0, 1, 2, 3, 4, 5, 6, 7, 8, 9], [0, 1, 2, 3, 4, 5, 6, 7, 8, 9], [0, 1, 2, 3, 4, 5, 6, 7, 8, 9], [0, 1, 2, 3, 4, 5, 6, 7, 8, 9], [0, 1, 2, 3, 4, 5, 6, 7, 8, 9], [0, 1, 2, 3, 4, 5, 6, 7, 8, 9], [0, 1, 2, 3, 4, 5, 6, 7, 8, 9], [0, 1, 2, 3, 4, 5, 6, 7, 8, 9], [0, 1, 2, 3, 4, 5, 6, 7, 8, 9], [0, 1, 2, 3, 4, 5, 6, 7, 8, 9], [0, 1, 2, 3, 4, 5, 6, 7, 8, 9], [0, 1, 2, 3, 4, 5, 6, 7, 8, 9], [0, 1, 2, 3, 4, 5, 6, 7, 8, 9], [0, 1, 2, 3, 4, 5, 6, 7, 8, 9], [0, 1, 2, 3, 4, 5, 6, 7, 8, 9], [0, 1, 2, 3, 4, 5, 6, 7, 8, 9], [0, 1, 2, 3, 4, 5, 6, 7, 8, 9], [0, 1, 2, 3, 4, 5, 6, 7, 8, 9], [0, 1, 2, 3, 4, 5, 6, 7, 8, 9], [0, 1, 2, 3, 4, 5, 6, 7, 8, 9], [0, 1, 2, 3, 4, 5, 6, 7, 8, 9], [0, 1, 2, 3, 4, 5, 6, 7, 8, 9], [0, 1, 2, 3, 4, 5, 6, 7, 8, 9], [0, 1, 2, 3, 4, 5, 6, 7, 8, 9], [0, 1, 2, 3, 4, 5, 6, 7, 8, 9], [0, 1, 2, 3, 4, 5, 6, 7, 8, 9], [0, 1, 2, 3, 4, 5, 6, 7, 8, 9], [0, 1, 2, 3, 4, 5, 6, 7, 8, 9], [0, 1, 2, 3, 4, 5, 6, 7, 8, 9], [0, 1, 2, 3, 4, 5, 6, 7, 8, 9], [0, 1, 2, 3, 4, 5, 6, 7, 8, 9], [0, 1, 2, 3, 4, 5, 6, 7, 8, 9], [0, 1, 2, 3, 4, 5, 6, 7, 8, 9], [0, 1, 2, 3, 4, 5, 6, 7, 8, 9], [0, 1, 2, 3, 4, 5, 6, 7, 8, 9], [0, 1, 2, 3, 4, 5, 6, 7, 8, 9], [0, 1, 2, 3, 4, 5, 6, 7, 8, 9], [0, 1, 2, 3, 4, 5, 6, 7, 8, 9], [0, 1, 2, 3, 4, 5, 6, 7, 8, 9], [0, 1, 2, 3, 4, 5, 6, 7, 8, 9], [0, 1, 2, 3, 4, 5, 6, 7, 8, 9], [0, 1, 2, 3, 4, 5, 6, 7, 8, 9], [0, 1, 2, 3, 4, 5, 6, 7, 8, 9], [0, 1, 2, 3, 4, 5, 6, 7, 8, 9], [0, 1, 2, 3, 4, 5, 6, 7, 8, 9], [0, 1, 2, 3, 4, 5, 6, 7, 8, 9], [0, 1, 2, 3, 4, 5, 6, 7, 8, 9], [0, 1, 2, 3, 4, 5, 6, 7, 8, 9], [0, 1, 2, 3, 4, 5, 6, 7, 8, 9], [0, 1, 2, 3, 4, 5, 6, 7, 8, 9], [0, 1, 2, 3, 4, 5, 6, 7, 8, 9], [0, 1, 2, 3, 4, 5, 6, 7, 8, 9], [0, 1, 2, 3, 4, 5, 6, 7, 8, 9], [0, 1, 2, 3, 4, 5, 6, 7, 8, 9], [0, 1, 2, 3, 4, 5, 6, 7, 8, 9], [0, 1, 2, 3, 4, 5, 6, 7, 8, 9], [0, 1, 2, 3, 4, 5, 6, 7, 8, 9], [0, 1, 2, 3, 4, 5, 6, 7, 8, 9], [0, 1, 2, 3, 4, 5, 6, 7, 8, 9], [0, 1, 2, 3, 4, 5, 6, 7, 8, 9], [0, 1, 2, 3, 4, 5, 6, 7, 8, 9], [0, 1, 2, 3, 4, 5, 6, 7, 8, 9], [0, 1, 2, 3, 4, 5, 6, 7, 8, 9], [0, 1, 2, 3, 4, 5, 6, 7, 8, 9], [0, 1, 2, 3, 4, 5, 6, 7, 8, 9], [0, 1, 2, 3, 4, 5, 6, 7, 8, 9], [0, 1, 2, 3, 4, 5, 6, 7, 8, 9], [0, 1, 2, 3, 4, 5, 6, 7, 8, 9], [0, 2, 3, 4, 5, 6, 7, 8, 10, 11], [0, 1, 2, 3, 4, 5, 6, 7, 8, 9], [0, 1, 2, 3, 4, 5, 6, 7, 8, 9], [0, 1, 2, 3, 4, 5, 6, 7, 8, 9], [0, 1, 2, 3, 4, 5, 6, 7, 8, 9], [0, 2, 3, 4, 5, 6, 7, 8, 10, 11], [0, 1, 2, 3, 4, 5, 6, 8, 9, 10], [0, 1, 3, 4, 5, 6, 7, 8, 9, 10], [0, 1, 2, 4, 5, 6, 7, 8, 9, 10], [0, 2, 3, 4, 5, 6, 7, 8, 10, 11], [0, 1, 2, 3, 4, 5, 6, 7, 8, 9], [0, 1, 2, 3, 4, 5, 7, 8, 9, 10], [0, 1, 2, 3, 4, 5, 6, 7, 8, 9], [0, 1, 2, 3, 5, 6, 7, 9, 10, 12], [0, 2, 3, 4, 5, 6, 7, 8, 10, 11], [0, 2, 3, 4, 5, 6, 7, 8, 9, 10], [0, 1, 3, 4, 5, 6, 7, 8, 9, 10], [1, 2, 3, 4, 6, 7, 8, 9, 10, 11], [0, 1, 2, 3, 4, 5, 6, 7, 8, 9], [0, 1, 2, 3, 4, 5, 6, 7, 8, 9], [0, 2, 3, 4, 5, 6, 7, 8, 9, 10], [0, 1, 2, 3, 5, 6, 7, 8, 9, 10], [0, 1, 2, 3, 4, 5, 6, 7, 8, 9], [0, 1, 2, 4, 5, 6, 7, 8, 9, 10], [0, 2, 3, 4, 5, 6, 7, 8, 9, 10], [0, 1, 3, 4, 5, 6, 7, 8, 9, 10], [0, 1, 2, 3, 4, 5, 6, 7, 8, 9], [0, 1, 2, 3, 4, 5, 6, 7, 8, 9], [0, 1, 2, 3, 4, 5, 6, 8, 9, 10], [0, 1, 2, 3, 4, 5, 6, 7, 8, 9], [0, 1, 2, 4, 5, 6, 7, 8, 9, 10], [0, 1, 2, 3, 4, 5, 6, 7, 8, 9], [0, 1, 2, 3, 4, 5, 6, 7, 8, 9], [0, 2, 3, 4, 5, 6, 7, 8, 9, 10], [0, 1, 2, 3, 4, 5, 6, 7, 8, 9], [0, 1, 2, 3, 4, 5, 6, 7, 8, 9], [0, 1, 2, 3, 4, 5, 6, 7, 8, 9], [0, 1, 2, 4, 5, 6, 7, 8, 9, 10], [0, 1, 2, 3, 4, 5, 6, 7, 8, 9], [0, 1, 2, 3, 4, 5, 6, 7, 8, 9], [0, 1, 2, 3, 4, 5, 6, 7, 8, 9], [0, 1, 2, 3, 4, 5, 6, 7, 8, 9], [0, 1, 2, 3, 4, 5, 6, 7, 8, 9], [0, 2, 3, 4, 5, 6, 7, 8, 9, 10], [0, 1, 2, 3, 4, 5, 6, 7, 8, 9], [0, 1, 2, 3, 4, 5, 6, 7, 8, 9], [0, 1, 2, 3, 4, 5, 6, 7, 8, 9], [0, 1, 2, 3, 4, 5, 6, 7, 8, 9], [0, 1, 2, 3, 4, 5, 6, 7, 8, 9], [0, 1, 2, 3, 4, 5, 6, 7, 8, 9], [0, 1, 2, 3, 4, 5, 6, 7, 8, 9], [0, 1, 2, 3, 4, 5, 6, 7, 8, 9], [0, 1, 2, 3, 4, 5, 6, 7, 8, 9], [0, 1, 2, 3, 4, 5, 6, 7, 8, 9], [0, 1, 2, 3, 4, 5, 6, 7, 8, 9], [0, 1, 2, 3, 4, 5, 6, 7, 8, 9], [0, 1, 2, 3, 4, 5, 6, 7, 8, 9], [0, 1, 2, 3, 4, 5, 6, 7, 8, 9], [0, 1, 2, 3, 4, 5, 6, 7, 8, 9], [0, 1, 2, 3, 4, 5, 6, 7, 8, 9], [0, 1, 2, 3, 4, 5, 6, 7, 8, 9], [0, 1, 2, 3, 4, 5, 6, 7, 8, 9], [0, 1, 2, 3, 4, 5, 6, 7, 8, 9], [0, 1, 2, 3, 4, 5, 6, 7, 8, 9], [0, 1, 2, 3, 4, 5, 6, 7, 8, 9], [0, 1, 2, 3, 4, 5, 6, 7, 8, 9], [0, 1, 2, 3, 4, 5, 6, 7, 8, 9], [0, 1, 2, 3, 4, 5, 6, 7, 8, 9], [0, 1, 2, 3, 4, 5, 6, 7, 8, 9], [0, 1, 2, 3, 4, 5, 6, 7, 8, 9], [0, 1, 2, 3, 4, 5, 6, 7, 8, 9], [0, 1, 2, 3, 4, 5, 6, 7, 8, 9], [0, 1, 2, 3, 4, 5, 6, 7, 8, 9], [0, 1, 2, 3, 4, 5, 6, 7, 8, 9], [0, 1, 2, 3, 4, 5, 6, 7, 8, 9], [0, 1, 2, 3, 4, 5, 6, 7, 8, 9], [0, 1, 2, 3, 4, 5, 6, 7, 8, 9], [0, 1, 2, 3, 4, 5, 6, 7, 8, 9], [0, 1, 2, 3, 4, 5, 6, 7, 8, 9], [0, 1, 2, 3, 4, 5, 6, 7, 8, 9], [0, 1, 2, 3, 4, 5, 6, 7, 8, 9], [0, 1, 2, 3, 4, 5, 6, 7, 8, 9], [0, 1, 2, 3, 4, 5, 6, 7, 8, 9], [0, 1, 2, 3, 4, 5, 6, 7, 8, 9], [0, 1, 2, 3, 4, 5, 6, 7, 8, 9], [0, 1, 2, 3, 4, 5, 6, 7, 8, 9], [0, 1, 2, 3, 4, 5, 6, 7, 8, 9], [0, 1, 2, 3, 4, 5, 6, 7, 8, 9], [0, 1, 2, 3, 4, 5, 6, 7, 8, 9], [0, 1, 2, 3, 4, 5, 6, 7, 8, 9], [0, 1, 2, 3, 4, 5, 6, 7, 8, 9], [0, 1, 2, 3, 4, 5, 6, 7, 8, 9], [0, 1, 2, 3, 4, 5, 6, 7, 8, 9], [0, 1, 2, 3, 4, 5, 6, 7, 8, 9], [0, 1, 2, 3, 4, 5, 6, 7, 8, 9], [0, 1, 2, 3, 4, 5, 6, 7, 8, 9], [0, 1, 2, 3, 4, 5, 6, 7, 8, 9], [0, 1, 2, 3, 4, 5, 6, 7, 8, 9], [0, 1, 2, 3, 4, 5, 6, 7, 8, 9], [0, 1, 2, 3, 4, 5, 6, 7, 8, 9]])\n"
          ],
          "name": "stdout"
        },
        {
          "output_type": "display_data",
          "data": {
            "image/png": "[encoded data removed]",
            "text/plain": [
              "<Figure size 432x288 with 10 Axes>"
            ]
          },
          "metadata": {
            "tags": [],
            "needs_background": "light"
          }
        },
        {
          "output_type": "stream",
          "text": [
            "deque([[0, 0, 0, 0, 0, 0, 0, 0, 0, 0], [0, 0, 0, 0, 0, 0, 0, 0, 0, 0], [7, 7, 7, 0, 7, 7, 7, 7, 7, 7], [2, 2, 2, 2, 2, 2, 2, 2, 7, 2], [3, 4, 4, 3, 3, 3, 3, 3, 3, 3], [1, 1, 1, 1, 1, 1, 1, 1, 1, 1], [0, 0, 0, 0, 0, 0, 0, 0, 0, 0], [5, 5, 5, 5, 5, 5, 5, 5, 5, 5], [6, 6, 6, 6, 6, 6, 6, 6, 6, 6], [0, 0, 0, 0, 0, 0, 0, 0, 0, 0], [0, 0, 0, 0, 0, 0, 0, 0, 0, 0], [7, 9, 0, 0, 7, 7, 3, 7, 7, 7], [3, 4, 4, 3, 3, 2, 2, 3, 3, 3], [6, 1, 1, 1, 1, 1, 1, 8, 1, 1], [2, 2, 2, 2, 2, 2, 2, 2, 6, 2], [0, 0, 0, 0, 0, 0, 0, 0, 0, 0], [0, 0, 0, 0, 0, 0, 0, 0, 0, 0], [0, 0, 0, 0, 0, 0, 0, 0, 0, 0], [0, 0, 0, 0, 0, 0, 0, 0, 0, 0], [0, 0, 4, 4, 0, 3, 4, 4, 4, 0], [4, 4, 4, 3, 3, 3, 3, 4, 3, 3], [7, 1, 1, 1, 2, 1, 1, 9, 1, 1], [0, 8, 8, 0, 0, 0, 0, 0, 8, 0], [5, 5, 5, 5, 5, 5, 5, 5, 5, 5], [2, 2, 0, 2, 2, 2, 2, 2, 2, 0], [6, 9, 9, 3, 3, 2, 2, 2, 3, 3], [6, 6, 6, 4, 0, 6, 6, 0, 0, 7], [8, 8, 8, 4, 4, 2, 2, 4, 8, 4], [7, 1, 0, 2, 3, 0, 0, 7, 0, 0], [2, 9, 9, 4, 3, 2, 2, 4, 9, 3], [8, 8, 8, 0, 0, 8, 0, 0, 0, 8], [0, 9, 1, 4, 0, 2, 1, 0, 0, 4], [6, 8, 8, 8, 5, 2, 2, 2, 6, 7], [6, 9, 5, 4, 0, 0, 5, 4, 0, 4], [6, 9, 8, 4, 0, 2, 3, 0, 0, 7], [6, 8, 1, 4, 0, 2, 2, 4, 0, 4], [6, 9, 9, 0, 3, 3, 3, 9, 9, 7], [6, 9, 1, 4, 0, 2, 2, 0, 0, 9], [6, 8, 8, 4, 7, 2, 3, 4, 6, 7], [0, 9, 1, 4, 0, 2, 2, 0, 0, 9], [6, 9, 8, 4, 3, 2, 3, 4, 9, 9], [6, 9, 1, 4, 0, 2, 2, 0, 0, 9], [7, 9, 9, 4, 0, 2, 3, 4, 9, 4], [6, 8, 1, 4, 0, 2, 2, 0, 0, 9], [6, 9, 8, 4, 0, 2, 3, 4, 0, 4], [6, 8, 1, 4, 0, 2, 2, 0, 0, 9], [6, 9, 9, 4, 0, 2, 3, 4, 0, 4], [6, 9, 1, 4, 0, 2, 2, 0, 0, 9], [6, 9, 8, 4, 0, 2, 3, 4, 0, 4], [6, 8, 1, 4, 0, 2, 2, 0, 0, 9], [6, 9, 8, 4, 0, 2, 3, 4, 0, 4], [6, 9, 1, 4, 0, 2, 2, 0, 0, 9], [6, 9, 8, 4, 0, 2, 2, 4, 0, 4], [6, 9, 8, 4, 0, 2, 2, 0, 0, 9], [6, 9, 8, 4, 0, 2, 2, 4, 0, 4], [6, 9, 8, 4, 0, 2, 2, 0, 0, 9], [6, 9, 8, 4, 0, 2, 2, 4, 0, 4], [6, 9, 8, 4, 0, 2, 2, 0, 0, 4], [6, 9, 8, 4, 0, 2, 2, 4, 0, 4], [6, 9, 8, 4, 0, 2, 2, 0, 0, 4], [6, 9, 8, 4, 0, 2, 2, 4, 0, 4], [6, 9, 8, 4, 0, 2, 2, 4, 0, 4], [6, 9, 8, 4, 0, 2, 2, 4, 0, 4], [6, 9, 8, 4, 0, 2, 2, 4, 0, 4], [6, 9, 8, 4, 0, 2, 2, 4, 0, 4], [6, 9, 8, 4, 0, 2, 2, 4, 0, 4], [6, 9, 8, 4, 0, 2, 2, 4, 0, 4], [6, 9, 8, 4, 0, 2, 2, 4, 0, 4], [6, 9, 8, 4, 0, 2, 2, 4, 0, 4], [6, 9, 8, 4, 0, 2, 2, 4, 0, 4], [6, 9, 8, 4, 0, 2, 2, 4, 0, 4], [6, 9, 8, 4, 0, 2, 2, 4, 0, 4], [6, 9, 8, 4, 0, 2, 2, 4, 0, 4], [6, 9, 8, 4, 0, 2, 2, 4, 0, 4], [6, 9, 8, 4, 0, 2, 2, 4, 0, 4], [6, 9, 8, 4, 0, 2, 2, 4, 0, 4], [6, 9, 8, 4, 0, 2, 2, 4, 0, 4], [6, 9, 8, 4, 0, 2, 2, 4, 0, 4], [6, 9, 8, 4, 0, 2, 2, 0, 0, 4], [6, 9, 8, 4, 0, 2, 2, 4, 0, 4], [6, 9, 8, 4, 0, 2, 2, 0, 0, 4], [6, 9, 8, 4, 0, 2, 2, 0, 0, 4], [6, 9, 8, 4, 0, 2, 2, 0, 0, 4], [6, 9, 8, 4, 0, 2, 2, 0, 0, 4], [6, 9, 8, 4, 0, 2, 2, 0, 0, 4], [6, 9, 8, 4, 0, 2, 2, 0, 0, 4], [6, 9, 8, 4, 0, 2, 2, 0, 0, 4], [6, 9, 8, 4, 0, 2, 2, 0, 0, 4], [6, 9, 8, 4, 0, 2, 2, 0, 0, 4], [6, 9, 8, 4, 0, 2, 2, 0, 0, 4], [6, 9, 8, 4, 0, 2, 2, 0, 0, 4], [6, 9, 8, 4, 0, 2, 2, 0, 0, 4], [6, 9, 8, 4, 0, 2, 2, 0, 0, 4], [6, 9, 8, 4, 0, 2, 2, 0, 0, 4], [6, 9, 8, 4, 0, 2, 2, 0, 0, 4], [6, 9, 8, 4, 0, 2, 2, 0, 0, 4], [6, 9, 8, 4, 0, 2, 2, 0, 0, 4], [6, 9, 8, 4, 0, 2, 2, 0, 0, 4], [6, 9, 8, 4, 0, 2, 2, 0, 0, 4], [6, 9, 8, 4, 0, 2, 2, 0, 0, 4], [0, 0, 0, 0, 0, 0, 0, 0, 0, 0], [4, 4, 4, 4, 4, 4, 4, 4, 4, 4], [4, 4, 4, 4, 4, 4, 4, 4, 4, 4], [3, 3, 3, 3, 3, 3, 3, 3, 3, 3], [7, 7, 7, 7, 7, 2, 2, 7, 7, 7], [0, 0, 0, 0, 0, 0, 0, 0, 0, 0], [8, 8, 8, 8, 8, 8, 8, 8, 8, 8], [2, 2, 2, 2, 2, 2, 2, 2, 2, 2], [5, 5, 5, 5, 5, 5, 5, 5, 5, 5], [0, 0, 0, 4, 0, 0, 0, 4, 0, 4], [4, 4, 4, 4, 4, 4, 4, 4, 4, 4], [7, 7, 7, 7, 7, 7, 7, 7, 7, 7], [3, 3, 3, 3, 3, 3, 3, 3, 3, 3], [1, 1, 1, 1, 1, 1, 1, 1, 1, 1], [0, 0, 0, 0, 0, 0, 0, 0, 0, 0], [0, 8, 8, 0, 0, 0, 0, 0, 8, 0], [2, 2, 2, 2, 2, 2, 2, 2, 2, 2], [9, 9, 9, 9, 9, 9, 9, 9, 9, 9], [4, 4, 4, 4, 4, 4, 4, 4, 4, 4], [6, 6, 6, 6, 7, 6, 6, 6, 6, 7], [3, 1, 0, 3, 3, 3, 3, 3, 3, 0], [6, 1, 1, 1, 1, 1, 1, 3, 1, 1], [6, 6, 6, 6, 0, 2, 2, 2, 0, 6], [5, 5, 5, 5, 5, 5, 5, 0, 5, 0], [4, 4, 3, 0, 3, 3, 0, 0, 3, 0], [7, 7, 0, 7, 2, 2, 2, 7, 7, 7], [8, 8, 8, 8, 8, 2, 2, 2, 8, 8], [7, 9, 9, 0, 0, 2, 2, 0, 0, 7], [8, 8, 1, 8, 8, 2, 3, 8, 8, 1], [7, 9, 9, 4, 0, 2, 2, 0, 0, 3], [6, 1, 1, 5, 1, 1, 1, 6, 1, 1], [6, 6, 6, 4, 0, 2, 6, 0, 0, 7], [7, 9, 8, 4, 5, 2, 2, 4, 0, 4], [7, 8, 8, 0, 0, 3, 0, 0, 7, 0], [6, 9, 1, 4, 5, 2, 3, 4, 9, 4], [6, 8, 8, 6, 0, 2, 2, 0, 0, 7], [4, 9, 1, 4, 4, 2, 3, 4, 4, 4], [7, 9, 8, 0, 2, 2, 0, 0, 9, 0], [6, 6, 8, 4, 0, 2, 2, 4, 0, 4], [7, 9, 1, 4, 0, 2, 2, 4, 0, 4], [6, 9, 8, 4, 0, 2, 2, 9, 0, 9], [6, 8, 8, 4, 0, 2, 3, 4, 0, 4], [6, 9, 1, 6, 0, 2, 2, 9, 0, 9], [7, 8, 4, 0, 2, 3, 4, 0, 4, 0], [6, 9, 8, 4, 0, 2, 2, 4, 0, 9], [6, 9, 8, 4, 0, 2, 3, 4, 0, 4], [6, 9, 8, 4, 0, 2, 2, 4, 0, 9], [6, 9, 5, 4, 0, 2, 3, 4, 0, 4], [6, 9, 8, 4, 0, 2, 2, 4, 0, 9], [6, 9, 8, 4, 0, 2, 3, 4, 0, 4], [6, 8, 8, 4, 0, 2, 2, 4, 0, 9], [6, 9, 1, 4, 0, 2, 3, 4, 0, 4], [6, 9, 8, 4, 0, 2, 2, 4, 0, 9], [6, 9, 1, 4, 0, 2, 2, 4, 0, 4], [6, 9, 8, 4, 0, 2, 2, 4, 0, 9], [6, 9, 1, 4, 0, 2, 2, 4, 0, 4], [6, 9, 8, 4, 0, 2, 2, 4, 0, 4], [6, 9, 1, 4, 0, 2, 2, 4, 0, 4], [6, 9, 8, 4, 0, 2, 2, 4, 0, 4], [6, 9, 8, 4, 0, 2, 2, 4, 0, 4], [6, 9, 8, 4, 0, 2, 2, 4, 0, 4], [6, 9, 8, 4, 0, 2, 2, 4, 0, 4], [6, 9, 8, 4, 0, 2, 2, 4, 0, 4], [6, 9, 8, 4, 0, 2, 2, 4, 0, 4], [6, 9, 8, 4, 0, 2, 2, 4, 0, 4], [6, 9, 8, 4, 0, 2, 2, 4, 0, 4], [6, 9, 8, 4, 0, 2, 2, 4, 0, 4], [6, 9, 8, 4, 0, 2, 2, 4, 0, 4], [6, 9, 8, 4, 0, 2, 2, 4, 0, 4], [6, 9, 8, 4, 0, 2, 2, 4, 0, 4], [6, 9, 8, 4, 0, 2, 2, 4, 0, 4], [6, 9, 8, 4, 0, 2, 2, 4, 0, 4], [6, 9, 8, 4, 0, 2, 2, 4, 0, 4], [6, 9, 8, 4, 0, 2, 2, 4, 0, 4], [6, 9, 8, 4, 0, 2, 2, 4, 0, 4], [6, 9, 8, 4, 0, 2, 2, 4, 0, 4], [6, 9, 8, 4, 0, 2, 2, 4, 0, 4], [6, 9, 8, 4, 0, 2, 2, 4, 0, 4], [6, 9, 8, 4, 0, 2, 2, 4, 0, 4], [6, 9, 8, 4, 0, 2, 2, 4, 0, 4], [6, 9, 8, 4, 0, 2, 2, 4, 0, 4], [6, 9, 8, 4, 0, 2, 2, 0, 0, 4], [6, 9, 8, 4, 0, 2, 2, 0, 0, 4], [6, 9, 8, 4, 0, 2, 2, 0, 0, 4], [6, 9, 8, 4, 0, 2, 2, 0, 0, 4], [6, 9, 8, 4, 0, 2, 2, 0, 0, 4], [6, 9, 8, 4, 0, 2, 2, 0, 0, 4], [6, 9, 8, 4, 0, 2, 2, 0, 0, 4], [6, 9, 8, 4, 0, 2, 2, 0, 0, 4], [6, 9, 8, 4, 0, 2, 2, 0, 0, 4], [6, 9, 8, 4, 0, 2, 2, 0, 0, 4], [6, 9, 8, 4, 0, 2, 2, 0, 0, 4], [6, 9, 8, 4, 0, 2, 2, 0, 0, 4], [6, 9, 8, 4, 0, 2, 2, 0, 0, 4], [6, 9, 8, 4, 0, 2, 2, 0, 0, 4], [6, 9, 8, 4, 0, 2, 2, 0, 0, 4], [6, 9, 8, 4, 0, 2, 2, 0, 0, 4], [6, 9, 8, 4, 0, 2, 2, 0, 0, 4], [6, 9, 8, 4, 0, 2, 2, 0, 0, 4], [6, 9, 8, 4, 0, 2, 2, 0, 0, 4]])\n"
          ],
          "name": "stdout"
        },
        {
          "output_type": "display_data",
          "data": {
            "image/png": "[encoded data removed]",
            "text/plain": [
              "<Figure size 432x288 with 10 Axes>"
            ]
          },
          "metadata": {
            "tags": [],
            "needs_background": "light"
          }
        }
      ]
    }
  ]
}
