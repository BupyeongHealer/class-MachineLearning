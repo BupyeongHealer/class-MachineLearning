{
  "nbformat": 4,
  "nbformat_minor": 0,
  "metadata": {
    "colab": {
      "name": "Logistic regression with Regularization.ipynb",
      "provenance": [],
      "collapsed_sections": []
    },
    "kernelspec": {
      "name": "python3",
      "display_name": "Python 3"
    }
  },
  "cells": [
    {
      "cell_type": "markdown",
      "metadata": {
        "id": "sQy9EvTe1J6q",
        "colab_type": "text"
      },
      "source": [
        "### **Preparation**\n"
      ]
    },
    {
      "cell_type": "code",
      "metadata": {
        "id": "YgZQmLLx1HWI",
        "colab_type": "code",
        "colab": {}
      },
      "source": [
        "import matplotlib.pyplot as plt\n",
        "import numpy as np\n",
        "import copy\n",
        "import math\n",
        "import csv\n",
        "from collections import deque\n",
        "from google.colab import files"
      ],
      "execution_count": 0,
      "outputs": []
    },
    {
      "cell_type": "markdown",
      "metadata": {
        "id": "oDTD9ppr1OAX",
        "colab_type": "text"
      },
      "source": [
        "### **Input Data**\n",
        "load the training data file\n",
        "each row $\\{ (x^{(i)}, y^{(i)}, l^{(i)}) \\}$ of the data consists of a 2-dimensional point $(x, y)$ with its label $l$  \n",
        "$x, y \\in \\mathbb{R}$ and $l \\in \\{0, 1\\}$"
      ]
    },
    {
      "cell_type": "code",
      "metadata": {
        "id": "XjbPUG9E1Tie",
        "colab_type": "code",
        "outputId": "959f00bb-db61-477a-cdf3-44343dd17b39",
        "colab": {
          "resources": {
            "http://localhost:8080/nbextensions/google.colab/files.js": {
              "data": "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",
              "ok": true,
              "headers": [
                [
                  "content-type",
                  "application/javascript"
                ]
              ],
              "status": 200,
              "status_text": ""
            }
          },
          "base_uri": "https://localhost:8080/",
          "height": 78
        }
      },
      "source": [
        "uploaded = files.upload()"
      ],
      "execution_count": 3,
      "outputs": [
        {
          "output_type": "display_data",
          "data": {
            "text/html": [
              "\n",
              "     <input type=\"file\" id=\"files-803cbcad-c52f-4083-a074-3827f766b858\" name=\"files[]\" multiple disabled />\n",
              "     <output id=\"result-803cbcad-c52f-4083-a074-3827f766b858\">\n",
              "      Upload widget is only available when the cell has been executed in the\n",
              "      current browser session. Please rerun this cell to enable.\n",
              "      </output>\n",
              "      <script src=\"/nbextensions/google.colab/files.js\"></script> "
            ],
            "text/plain": [
              "<IPython.core.display.HTML object>"
            ]
          },
          "metadata": {
            "tags": []
          }
        },
        {
          "output_type": "stream",
          "text": [
            "Saving data-nonlinear.txt to data-nonlinear.txt\n"
          ],
          "name": "stdout"
        }
      ]
    },
    {
      "cell_type": "code",
      "metadata": {
        "id": "MFaPtak-zpwW",
        "colab_type": "code",
        "outputId": "ffa981e3-ad60-45e1-ef2b-27ebd74132f7",
        "colab": {
          "base_uri": "https://localhost:8080/",
          "height": 162
        }
      },
      "source": [
        "data = np.genfromtxt(\"data-nonlinear.txt\", delimiter=',')\n",
        "x = data[:, 0]\n",
        "y = data[:, 1]\n",
        "label = data[:, 2]\n",
        "x_label0 = x[label == 0]\n",
        "x_label1 = x[label == 1]\n",
        "y_label0 = y[label == 0]\n",
        "y_label1 = y[label == 1]\n",
        "\n",
        "iters = deque()\n",
        "accuracys1 = deque()\n",
        "accuracys2 = deque()\n",
        "accuracys3 = deque()\n",
        "accuracys4 = deque()\n",
        "accuracys5 = deque()\n",
        "train_costs1 = deque()\n",
        "train_costs2 = deque()\n",
        "train_costs3 = deque()\n",
        "train_costs4 = deque()\n",
        "train_costs5 = deque()\n",
        "\n",
        "#print(label[57])\n",
        "#print(label[58])\n",
        "#print(type(x))\n",
        "#print(y_label0)\n",
        "#print(type(x_label0))\n",
        "print(len(x)) #118\n",
        "#print(y)\n",
        "print(label)\n",
        "print(len(x_label0)) #60\n",
        "print(len(x_label1)) #58"
      ],
      "execution_count": 25,
      "outputs": [
        {
          "output_type": "stream",
          "text": [
            "118\n",
            "[1. 1. 1. 1. 1. 1. 1. 1. 1. 1. 1. 1. 1. 1. 1. 1. 1. 1. 1. 1. 1. 1. 1. 1.\n",
            " 1. 1. 1. 1. 1. 1. 1. 1. 1. 1. 1. 1. 1. 1. 1. 1. 1. 1. 1. 1. 1. 1. 1. 1.\n",
            " 1. 1. 1. 1. 1. 1. 1. 1. 1. 1. 0. 0. 0. 0. 0. 0. 0. 0. 0. 0. 0. 0. 0. 0.\n",
            " 0. 0. 0. 0. 0. 0. 0. 0. 0. 0. 0. 0. 0. 0. 0. 0. 0. 0. 0. 0. 0. 0. 0. 0.\n",
            " 0. 0. 0. 0. 0. 0. 0. 0. 0. 0. 0. 0. 0. 0. 0. 0. 0. 0. 0. 0. 0. 0.]\n",
            "60\n",
            "58\n"
          ],
          "name": "stdout"
        }
      ]
    },
    {
      "cell_type": "markdown",
      "metadata": {
        "id": "Cw4DKfx74hAg",
        "colab_type": "text"
      },
      "source": [
        "### **Logistic Regression**\n",
        "1) non-Linear Model\n",
        "<br>\n",
        "$\\ z =  g(x, y; \\theta) = \\theta_0 + \\theta_1x + \\theta_2y + \\theta_3xy + \\theta_4x^2 + \\theta_5y^2  $  \n",
        "$\\sigma(z) = \\frac{1}{1 + \\exp(-z)}$\n",
        "<br>  \n",
        "2) Objective Function\n",
        "<br>\n",
        "$J(\\theta) = \\frac{1}{m} \\sum_{i=1}^m ( - l^{(i)} \\log(\\sigma(g(x^{(i)}, y^{(i)}; \\theta))) - (1 - l^{(i)}) \\log(1 - \\sigma(g(x^{(i)}, y^{(i)}; \\theta)))  )$\n",
        "<br>  \n",
        "3) Gradient Descent\n",
        "<br>\n",
        "$\\theta_{k}^{(t+1)} = \\theta_0^{(t)} - \\alpha \\frac{1}{m} \\sum_{i=1}^{m} (\\sigma(g(x^{(i)}, y^{(i)}; \\theta)) - l^{(i)}) \\frac{\\partial g(x^{(i)}, y^{(i)}; \\theta^{(t)})}{\\partial \\theta_{k}}$, for all $k$  \n",
        "<br>\n",
        "4) HyperParameters Setting\n",
        "<br>\n",
        "$\\ \\theta_0^{(0)} = 10$  \n",
        "$\\ \\theta_1^{(0)} = 10$  \n",
        "$\\ \\theta_2^{(0)} = 10$  \n",
        "$\\ \\theta_3^{(0)} = 1$  \n",
        "$\\ \\theta_4^{(0)} = 1$  \n",
        "$\\ \\theta_5^{(0)} = 1$  \n",
        "$\\ lr = 6*10^{-3}$\n",
        "\n"
      ]
    },
    {
      "cell_type": "code",
      "metadata": {
        "id": "b8ZdZ71zkyiN",
        "colab_type": "code",
        "colab": {}
      },
      "source": [
        "def sigmoidFunction(z):\n",
        "  result = 1/(1 + np.exp(-z))\n",
        "  return result"
      ],
      "execution_count": 0,
      "outputs": []
    },
    {
      "cell_type": "code",
      "metadata": {
        "id": "iPhWp_3TE3Uk",
        "colab_type": "code",
        "colab": {}
      },
      "source": [
        "def gFunction(x_data, y_data, theta_data):  #단일 x,y와 모든 theta 계산\n",
        "  result = 0\n",
        "  for i in range(0, 10):\n",
        "    for j in range(0, 10):\n",
        "      result += theta_data[i][j] * np.power(x_data, i) * np.power(y_data, j)\n",
        "  return result"
      ],
      "execution_count": 0,
      "outputs": []
    },
    {
      "cell_type": "code",
      "metadata": {
        "id": "B-ZACWZb_njd",
        "colab_type": "code",
        "colab": {}
      },
      "source": [
        "def objectiveFunction(x_data, y_data, class_data, theta_data, lambda_data):\n",
        "  cost = 0\n",
        "  predictions = deque()\n",
        "  for i in range(0, 118):\n",
        "    estimate = gFunction(x_data[i], y_data[i], theta_data)\n",
        "    #print(estimate)\n",
        "    #print(\"Estimate\",estimate)\n",
        "    predictions.append((-class_data[i]*np.log(estimate)) - (1-class_data[i])*np.log(1-estimate))\n",
        "    #print(\"predictions\",predictions)\n",
        "  cost = np.sum(predictions) / 118                          #data fidelity term\n",
        "  cost += lambda_data / 2 * np.sum(np.square(theta_data))   #regularization term\n",
        "  #print(\"Cost출력\",cost)\n",
        "  return cost"
      ],
      "execution_count": 0,
      "outputs": []
    },
    {
      "cell_type": "code",
      "metadata": {
        "id": "NsaVBnlHiAys",
        "colab_type": "code",
        "colab": {}
      },
      "source": [
        "def gradientDescent(x_data, y_data, class_data, theta_data, lambda_data):\n",
        "  lr = 3e-4\n",
        "  for i in range(0, 10):\n",
        "    for j in range(0, 10):\n",
        "      estimate = 0\n",
        "      for k in range(0, 118):\n",
        "        estimate += gFunction(x_data[k], y_data[k], theta_data) - class_data[k] * (np.power(x_data[k],i) * np.power(y_data[k],j))\n",
        "      theta_data[i][j] -= lr * (estimate/118 + lambda_data * theta_data[i][j])\n",
        "  return theta_data"
      ],
      "execution_count": 0,
      "outputs": []
    },
    {
      "cell_type": "code",
      "metadata": {
        "id": "nKROWnxQlgsK",
        "colab_type": "code",
        "outputId": "006175f2-610b-4c91-b60f-ede166b7c97a",
        "colab": {
          "base_uri": "https://localhost:8080/",
          "height": 89
        }
      },
      "source": [
        "def main():\n",
        "  theta_data = np.zeros([10,10])  #Initialization\n",
        "  \n",
        "  for iter in range(0, 300):    \n",
        "    lambda_data = 0.00001\n",
        "    train_value = objectiveFunction(x, y, label, theta_data, lambda_data)\n",
        "    train_costs1.append(train_value)\n",
        "    theta_data = gradientDescent(x, y, label, theta_data, lambda_data)\n",
        "    check = 0\n",
        "    for i in range(0, 60):\n",
        "      if gFunction(x[i], y[i], theta_data) >= 0:\n",
        "        check += 1\n",
        "    for i in range(60, 118):\n",
        "      if gFunction(x[i], y[i], theta_data)  < 0:\n",
        "        check += 1\n",
        "    accuracy = check / 118 * 100\n",
        "    accuracys1.append(accuracy)\n",
        "    iters.append(iter)\n",
        "\n",
        "  print(\"Accuracys\",accuracys1)\n",
        "  print(\"iters\",iters)\n",
        "  print(\"costs\",train_costs1)\n",
        "\"\"\"\n",
        "  ## 2번째 람다 실험\n",
        "  theta_data = np.zeros([10,10])  #Initialization\n",
        "  for iter in range(0, 500):    \n",
        "    check = 0\n",
        "    for i in range(0, 60):\n",
        "      if gFunction(x[i], y[i], theta_data) >= 0:\n",
        "        check += 1\n",
        "    for i in range(60, 118):\n",
        "      if gFunction(x[i], y[i], theta_data)  < 0:\n",
        "        check += 1\n",
        "    accuracy = check / 118 * 100\n",
        "    accuracys2.append(accuracy)\n",
        "\n",
        "    lambda_data = 0.001\n",
        "    train_value = objectiveFunction(x, y, label, theta_data, lambda_data)\n",
        "    train_costs2.append(train_value)\n",
        "    theta_data = gradientDescent(x, y, label, theta_data, lambda_data)\n",
        "\n",
        "  ## 3번째 람다 실험\n",
        "  theta_data = np.zeros([10,10])  #Initialization\n",
        "  for iter in range(0, 100):    \n",
        "    check = 0\n",
        "    for i in range(0, 60):\n",
        "      if gFunction(x[i], y[i], theta_data) >= 0:\n",
        "        check += 1\n",
        "    for i in range(60, 118):\n",
        "      if gFunction(x[i], y[i], theta_data)  < 0:\n",
        "        check += 1\n",
        "    accuracy = check / 118 * 100\n",
        "    accuracys3.append(accuracy)\n",
        "\n",
        "    lambda_data = 0.1\n",
        "    train_value = objectiveFunction(x, y, label, theta_data, lambda_data)\n",
        "    train_costs3.append(train_value)\n",
        "    theta_data = gradientDescent(x, y, label, theta_data, lambda_data)\n",
        "\n",
        "  ## 4번째 람다 실험\n",
        "  theta_data = np.zeros([10,10])  #Initialization\n",
        "  for iter in range(0, 100):    \n",
        "    check = 0\n",
        "    for i in range(0, 60):\n",
        "      if gFunction(x[i], y[i], theta_data) >= 0:\n",
        "        check += 1\n",
        "    for i in range(60, 118):\n",
        "      if gFunction(x[i], y[i], theta_data)  < 0:\n",
        "        check += 1\n",
        "    accuracy = check / 118 * 100\n",
        "    accuracys4.append(accuracy)\n",
        "\n",
        "    lambda_data = 0.0000001\n",
        "    train_value = objectiveFunction(x, y, label, theta_data, lambda_data)\n",
        "    train_costs4.append(train_value)\n",
        "    theta_data = gradientDescent(x, y, label, theta_data, lambda_data)\n",
        "\n",
        "  ## 5번째 람다 실험\n",
        "  theta_data = np.zeros([10,10])  #Initialization\n",
        "  for iter in range(0, 100):    \n",
        "    check = 0\n",
        "    for i in range(0, 60):\n",
        "      if gFunction(x[i], y[i], theta_data) >= 0:\n",
        "        check += 1\n",
        "    for i in range(60, 118):\n",
        "      if gFunction(x[i], y[i], theta_data)  < 0:\n",
        "        check += 1\n",
        "    accuracy = check / 118 * 100\n",
        "    accuracys5.append(accuracy)\n",
        "\n",
        "    lambda_data = 0.99\n",
        "    train_value = objectiveFunction(x, y, label, theta_data, lambda_data)\n",
        "    train_costs5.append(train_value)\n",
        "    theta_data = gradientDescent(x, y, label, theta_data, lambda_data)\n",
        "\n",
        "  \n",
        "  print(\"Plotting the Estimated Parameters\")\n",
        "  fig = plt.figure()\n",
        "  graph1 = plt.plot(iters, theta_0s, 'r')\n",
        "  graph2 = plt.plot(iters, theta_1s, 'g', linewidth = 3, linestyle=(0, (5, 2, 1, 2)), dash_capstyle='round')\n",
        "  graph3 = plt.plot(iters, theta_2s, 'b')\n",
        "  graph4 = plt.plot(iters, theta_3s)\n",
        "  graph5 = plt.plot(iters, theta_4s)\n",
        "  graph6 = plt.plot(iters, theta_5s)\n",
        "  plt.xlabel('iterations')\n",
        "  plt.ylabel('value')\n",
        "  plt.show()\n",
        "  \"\"\"\n",
        "\"\"\"\n",
        "  print(\"Plotting the Training Error\")\n",
        "  plt.plot(iters, train_costs, 'b')\n",
        "  plt.xlabel('iteration')\n",
        "  plt.ylabel('Traing Error')\n",
        "  plt.show()\n",
        "\n",
        "  print(\"Plotting the Training Accuracy\")\n",
        "  plt.plot(iters, accuracys, 'r')\n",
        "  plt.xlabel('iteration')\n",
        "  plt.ylabel('Training Accuracy')\n",
        "  plt.show()\n",
        "\n",
        "  print(\"Final Training Accuracy : \",accuracys[-1],\"%\")\n",
        "\n",
        "  print(theta_0, theta_1, theta_2)\n",
        "\n",
        "  print(\"Plotting the Obtained Classifer\")\n",
        "  points = np.arange(30,100,0.5)\n",
        "  xs,ys = np.meshgrid(points, points)\n",
        "  z = theta_0 + theta_1 * xs + theta_2 * ys\n",
        "  z = sigmoidFunction(z)\n",
        "\n",
        "  fig = plt.figure()\n",
        "  plt.xlim([30,100])\n",
        "  plt.ylim([30,100])\n",
        "  graph4 = plt.imshow(z, cmap=plt.cm.bwr)\n",
        "  graph5 = plt.scatter(x_label0, y_label0, alpha=0.3, c='b')\n",
        "  graph6 = plt.scatter(x_label1, y_label1, alpha=0.3, c='r')\n",
        "  plt.show()\n",
        "\"\"\"\n",
        "if __name__ == \"__main__\":\n",
        "  main()"
      ],
      "execution_count": 0,
      "outputs": [
        {
          "output_type": "stream",
          "text": [
            "/usr/local/lib/python3.6/dist-packages/ipykernel_launcher.py:8: RuntimeWarning: divide by zero encountered in log\n",
            "  \n",
            "/usr/local/lib/python3.6/dist-packages/ipykernel_launcher.py:8: RuntimeWarning: invalid value encountered in double_scalars\n",
            "  \n"
          ],
          "name": "stderr"
        }
      ]
    },
    {
      "cell_type": "markdown",
      "metadata": {
        "id": "FvYhujX-JNLK",
        "colab_type": "text"
      },
      "source": [
        "### **1. Plot the training data**"
      ]
    },
    {
      "cell_type": "code",
      "metadata": {
        "id": "T8fDzM1DJH53",
        "colab_type": "code",
        "outputId": "ebf3a633-a4b7-48c0-cb8b-7a8656dc4f36",
        "colab": {
          "base_uri": "https://localhost:8080/",
          "height": 283
        }
      },
      "source": [
        "print(\"Plotting the training data\")\n",
        "plt.figure()\n",
        "plt.scatter(x_label0, y_label0, alpha=0.3, c='b')\n",
        "plt.scatter(x_label1, y_label1, alpha=0.3, c='r')\n",
        "plt.show()"
      ],
      "execution_count": 12,
      "outputs": [
        {
          "output_type": "stream",
          "text": [
            "Plotting the training data\n"
          ],
          "name": "stdout"
        },
        {
          "output_type": "display_data",
          "data": {
            "image/png": "[encoded data removed]",
            "text/plain": [
              "<Figure size 432x288 with 1 Axes>"
            ]
          },
          "metadata": {
            "tags": [],
            "needs_background": "light"
          }
        }
      ]
    },
    {
      "cell_type": "markdown",
      "metadata": {
        "id": "B7tMlhmkJZit",
        "colab_type": "text"
      },
      "source": [
        "### **2. Define High dimensional Function**\n",
        "$\\ g(x, y; \\theta) = \\theta_0 + \\theta_1x + \\theta_2y + \\theta_3xy + \\theta_4x^2 + \\theta_5y^2  $  "
      ]
    },
    {
      "cell_type": "markdown",
      "metadata": {
        "id": "D4-SO5AfK4Qe",
        "colab_type": "text"
      },
      "source": [
        "### **3. Plotting the Training Error**"
      ]
    },
    {
      "cell_type": "code",
      "metadata": {
        "id": "Xpmo7Xr-LKzC",
        "colab_type": "code",
        "outputId": "84a81d39-d641-477b-8e2e-f5b0d7120907",
        "colab": {
          "base_uri": "https://localhost:8080/",
          "height": 297
        }
      },
      "source": [
        "print(\"Plotting the Training Error\")\n",
        "plt.plot(iters, train_costs1, 'b')\n",
        "#plt.plot(iters, train_costs2)\n",
        "#plt.plot(iters, train_costs3)\n",
        "#plt.plot(iters, train_costs4)\n",
        "#plt.plot(iters, train_costs5)\n",
        "plt.xlabel('iteration')\n",
        "plt.ylabel('Traing Error')\n",
        "plt.show()"
      ],
      "execution_count": 22,
      "outputs": [
        {
          "output_type": "stream",
          "text": [
            "Plotting the Training Error\n"
          ],
          "name": "stdout"
        },
        {
          "output_type": "display_data",
          "data": {
            "image/png": "[encoded data removed]",
            "text/plain": [
              "<Figure size 432x288 with 1 Axes>"
            ]
          },
          "metadata": {
            "tags": [],
            "needs_background": "light"
          }
        }
      ]
    },
    {
      "cell_type": "markdown",
      "metadata": {
        "id": "oX0DzAdQLpGD",
        "colab_type": "text"
      },
      "source": [
        "### **4. Plotting the Training Accuracy**"
      ]
    },
    {
      "cell_type": "code",
      "metadata": {
        "id": "_tI6dv4cLmDQ",
        "colab_type": "code",
        "outputId": "d03b76bc-8731-4528-cc7d-05317b827ef6",
        "colab": {
          "base_uri": "https://localhost:8080/",
          "height": 297
        }
      },
      "source": [
        "print(\"Plotting the Training Accuracy\")\n",
        "plt.plot(iters, accuracys1, 'r')\n",
        "#plt.plot(iters, accuracys2)\n",
        "#plt.plot(iters, accuracys3)\n",
        "#plt.plot(iters, accuracys4)\n",
        "#plt.plot(iters, accuracys5)\n",
        "plt.xlabel('iteration')\n",
        "plt.ylabel('Training Accuracy')\n",
        "plt.show()"
      ],
      "execution_count": 23,
      "outputs": [
        {
          "output_type": "stream",
          "text": [
            "Plotting the Training Accuracy\n"
          ],
          "name": "stdout"
        },
        {
          "output_type": "display_data",
          "data": {
            "image/png": "[encoded data removed]",
            "text/plain": [
              "<Figure size 432x288 with 1 Axes>"
            ]
          },
          "metadata": {
            "tags": [],
            "needs_background": "light"
          }
        }
      ]
    },
    {
      "cell_type": "markdown",
      "metadata": {
        "id": "zaf0tCc4L6q2",
        "colab_type": "text"
      },
      "source": [
        "### **5. Final Training Accuracy**"
      ]
    },
    {
      "cell_type": "code",
      "metadata": {
        "id": "DVRpopvuL-G3",
        "colab_type": "code",
        "outputId": "df938b1c-3c0b-450c-bc9f-a3aadfe27ec6",
        "colab": {
          "base_uri": "https://localhost:8080/",
          "height": 263
        }
      },
      "source": [
        "print(\"Final Training Accuracy : \",accuracys1[-1],\"%\")\n",
        "print(\"Final Training Accuracy : \",accuracys2[-1],\"%\")\n",
        "print(\"Final Training Accuracy : \",accuracys3[-1],\"%\")\n",
        "print(\"Final Training Accuracy : \",accuracys4[-1],\"%\")\n",
        "print(\"Final Training Accuracy : \",accuracys5[-1],\"%\")"
      ],
      "execution_count": 24,
      "outputs": [
        {
          "output_type": "stream",
          "text": [
            "Final Training Accuracy :  50.847457627118644 %\n"
          ],
          "name": "stdout"
        },
        {
          "output_type": "error",
          "ename": "IndexError",
          "evalue": "ignored",
          "traceback": [
            "\u001b[0;31m---------------------------------------------------------------------------\u001b[0m",
            "\u001b[0;31mIndexError\u001b[0m                                Traceback (most recent call last)",
            "\u001b[0;32m<ipython-input-24-91b29106a5d5>\u001b[0m in \u001b[0;36m<module>\u001b[0;34m()\u001b[0m\n\u001b[1;32m      1\u001b[0m \u001b[0mprint\u001b[0m\u001b[0;34m(\u001b[0m\u001b[0;34m\"Final Training Accuracy : \"\u001b[0m\u001b[0;34m,\u001b[0m\u001b[0maccuracys1\u001b[0m\u001b[0;34m[\u001b[0m\u001b[0;34m-\u001b[0m\u001b[0;36m1\u001b[0m\u001b[0;34m]\u001b[0m\u001b[0;34m,\u001b[0m\u001b[0;34m\"%\"\u001b[0m\u001b[0;34m)\u001b[0m\u001b[0;34m\u001b[0m\u001b[0;34m\u001b[0m\u001b[0m\n\u001b[0;32m----> 2\u001b[0;31m \u001b[0mprint\u001b[0m\u001b[0;34m(\u001b[0m\u001b[0;34m\"Final Training Accuracy : \"\u001b[0m\u001b[0;34m,\u001b[0m\u001b[0maccuracys2\u001b[0m\u001b[0;34m[\u001b[0m\u001b[0;34m-\u001b[0m\u001b[0;36m1\u001b[0m\u001b[0;34m]\u001b[0m\u001b[0;34m,\u001b[0m\u001b[0;34m\"%\"\u001b[0m\u001b[0;34m)\u001b[0m\u001b[0;34m\u001b[0m\u001b[0;34m\u001b[0m\u001b[0m\n\u001b[0m\u001b[1;32m      3\u001b[0m \u001b[0mprint\u001b[0m\u001b[0;34m(\u001b[0m\u001b[0;34m\"Final Training Accuracy : \"\u001b[0m\u001b[0;34m,\u001b[0m\u001b[0maccuracys3\u001b[0m\u001b[0;34m[\u001b[0m\u001b[0;34m-\u001b[0m\u001b[0;36m1\u001b[0m\u001b[0;34m]\u001b[0m\u001b[0;34m,\u001b[0m\u001b[0;34m\"%\"\u001b[0m\u001b[0;34m)\u001b[0m\u001b[0;34m\u001b[0m\u001b[0;34m\u001b[0m\u001b[0m\n\u001b[1;32m      4\u001b[0m \u001b[0mprint\u001b[0m\u001b[0;34m(\u001b[0m\u001b[0;34m\"Final Training Accuracy : \"\u001b[0m\u001b[0;34m,\u001b[0m\u001b[0maccuracys4\u001b[0m\u001b[0;34m[\u001b[0m\u001b[0;34m-\u001b[0m\u001b[0;36m1\u001b[0m\u001b[0;34m]\u001b[0m\u001b[0;34m,\u001b[0m\u001b[0;34m\"%\"\u001b[0m\u001b[0;34m)\u001b[0m\u001b[0;34m\u001b[0m\u001b[0;34m\u001b[0m\u001b[0m\n\u001b[1;32m      5\u001b[0m \u001b[0mprint\u001b[0m\u001b[0;34m(\u001b[0m\u001b[0;34m\"Final Training Accuracy : \"\u001b[0m\u001b[0;34m,\u001b[0m\u001b[0maccuracys5\u001b[0m\u001b[0;34m[\u001b[0m\u001b[0;34m-\u001b[0m\u001b[0;36m1\u001b[0m\u001b[0;34m]\u001b[0m\u001b[0;34m,\u001b[0m\u001b[0;34m\"%\"\u001b[0m\u001b[0;34m)\u001b[0m\u001b[0;34m\u001b[0m\u001b[0;34m\u001b[0m\u001b[0m\n",
            "\u001b[0;31mIndexError\u001b[0m: deque index out of range"
          ]
        }
      ]
    },
    {
      "cell_type": "markdown",
      "metadata": {
        "id": "w9rPVPoMMGJH",
        "colab_type": "text"
      },
      "source": [
        "### **6. Plotting the Optimal Classifer superimposed on the Training Data**"
      ]
    },
    {
      "cell_type": "code",
      "metadata": {
        "id": "6Qda9OL1AlZV",
        "colab_type": "code",
        "outputId": "7dd67b55-e363-434c-c594-372c4c243667",
        "colab": {
          "base_uri": "https://localhost:8080/",
          "height": 265
        }
      },
      "source": [
        "theta_0 = theta_0s[-1]\n",
        "theta_1 = theta_1s[-1]\n",
        "theta_2 = theta_2s[-1]\n",
        "theta_3 = theta_3s[-1]\n",
        "theta_4 = theta_4s[-1]\n",
        "theta_5 = theta_5s[-1]\n",
        "\n",
        "Xmesh, Ymesh = np.meshgrid(np.linspace(-1.0, 1.0, 300), np.linspace(-1.0, 1.0, 300))\n",
        "\n",
        "Z= theta_0 + theta_1 * Xmesh + theta_2 * Ymesh + theta_3 * Xmesh*Ymesh + theta_4 * Xmesh**2 + theta_5 * Ymesh**2\n",
        "fig = plt.figure()\n",
        "levels = [0]\n",
        "grpah7 = plt.contour(Xmesh, Ymesh, Z, levels, colors = 'green')\n",
        "graph8 = plt.scatter(x_label0, y_label0, alpha=0.3, c='b')\n",
        "graph9 = plt.scatter(x_label1, y_label1, alpha=0.3, c='r')\n",
        "plt.show()"
      ],
      "execution_count": 0,
      "outputs": [
        {
          "output_type": "display_data",
          "data": {
            "image/png": "[encoded data removed]",
            "text/plain": [
              "<Figure size 432x288 with 1 Axes>"
            ]
          },
          "metadata": {
            "tags": [],
            "needs_background": "light"
          }
        }
      ]
    },
    {
      "cell_type": "code",
      "metadata": {
        "id": "JaabSgLMD5Ze",
        "colab_type": "code",
        "colab": {
          "base_uri": "https://localhost:8080/",
          "height": 35
        },
        "outputId": "1aa45ccc-6f98-4d7a-83ab-b9d4357dc21f"
      },
      "source": [
        "cost = 0\n",
        "lambda_data = 1\n",
        "theta_data = [1, 2, 3]\n",
        "cost += lambda_data / 2 * np.sum(np.square(theta_data)) \n",
        "print(cost)"
      ],
      "execution_count": 8,
      "outputs": [
        {
          "output_type": "stream",
          "text": [
            "7.0\n"
          ],
          "name": "stdout"
        }
      ]
    },
    {
      "cell_type": "code",
      "metadata": {
        "id": "jBnDRLJFTwOE",
        "colab_type": "code",
        "colab": {
          "base_uri": "https://localhost:8080/",
          "height": 254
        },
        "outputId": "09424061-ba23-46e5-9fef-46e9b9b29670"
      },
      "source": [
        "print(accuracys1)\n",
        "print(iters)\n",
        "print(train_costs1)\n",
        "\n",
        "print(accuracys2)\n",
        "print(iters)\n",
        "print(train_costs2)\n",
        "\n",
        "print(accuracys3)\n",
        "print(iters)\n",
        "print(train_costs3)\n",
        "\n",
        "print(len(accuracys1))\n",
        "print(len(iters))\n",
        "print(len(train_costs1))"
      ],
      "execution_count": 92,
      "outputs": [
        {
          "output_type": "stream",
          "text": [
            "deque([50.847457627118644, 50.847457627118644, 50.847457627118644, 50.847457627118644, 50.847457627118644, 50.847457627118644, 50.847457627118644, 50.847457627118644, 50.847457627118644, 50.847457627118644, 50.847457627118644, 50.847457627118644, 50.847457627118644, 50.847457627118644, 50.847457627118644, 50.847457627118644, 50.847457627118644, 50.847457627118644, 50.847457627118644, 50.847457627118644, 50.847457627118644, 50.847457627118644, 50.847457627118644, 50.847457627118644, 50.847457627118644, 50.847457627118644, 50.847457627118644, 50.847457627118644, 50.847457627118644, 50.847457627118644, 50.847457627118644, 50.847457627118644, 50.847457627118644, 50.847457627118644, 50.847457627118644, 50.847457627118644, 50.847457627118644, 50.847457627118644, 50.847457627118644, 50.847457627118644, 50.847457627118644, 50.847457627118644, 50.847457627118644, 50.847457627118644, 50.847457627118644, 50.847457627118644, 50.847457627118644, 50.847457627118644, 50.847457627118644, 50.847457627118644, 64.40677966101694, 62.71186440677966, 65.2542372881356, 63.559322033898304, 63.559322033898304, 64.40677966101694, 64.40677966101694, 64.40677966101694, 64.40677966101694, 64.40677966101694, 63.559322033898304, 63.559322033898304, 63.559322033898304, 63.559322033898304, 63.559322033898304, 63.559322033898304, 63.559322033898304, 64.40677966101694, 64.40677966101694, 64.40677966101694, 63.559322033898304, 63.559322033898304, 63.559322033898304, 63.559322033898304, 63.559322033898304, 63.559322033898304, 63.559322033898304, 63.559322033898304, 63.559322033898304, 63.559322033898304, 63.559322033898304, 63.559322033898304, 63.559322033898304, 63.559322033898304, 63.559322033898304, 63.559322033898304, 63.559322033898304, 63.559322033898304, 63.559322033898304, 63.559322033898304, 63.559322033898304, 63.559322033898304, 63.559322033898304, 63.559322033898304, 63.559322033898304, 63.559322033898304, 63.559322033898304, 63.559322033898304, 63.559322033898304, 63.559322033898304])\n",
            "deque([0, 1, 2, 3, 4, 5, 6, 7, 8, 9, 10, 11, 12, 13, 14, 15, 16, 17, 18, 19, 20, 21, 22, 23, 24, 25, 26, 27, 28, 29, 30, 31, 32, 33, 34, 35, 36, 37, 38, 39, 40, 41, 42, 43, 44, 45, 46, 47, 48, 49, 0, 1, 2, 3, 4, 5, 6, 7, 8, 9, 10, 11, 12, 13, 14, 15, 16, 17, 18, 19, 20, 21, 22, 23, 24, 25, 26, 27, 28, 29, 30, 31, 32, 33, 34, 35, 36, 37, 38, 39, 40, 41, 42, 43, 44, 45, 46, 47, 48, 49])\n",
            "deque([nan, 3.145144650940523, 2.8068828897675937, 2.6100096296022244, 2.4710152453640997, 2.3637287765481223, 2.276493020479334, 2.2030897054077507, 2.1398071081678567, 2.0842511189122943, 2.034787081402432, 1.9902490849746508, 1.9497762857087058, 1.912714969195978, 1.8785570116144572, 1.8468996234014843, 1.817418111641345, 1.7898469144131617, 1.763966064351896, 1.7395913169538064, 1.7165668139377652, 1.694759538472405, 1.6740550614714704, 1.654354234209882, 1.6355705853513591, 1.617628249685943, 1.6004603033410183, 1.584007413347277, 1.5682167329133534, 1.5530409906392288, 1.5384377341936823, 1.524368698048209, 1.5107992716222194, 1.4976980492907728, 1.4850364475845446, 1.4727883778901807, 1.4609299652659857, 1.4494393057887769, 1.4382962562641923, 1.4274822512546992, 1.4169801432741613, 1.4067740627156322, 1.396849294658394, 1.387192170170537, 1.377789970107098, 1.3686308397185007, 1.3597037126434064, 1.3509982430748015, 1.3425047450667096, 1.3342141380979773, nan, nan, nan, nan, nan, nan, nan, nan, nan, nan, nan, nan, nan, nan, nan, nan, nan, nan, nan, nan, nan, nan, nan, nan, nan, nan, nan, nan, nan, nan, nan, nan, nan, nan, nan, nan, nan, nan, nan, nan, nan, nan, nan, nan, nan, nan, nan, nan, nan, nan])\n",
            "deque([])\n",
            "deque([0, 1, 2, 3, 4, 5, 6, 7, 8, 9, 10, 11, 12, 13, 14, 15, 16, 17, 18, 19, 20, 21, 22, 23, 24, 25, 26, 27, 28, 29, 30, 31, 32, 33, 34, 35, 36, 37, 38, 39, 40, 41, 42, 43, 44, 45, 46, 47, 48, 49, 0, 1, 2, 3, 4, 5, 6, 7, 8, 9, 10, 11, 12, 13, 14, 15, 16, 17, 18, 19, 20, 21, 22, 23, 24, 25, 26, 27, 28, 29, 30, 31, 32, 33, 34, 35, 36, 37, 38, 39, 40, 41, 42, 43, 44, 45, 46, 47, 48, 49])\n",
            "deque([])\n",
            "deque([])\n",
            "deque([0, 1, 2, 3, 4, 5, 6, 7, 8, 9, 10, 11, 12, 13, 14, 15, 16, 17, 18, 19, 20, 21, 22, 23, 24, 25, 26, 27, 28, 29, 30, 31, 32, 33, 34, 35, 36, 37, 38, 39, 40, 41, 42, 43, 44, 45, 46, 47, 48, 49, 0, 1, 2, 3, 4, 5, 6, 7, 8, 9, 10, 11, 12, 13, 14, 15, 16, 17, 18, 19, 20, 21, 22, 23, 24, 25, 26, 27, 28, 29, 30, 31, 32, 33, 34, 35, 36, 37, 38, 39, 40, 41, 42, 43, 44, 45, 46, 47, 48, 49])\n",
            "deque([])\n",
            "100\n",
            "100\n",
            "100\n"
          ],
          "name": "stdout"
        }
      ]
    },
    {
      "cell_type": "code",
      "metadata": {
        "id": "ErVMtSbSJ480",
        "colab_type": "code",
        "colab": {
          "base_uri": "https://localhost:8080/",
          "height": 89
        },
        "outputId": "d08211c9-8faf-4bc1-c4a5-b4a6d647300b"
      },
      "source": [
        "print(len(accuracys2))\n",
        "print(len(train_costs2))\n",
        "print(train_costs2)\n",
        "print(accuracys2)"
      ],
      "execution_count": 36,
      "outputs": [
        {
          "output_type": "stream",
          "text": [
            "0\n",
            "0\n",
            "deque([])\n",
            "deque([])\n"
          ],
          "name": "stdout"
        }
      ]
    },
    {
      "cell_type": "code",
      "metadata": {
        "id": "7kJY9BLtbGyE",
        "colab_type": "code",
        "colab": {
          "base_uri": "https://localhost:8080/",
          "height": 109
        },
        "outputId": "35d5a6d6-ff60-4d93-9778-fdd8f71f19b3"
      },
      "source": [
        "print(len(accuracys1))\n",
        "print(len(train_costs1))\n",
        "print(train_costs1)\n",
        "print(accuracys1)"
      ],
      "execution_count": 93,
      "outputs": [
        {
          "output_type": "stream",
          "text": [
            "100\n",
            "100\n",
            "deque([nan, 3.145144650940523, 2.8068828897675937, 2.6100096296022244, 2.4710152453640997, 2.3637287765481223, 2.276493020479334, 2.2030897054077507, 2.1398071081678567, 2.0842511189122943, 2.034787081402432, 1.9902490849746508, 1.9497762857087058, 1.912714969195978, 1.8785570116144572, 1.8468996234014843, 1.817418111641345, 1.7898469144131617, 1.763966064351896, 1.7395913169538064, 1.7165668139377652, 1.694759538472405, 1.6740550614714704, 1.654354234209882, 1.6355705853513591, 1.617628249685943, 1.6004603033410183, 1.584007413347277, 1.5682167329133534, 1.5530409906392288, 1.5384377341936823, 1.524368698048209, 1.5107992716222194, 1.4976980492907728, 1.4850364475845446, 1.4727883778901807, 1.4609299652659857, 1.4494393057887769, 1.4382962562641923, 1.4274822512546992, 1.4169801432741613, 1.4067740627156322, 1.396849294658394, 1.387192170170537, 1.377789970107098, 1.3686308397185007, 1.3597037126434064, 1.3509982430748015, 1.3425047450667096, 1.3342141380979773, nan, nan, nan, nan, nan, nan, nan, nan, nan, nan, nan, nan, nan, nan, nan, nan, nan, nan, nan, nan, nan, nan, nan, nan, nan, nan, nan, nan, nan, nan, nan, nan, nan, nan, nan, nan, nan, nan, nan, nan, nan, nan, nan, nan, nan, nan, nan, nan, nan, nan])\n",
            "deque([50.847457627118644, 50.847457627118644, 50.847457627118644, 50.847457627118644, 50.847457627118644, 50.847457627118644, 50.847457627118644, 50.847457627118644, 50.847457627118644, 50.847457627118644, 50.847457627118644, 50.847457627118644, 50.847457627118644, 50.847457627118644, 50.847457627118644, 50.847457627118644, 50.847457627118644, 50.847457627118644, 50.847457627118644, 50.847457627118644, 50.847457627118644, 50.847457627118644, 50.847457627118644, 50.847457627118644, 50.847457627118644, 50.847457627118644, 50.847457627118644, 50.847457627118644, 50.847457627118644, 50.847457627118644, 50.847457627118644, 50.847457627118644, 50.847457627118644, 50.847457627118644, 50.847457627118644, 50.847457627118644, 50.847457627118644, 50.847457627118644, 50.847457627118644, 50.847457627118644, 50.847457627118644, 50.847457627118644, 50.847457627118644, 50.847457627118644, 50.847457627118644, 50.847457627118644, 50.847457627118644, 50.847457627118644, 50.847457627118644, 50.847457627118644, 64.40677966101694, 62.71186440677966, 65.2542372881356, 63.559322033898304, 63.559322033898304, 64.40677966101694, 64.40677966101694, 64.40677966101694, 64.40677966101694, 64.40677966101694, 63.559322033898304, 63.559322033898304, 63.559322033898304, 63.559322033898304, 63.559322033898304, 63.559322033898304, 63.559322033898304, 64.40677966101694, 64.40677966101694, 64.40677966101694, 63.559322033898304, 63.559322033898304, 63.559322033898304, 63.559322033898304, 63.559322033898304, 63.559322033898304, 63.559322033898304, 63.559322033898304, 63.559322033898304, 63.559322033898304, 63.559322033898304, 63.559322033898304, 63.559322033898304, 63.559322033898304, 63.559322033898304, 63.559322033898304, 63.559322033898304, 63.559322033898304, 63.559322033898304, 63.559322033898304, 63.559322033898304, 63.559322033898304, 63.559322033898304, 63.559322033898304, 63.559322033898304, 63.559322033898304, 63.559322033898304, 63.559322033898304, 63.559322033898304, 63.559322033898304])\n"
          ],
          "name": "stdout"
        }
      ]
    }
  ]
}
