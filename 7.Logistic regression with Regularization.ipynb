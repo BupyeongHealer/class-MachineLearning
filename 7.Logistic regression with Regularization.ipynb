{
 "cells": [
  {
   "cell_type": "code",
   "execution_count": 19,
   "metadata": {},
   "outputs": [],
   "source": [
    "import matplotlib.pyplot as plt\n",
    "import numpy as np\n",
    "import copy\n",
    "import math\n",
    "import csv\n",
    "from collections import deque"
   ]
  },
  {
   "cell_type": "code",
   "execution_count": 41,
   "metadata": {},
   "outputs": [],
   "source": [
    "data = np.genfromtxt(\"C:\\data-nonlinear.txt\", delimiter=',')\n",
    "x = data[:, 0]\n",
    "y = data[:, 1]\n",
    "label = data[:, 2]\n",
    "x_label0 = x[label == 0]\n",
    "x_label1 = x[label == 1]\n",
    "y_label0 = y[label == 0]\n",
    "y_label1 = y[label == 1]\n",
    "iters = deque()\n",
    "accuracys1 = deque()\n",
    "accuracys2 = deque()\n",
    "accuracys3 = deque()\n",
    "accuracys4 = deque()\n",
    "accuracys5 = deque()\n",
    "train_costs1 = deque()\n",
    "train_costs2 = deque()\n",
    "train_costs3 = deque()\n",
    "train_costs4 = deque()\n",
    "train_costs5 = deque()\n",
    "theta_datas1 = deque()\n",
    "theta_datas2 = deque()\n",
    "theta_datas3 = deque()\n",
    "theta_datas4 = deque()\n",
    "theta_datas5 = deque()\n",
    "lambda_datas = deque()"
   ]
  },
  {
   "cell_type": "code",
   "execution_count": 23,
   "metadata": {},
   "outputs": [],
   "source": [
    "def sigmoidFunction(z):\n",
    "  result = 1/(1 + np.exp(-z))\n",
    "  return result"
   ]
  },
  {
   "cell_type": "code",
   "execution_count": 25,
   "metadata": {},
   "outputs": [],
   "source": [
    "def gFunction(x_data, y_data, theta_data):  #단일 x,y와 모든 theta 계산\n",
    "  result = 0\n",
    "  for i in range(0, 10):\n",
    "    for j in range(0, 10):\n",
    "      result += theta_data[i][j] * np.power(x_data, i) * np.power(y_data, j)\n",
    "  return result"
   ]
  },
  {
   "cell_type": "code",
   "execution_count": 27,
   "metadata": {},
   "outputs": [],
   "source": [
    "def objectiveFunction(x_data, y_data, class_data, theta_data, lambda_data):\n",
    "  cost = 0\n",
    "  predictions = deque()\n",
    "  for i in range(0, 118):\n",
    "    estimate = gFunction(x_data[i], y_data[i], theta_data)\n",
    "    #print(estimate)\n",
    "    #print(\"Estimate\",estimate)\n",
    "    predictions.append((-class_data[i]*np.log(estimate)) - (1-class_data[i])*np.log(1-estimate))\n",
    "    #print(\"predictions\",predictions)\n",
    "  cost = np.sum(predictions) / 118                          #data fidelity term\n",
    "  cost += lambda_data / 2 * np.sum(np.square(theta_data))   #regularization term\n",
    "  #print(\"Cost출력\",cost)\n",
    "  return cost"
   ]
  },
  {
   "cell_type": "code",
   "execution_count": 31,
   "metadata": {},
   "outputs": [],
   "source": [
    "def gradientDescent(x_data, y_data, class_data, theta_data, lambda_data):\n",
    "  lr = 3e-2\n",
    "  for i in range(0, 10):\n",
    "    for j in range(0, 10):\n",
    "      estimate = 0\n",
    "      for k in range(0, 118):\n",
    "        estimate += gFunction(x_data[k], y_data[k], theta_data) - class_data[k] * (np.power(x_data[k],i) * np.power(y_data[k],j))\n",
    "      theta_data[i][j] -= lr * (estimate/118 + lambda_data * theta_data[i][j])\n",
    "  return theta_data"
   ]
  },
  {
   "cell_type": "code",
   "execution_count": 42,
   "metadata": {},
   "outputs": [
    {
     "name": "stderr",
     "output_type": "stream",
     "text": [
      "C:\\Users\\Administrator\\Anaconda3\\envs\\Starcraft\\lib\\site-packages\\ipykernel_launcher.py:8: RuntimeWarning: divide by zero encountered in log\n",
      "  \n",
      "C:\\Users\\Administrator\\Anaconda3\\envs\\Starcraft\\lib\\site-packages\\ipykernel_launcher.py:8: RuntimeWarning: invalid value encountered in double_scalars\n",
      "  \n",
      "C:\\Users\\Administrator\\Anaconda3\\envs\\Starcraft\\lib\\site-packages\\ipykernel_launcher.py:8: RuntimeWarning: invalid value encountered in log\n",
      "  \n"
     ]
    }
   ],
   "source": [
    "def main():\n",
    "  theta_data = np.zeros([10,10])  #Initialization\n",
    "  \n",
    "  for iter in range(0, 500):    \n",
    "    lambda_data = 0.00001\n",
    "    train_value = objectiveFunction(x, y, label, theta_data, lambda_data)\n",
    "    train_costs1.append(train_value)\n",
    "    theta_data = gradientDescent(x, y, label, theta_data, lambda_data)\n",
    "    check = 0\n",
    "    for i in range(0, 60):\n",
    "      if gFunction(x[i], y[i], theta_data) >= 0:\n",
    "        check += 1\n",
    "    for i in range(60, 118):\n",
    "      if gFunction(x[i], y[i], theta_data)  < 0:\n",
    "        check += 1\n",
    "    accuracy = check / 118 * 100\n",
    "    accuracys1.append(accuracy)\n",
    "    iters.append(iter)\n",
    "    theta_datas1.append(theta_data)\n",
    "    lambda_datas.append(lambda_data)\n",
    "\n",
    "  ## 2번째 람다 실험\n",
    "  theta_data = np.zeros([10,10])  #Initialization\n",
    "  for iter in range(0, 500):    \n",
    "    check = 0\n",
    "    for i in range(0, 60):\n",
    "      if gFunction(x[i], y[i], theta_data) >= 0:\n",
    "        check += 1\n",
    "    for i in range(60, 118):\n",
    "      if gFunction(x[i], y[i], theta_data)  < 0:\n",
    "        check += 1\n",
    "    accuracy = check / 118 * 100\n",
    "    accuracys2.append(accuracy)\n",
    "\n",
    "    lambda_data = 5\n",
    "    train_value = objectiveFunction(x, y, label, theta_data, lambda_data)\n",
    "    train_costs2.append(train_value)\n",
    "    theta_data = gradientDescent(x, y, label, theta_data, lambda_data)\n",
    "    theta_datas2.append(theta_data)\n",
    "    lambda_datas.append(lambda_data)\n",
    "\n",
    "  ## 3번째 람다 실험\n",
    "  theta_data = np.zeros([10,10])  #Initialization\n",
    "  for iter in range(0, 500):    \n",
    "    check = 0\n",
    "    for i in range(0, 60):\n",
    "      if gFunction(x[i], y[i], theta_data) >= 0:\n",
    "        check += 1\n",
    "    for i in range(60, 118):\n",
    "      if gFunction(x[i], y[i], theta_data)  < 0:\n",
    "        check += 1\n",
    "    accuracy = check / 118 * 100\n",
    "    accuracys3.append(accuracy)\n",
    "\n",
    "    lambda_data = 50\n",
    "    train_value = objectiveFunction(x, y, label, theta_data, lambda_data)\n",
    "    train_costs3.append(train_value)\n",
    "    theta_data = gradientDescent(x, y, label, theta_data, lambda_data)\n",
    "    theta_datas3.append(theta_data)\n",
    "    lambda_datas.append(lambda_data)\n",
    "\n",
    "\"\"\"\n",
    "  ## 4번째 람다 실험\n",
    "  theta_data = np.zeros([10,10])  #Initialization\n",
    "  for iter in range(0, 500):    \n",
    "    check = 0\n",
    "    for i in range(0, 60):\n",
    "      if gFunction(x[i], y[i], theta_data) >= 0:\n",
    "        check += 0.1\n",
    "    for i in range(60, 118):\n",
    "      if gFunction(x[i], y[i], theta_data)  < 0:\n",
    "        check += 1\n",
    "    accuracy = check / 118 * 100\n",
    "    accuracys4.append(accuracy)\n",
    "\n",
    "    lambda_data = 1\n",
    "    train_value = objectiveFunction(x, y, label, theta_data, lambda_data)\n",
    "    train_costs4.append(train_value)\n",
    "    theta_data = gradientDescent(x, y, label, theta_data, lambda_data)\n",
    "    theta_datas4.append(theta_data)\n",
    "    lambda_datas.append(lambda_data)\n",
    "\n",
    "  ## 5번째 람다 실험\n",
    "  theta_data = np.zeros([10,10])  #Initialization\n",
    "  for iter in range(0, 500):    \n",
    "    check = 0\n",
    "    for i in range(0, 60):\n",
    "      if gFunction(x[i], y[i], theta_data) >= 0:\n",
    "        check += 1\n",
    "    for i in range(60, 118):\n",
    "      if gFunction(x[i], y[i], theta_data)  < 0:\n",
    "        check += 1\n",
    "    accuracy = check / 118 * 100\n",
    "    accuracys5.append(accuracy)\n",
    "\n",
    "    lambda_data = 10\n",
    "    train_value = objectiveFunction(x, y, label, theta_data, lambda_data)\n",
    "    train_costs5.append(train_value)\n",
    "    theta_data = gradientDescent(x, y, label, theta_data, lambda_data)\n",
    "    theta_datas5.append(theta_data)\n",
    "    lambda_datas.append(lambda_data)\n",
    "\"\"\"\n",
    "if __name__ == \"__main__\":\n",
    "  main()"
   ]
  },
  {
   "cell_type": "code",
   "execution_count": 44,
   "metadata": {},
   "outputs": [
    {
     "name": "stdout",
     "output_type": "stream",
     "text": [
      "Plotting the training data\n"
     ]
    },
    {
     "data": {
      "image/png": "[encoded data removed]",
      "text/plain": [
       "<Figure size 432x288 with 1 Axes>"
      ]
     },
     "metadata": {
      "needs_background": "light"
     },
     "output_type": "display_data"
    }
   ],
   "source": [
    "print(\"Plotting the training data\")\n",
    "plt.figure()\n",
    "plt.scatter(x_label0, y_label0, alpha=0.3, c='b')\n",
    "plt.scatter(x_label1, y_label1, alpha=0.3, c='r')\n",
    "plt.show()"
   ]
  },
  {
   "cell_type": "code",
   "execution_count": 45,
   "metadata": {},
   "outputs": [
    {
     "name": "stderr",
     "output_type": "stream",
     "text": [
      "No handles with labels found to put in legend.\n"
     ]
    },
    {
     "name": "stdout",
     "output_type": "stream",
     "text": [
      "Plotting the Training Error\n"
     ]
    },
    {
     "data": {
      "image/png": "[encoded data removed]",
      "text/plain": [
       "<Figure size 432x288 with 1 Axes>"
      ]
     },
     "metadata": {
      "needs_background": "light"
     },
     "output_type": "display_data"
    }
   ],
   "source": [
    "print(\"Plotting the Training Error\")\n",
    "plt.plot(iters, train_costs1, 'r')\n",
    "plt.plot(iters, train_costs2, 'g')\n",
    "plt.plot(iters, train_costs3, 'b')\n",
    "plt.legend()\n",
    "plt.xlabel('iteration')\n",
    "plt.ylabel('Traing Error')\n",
    "plt.show()"
   ]
  },
  {
   "cell_type": "code",
   "execution_count": 46,
   "metadata": {},
   "outputs": [
    {
     "name": "stdout",
     "output_type": "stream",
     "text": [
      "lambda1 :\u001b[31m 1e-05 \u001b[0m\n",
      "lambda2 :\u001b[32m 1e-05 \u001b[0m\n",
      "lambda3 :\u001b[34m 1e-05 \u001b[0m\n"
     ]
    }
   ],
   "source": [
    "lambda1 = lambda_datas[0]\n",
    "lambda2 = lambda_datas[1]\n",
    "lambda3 = lambda_datas[2]\n",
    "print(\"lambda1 :\\033[31m\",lambda1,\"\\033[0m\")\n",
    "print(\"lambda2 :\\033[32m\",lambda2,\"\\033[0m\")\n",
    "print(\"lambda3 :\\033[34m\",lambda3,\"\\033[0m\")"
   ]
  },
  {
   "cell_type": "code",
   "execution_count": 48,
   "metadata": {},
   "outputs": [
    {
     "name": "stderr",
     "output_type": "stream",
     "text": [
      "No handles with labels found to put in legend.\n"
     ]
    },
    {
     "name": "stdout",
     "output_type": "stream",
     "text": [
      "Plotting the Training Accuracy\n"
     ]
    },
    {
     "data": {
      "image/png": "[encoded data removed]",
      "text/plain": [
       "<Figure size 432x288 with 1 Axes>"
      ]
     },
     "metadata": {
      "needs_background": "light"
     },
     "output_type": "display_data"
    }
   ],
   "source": [
    "print(\"Plotting the Training Accuracy\")\n",
    "plt.plot(iters, accuracys1, 'r')\n",
    "plt.plot(iters, accuracys2, 'g')\n",
    "plt.plot(iters, accuracys3, 'b')\n",
    "plt.legend()\n",
    "plt.xlabel('iteration')\n",
    "plt.ylabel('Training Accuracy')\n",
    "plt.show()"
   ]
  },
  {
   "cell_type": "code",
   "execution_count": 49,
   "metadata": {},
   "outputs": [
    {
     "name": "stdout",
     "output_type": "stream",
     "text": [
      "Final Training Accuracy :\u001b[31m 64.40677966101694 % \u001b[0m\n",
      "Final Training Accuracy :\u001b[32m 56.779661016949156 % \u001b[0m\n",
      "Final Training Accuracy :\u001b[34m 50.847457627118644 % \u001b[0m\n"
     ]
    },
    {
     "ename": "IndexError",
     "evalue": "deque index out of range",
     "output_type": "error",
     "traceback": [
      "\u001b[1;31m---------------------------------------------------------------------------\u001b[0m",
      "\u001b[1;31mIndexError\u001b[0m                                Traceback (most recent call last)",
      "\u001b[1;32m<ipython-input-49-093b9055a101>\u001b[0m in \u001b[0;36m<module>\u001b[1;34m\u001b[0m\n\u001b[0;32m      2\u001b[0m \u001b[0mprint\u001b[0m\u001b[1;33m(\u001b[0m\u001b[1;34m\"Final Training Accuracy :\\033[32m\"\u001b[0m\u001b[1;33m,\u001b[0m\u001b[0maccuracys2\u001b[0m\u001b[1;33m[\u001b[0m\u001b[1;33m-\u001b[0m\u001b[1;36m1\u001b[0m\u001b[1;33m]\u001b[0m\u001b[1;33m,\u001b[0m\u001b[1;34m\"% \\033[0m\"\u001b[0m\u001b[1;33m)\u001b[0m\u001b[1;33m\u001b[0m\u001b[1;33m\u001b[0m\u001b[0m\n\u001b[0;32m      3\u001b[0m \u001b[0mprint\u001b[0m\u001b[1;33m(\u001b[0m\u001b[1;34m\"Final Training Accuracy :\\033[34m\"\u001b[0m\u001b[1;33m,\u001b[0m\u001b[0maccuracys3\u001b[0m\u001b[1;33m[\u001b[0m\u001b[1;33m-\u001b[0m\u001b[1;36m1\u001b[0m\u001b[1;33m]\u001b[0m\u001b[1;33m,\u001b[0m\u001b[1;34m\"% \\033[0m\"\u001b[0m\u001b[1;33m)\u001b[0m\u001b[1;33m\u001b[0m\u001b[1;33m\u001b[0m\u001b[0m\n\u001b[1;32m----> 4\u001b[1;33m \u001b[0mprint\u001b[0m\u001b[1;33m(\u001b[0m\u001b[1;34m\"Final Training Accuracy : \"\u001b[0m\u001b[1;33m,\u001b[0m\u001b[0maccuracys4\u001b[0m\u001b[1;33m[\u001b[0m\u001b[1;33m-\u001b[0m\u001b[1;36m1\u001b[0m\u001b[1;33m]\u001b[0m\u001b[1;33m,\u001b[0m\u001b[1;34m\"%\"\u001b[0m\u001b[1;33m)\u001b[0m\u001b[1;33m\u001b[0m\u001b[1;33m\u001b[0m\u001b[0m\n\u001b[0m\u001b[0;32m      5\u001b[0m \u001b[0mprint\u001b[0m\u001b[1;33m(\u001b[0m\u001b[1;34m\"Final Training Accuracy : \"\u001b[0m\u001b[1;33m,\u001b[0m\u001b[0maccuracys5\u001b[0m\u001b[1;33m[\u001b[0m\u001b[1;33m-\u001b[0m\u001b[1;36m1\u001b[0m\u001b[1;33m]\u001b[0m\u001b[1;33m,\u001b[0m\u001b[1;34m\"%\"\u001b[0m\u001b[1;33m)\u001b[0m\u001b[1;33m\u001b[0m\u001b[1;33m\u001b[0m\u001b[0m\n",
      "\u001b[1;31mIndexError\u001b[0m: deque index out of range"
     ]
    }
   ],
   "source": [
    "print(\"Final Training Accuracy :\\033[31m\",accuracys1[-1],\"% \\033[0m\")\n",
    "print(\"Final Training Accuracy :\\033[32m\",accuracys2[-1],\"% \\033[0m\")\n",
    "print(\"Final Training Accuracy :\\033[34m\",accuracys3[-1],\"% \\033[0m\")\n",
    "print(\"Final Training Accuracy : \",accuracys4[-1],\"%\")\n",
    "print(\"Final Training Accuracy : \",accuracys5[-1],\"%\")"
   ]
  },
  {
   "cell_type": "code",
   "execution_count": 52,
   "metadata": {},
   "outputs": [
    {
     "name": "stderr",
     "output_type": "stream",
     "text": [
      "No handles with labels found to put in legend.\n"
     ]
    },
    {
     "data": {
      "image/png": "[encoded data removed]",
      "text/plain": [
       "<Figure size 432x288 with 1 Axes>"
      ]
     },
     "metadata": {
      "needs_background": "light"
     },
     "output_type": "display_data"
    }
   ],
   "source": [
    "theta_1 = theta_datas1[-1]\n",
    "theta_2 = theta_datas2[-1]\n",
    "theta_3 = theta_datas3[-1]\n",
    "\n",
    "Xmesh, Ymesh = np.meshgrid(np.linspace(-1.0, 1.0, 300), np.linspace(-1.0, 1.0, 300))\n",
    "\n",
    "Z1 = gFunction(Xmesh, Ymesh, theta_1)\n",
    "Z2 = gFunction(Xmesh, Ymesh, theta_2)\n",
    "Z3 = gFunction(Xmesh, Ymesh, theta_3)\n",
    "fig = plt.figure()\n",
    "levels = [0]\n",
    "graph1 = plt.contour(Xmesh, Ymesh, Z1, levels, colors = 'red')\n",
    "graph2 = plt.contour(Xmesh, Ymesh, Z2, levels, colors = 'green')\n",
    "graph3 = plt.contour(Xmesh, Ymesh, Z3, levels, colors = 'blue')\n",
    "graph4 = plt.scatter(x_label0, y_label0, alpha=0.3, c='b')\n",
    "graph5 = plt.scatter(x_label1, y_label1, alpha=0.3, c='r')\n",
    "plt.legend()\n",
    "plt.show()"
   ]
  },
  {
   "cell_type": "code",
   "execution_count": null,
   "metadata": {},
   "outputs": [],
   "source": []
  }
 ],
 "metadata": {
  "kernelspec": {
   "display_name": "Starcraft",
   "language": "python",
   "name": "starcraft"
  },
  "language_info": {
   "codemirror_mode": {
    "name": "ipython",
    "version": 3
   },
   "file_extension": ".py",
   "mimetype": "text/x-python",
   "name": "python",
   "nbconvert_exporter": "python",
   "pygments_lexer": "ipython3",
   "version": "3.7.6"
  }
 },
 "nbformat": 4,
 "nbformat_minor": 2
}
