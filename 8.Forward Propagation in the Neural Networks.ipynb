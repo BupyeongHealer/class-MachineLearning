{
  "nbformat": 4,
  "nbformat_minor": 0,
  "metadata": {
    "colab": {
      "name": "8. Forward Propagation in the Neural Networks.ipynb",
      "provenance": [],
      "collapsed_sections": []
    },
    "kernelspec": {
      "name": "python3",
      "display_name": "Python 3"
    }
  },
  "cells": [
    {
      "cell_type": "markdown",
      "metadata": {
        "id": "sQy9EvTe1J6q",
        "colab_type": "text"
      },
      "source": [
        "### **Preparation**\n"
      ]
    },
    {
      "cell_type": "code",
      "metadata": {
        "id": "YgZQmLLx1HWI",
        "colab_type": "code",
        "colab": {}
      },
      "source": [
        "import matplotlib.pyplot as plt\n",
        "import numpy as np\n",
        "import copy\n",
        "import math\n",
        "import csv\n",
        "from collections import deque\n",
        "from google.colab import files"
      ],
      "execution_count": 0,
      "outputs": []
    },
    {
      "cell_type": "markdown",
      "metadata": {
        "id": "oDTD9ppr1OAX",
        "colab_type": "text"
      },
      "source": [
        "### **Input Data**\n",
        "load the training data file\n",
        "each row $\\{ (x^{(i)}, y^{(i)}, l^{(i)}) \\}$ of the data consists of a 2-dimensional point $(x, y)$ with its label $l$  \n",
        "$x, y \\in \\mathbb{R}$ and $l \\in \\{0, 1\\}$"
      ]
    },
    {
      "cell_type": "code",
      "metadata": {
        "id": "XjbPUG9E1Tie",
        "colab_type": "code",
        "outputId": "b1f613bb-00a6-48be-d0d2-2399bba93dde",
        "colab": {
          "resources": {
            "http://localhost:8080/nbextensions/google.colab/files.js": {
              "data": "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",
              "ok": true,
              "headers": [
                [
                  "content-type",
                  "application/javascript"
                ]
              ],
              "status": 200,
              "status_text": ""
            }
          },
          "base_uri": "https://localhost:8080/",
          "height": 78
        }
      },
      "source": [
        "uploaded = files.upload()"
      ],
      "execution_count": 2,
      "outputs": [
        {
          "output_type": "display_data",
          "data": {
            "text/html": [
              "\n",
              "     <input type=\"file\" id=\"files-b8c1c621-1f43-4cd0-9797-915b743460d7\" name=\"files[]\" multiple disabled />\n",
              "     <output id=\"result-b8c1c621-1f43-4cd0-9797-915b743460d7\">\n",
              "      Upload widget is only available when the cell has been executed in the\n",
              "      current browser session. Please rerun this cell to enable.\n",
              "      </output>\n",
              "      <script src=\"/nbextensions/google.colab/files.js\"></script> "
            ],
            "text/plain": [
              "<IPython.core.display.HTML object>"
            ]
          },
          "metadata": {
            "tags": []
          }
        },
        {
          "output_type": "stream",
          "text": [
            "Saving mnist_test.csv to mnist_test.csv\n"
          ],
          "name": "stdout"
        }
      ]
    },
    {
      "cell_type": "code",
      "metadata": {
        "id": "XBtGyQVQ8sqQ",
        "colab_type": "code",
        "colab": {
          "base_uri": "https://localhost:8080/",
          "height": 377
        },
        "outputId": "0657f350-6197-4088-9d44-f39fe208fd36"
      },
      "source": [
        "file_data   = \"mnist_test.csv\"\n",
        "handle_file = open(file_data, \"r\")\n",
        "data        = handle_file.readlines()\n",
        "handle_file.close()\n",
        "\n",
        "size_row    = 28    # height of the image\n",
        "size_col    = 28    # width of the image\n",
        "\n",
        "num_image   = len(data)   #10000개\n",
        "count       = 0     # count for the number of images\n",
        "\n",
        "#\n",
        "# make a matrix each column of which represents an images in a vector form \n",
        "#\n",
        "list_image  = np.empty((size_row * size_col, num_image), dtype=float)   #784 * 10000 matrix\n",
        "list_label  = np.empty(num_image, dtype=int)                            #10000 vector\n",
        "\n",
        "for line in data:\n",
        "\n",
        "    line_data   = line.split(',')\n",
        "    label       = line_data[0]\n",
        "    im_vector   = np.asfarray(line_data[1:])\n",
        "\n",
        "    list_label[count]       = label\n",
        "    list_image[:, count]    = im_vector    \n",
        "\n",
        "    count += 1\n",
        "\n",
        "# \n",
        "# plot first 100 images out of 10,000 with their labels\n",
        "# \n",
        "f1 = plt.figure(1)\n",
        "\n",
        "for i in range(100):\n",
        "\n",
        "    label       = list_label[i]\n",
        "    im_vector   = list_image[:, i]\n",
        "    im_matrix   = im_vector.reshape((size_row, size_col))\n",
        "\n",
        "    plt.subplot(10, 10, i+1)\n",
        "    plt.title(label)\n",
        "    plt.imshow(im_matrix, cmap='Greys', interpolation='None')\n",
        "\n",
        "    frame   = plt.gca()\n",
        "    frame.axes.get_xaxis().set_visible(False)\n",
        "    frame.axes.get_yaxis().set_visible(False)\n",
        "\n",
        "plt.show()\n",
        "print(len(list_image[:,2])) #784\n",
        "print(list_image[0])\n",
        "print(len(list_image[1])) #10000\n",
        "print(len(list_image))    #784\n",
        "print(num_image)          #10000\n",
        "print(len(im_vector))     #784"
      ],
      "execution_count": 20,
      "outputs": [
        {
          "output_type": "display_data",
          "data": {
            "image/png": "[encoded data removed]",
            "text/plain": [
              "<Figure size 432x288 with 100 Axes>"
            ]
          },
          "metadata": {
            "tags": [],
            "needs_background": "light"
          }
        },
        {
          "output_type": "stream",
          "text": [
            "784\n",
            "[0. 0. 0. ... 0. 0. 0.]\n",
            "10000\n",
            "784\n",
            "10000\n",
            "784\n"
          ],
          "name": "stdout"
        }
      ]
    },
    {
      "cell_type": "code",
      "metadata": {
        "id": "KDl97snMfMu6",
        "colab_type": "code",
        "colab": {
          "base_uri": "https://localhost:8080/",
          "height": 227
        },
        "outputId": "6ef878bd-2843-445b-d7a4-c5ef286b49e1"
      },
      "source": [
        "avg_image = np.zeros([784,10])\n",
        "avg_label = [0, 1, 2, 3, 4, 5, 6, 7, 8, 9]\n",
        "\n",
        "for i in range(0, 10000):\n",
        "  index = list_label[i] #index를 할당\n",
        "  avg_image[:,index] += list_image[:, i] / 256\n",
        "\n",
        "##출력부분\n",
        "for i in range(10):\n",
        "    label       = avg_label[i]\n",
        "    im_vector   = avg_image[:, i]\n",
        "    im_matrix   = im_vector.reshape((size_row, size_col))\n",
        "\n",
        "    plt.subplot(2, 5, i+1)\n",
        "    plt.title(label)\n",
        "    plt.imshow(im_matrix, cmap='Greys', interpolation='None')\n",
        "\n",
        "    frame   = plt.gca()\n",
        "    frame.axes.get_xaxis().set_visible(False)\n",
        "    frame.axes.get_yaxis().set_visible(False)\n",
        "\n",
        "plt.show()"
      ],
      "execution_count": 29,
      "outputs": [
        {
          "output_type": "display_data",
          "data": {
            "image/png": "[encoded data removed]",
            "text/plain": [
              "<Figure size 432x288 with 10 Axes>"
            ]
          },
          "metadata": {
            "tags": [],
            "needs_background": "light"
          }
        }
      ]
    },
    {
      "cell_type": "code",
      "metadata": {
        "id": "MFaPtak-zpwW",
        "colab_type": "code",
        "colab": {}
      },
      "source": [
        "data = np.genfromtxt(\"data-nonlinear.txt\", delimiter=',')\n",
        "x = data[:, 0]\n",
        "y = data[:, 1]\n",
        "label = data[:, 2]\n",
        "x_label0 = x[label == 0]\n",
        "x_label1 = x[label == 1]\n",
        "y_label0 = y[label == 0]\n",
        "y_label1 = y[label == 1]\n",
        "\n",
        "iters = deque()\n",
        "accuracys1 = deque()\n",
        "accuracys2 = deque()\n",
        "accuracys3 = deque()\n",
        "accuracys4 = deque()\n",
        "accuracys5 = deque()\n",
        "train_costs1 = deque()\n",
        "train_costs2 = deque()\n",
        "train_costs3 = deque()\n",
        "train_costs4 = deque()\n",
        "train_costs5 = deque()\n",
        "theta_datas1 = deque()\n",
        "theta_datas2 = deque()\n",
        "theta_datas3 = deque()\n",
        "theta_datas4 = deque()\n",
        "theta_datas5 = deque()\n",
        "lambda_datas = deque()\n",
        "#print(label[57])\n",
        "#print(label[58])\n",
        "#print(type(x))\n",
        "#print(y_label0)\n",
        "#print(type(x_label0))\n",
        "#print(len(x)) #118\n",
        "#print(y)\n",
        "#print(label)\n",
        "#print(len(x_label0)) #60\n",
        "#print(len(x_label1)) #58"
      ],
      "execution_count": 0,
      "outputs": []
    },
    {
      "cell_type": "markdown",
      "metadata": {
        "id": "Cw4DKfx74hAg",
        "colab_type": "text"
      },
      "source": [
        "### **Logistic Regression**\n",
        "1) non-Linear Model\n",
        "<br>\n",
        "$\\ z =  g(x, y; \\theta) = \\sum_{i=0}^{9} \\sum_{j=0}^{9} \\theta_{i,j} x^{i} y^{j}$  \n",
        "$\\sigma(z) = \\frac{1}{1 + \\exp(-z)}$\n",
        "<br>  \n",
        "2) Objective Function\n",
        "<br>\n",
        "$J(\\theta) = \\frac{1}{m} \\sum_{i=1}^m \\left[ - l^{(i)} \\log(\\sigma(g(x^{(i)}, y^{(i)}; \\theta))) - (1 - l^{(i)}) \\log(1 - \\sigma(g(x^{(i)}, y^{(i)}; \\theta))) \\right] + \\frac{\\lambda}{2} \\sum_{i=0}^{9} \\sum_{j=0}^{9} \\theta_{i,j}^2$\n",
        "<br>  \n",
        "3) Gradient Descent\n",
        "<br>\n",
        "$\\theta_{i, j}^{(t+1)} = \\theta_{i, j}^{(t)} - \\alpha \\left[ \\frac{1}{m} \\sum_{i=1}^{m} (\\sigma(g(x^{(i)}, y^{(i)}; \\theta^{(t)})) - l^{(i)}) \\frac{\\partial g(x^{(i)}, y^{(i)}; \\theta^{(t)})}{\\partial \\theta_{i, j}} + \\lambda \\theta_{i, j}^{(t)} \\right]$, for all $i, j$  \n",
        "<br>\n",
        "4) HyperParameters Setting\n",
        "<br>\n",
        "$\\ lr = 3*10^{-1}$\n",
        "\n"
      ]
    },
    {
      "cell_type": "code",
      "metadata": {
        "id": "b8ZdZ71zkyiN",
        "colab_type": "code",
        "colab": {}
      },
      "source": [
        "def sigmoidFunction(z):\n",
        "  result = 1/(1 + np.exp(-z))\n",
        "  return result"
      ],
      "execution_count": 0,
      "outputs": []
    },
    {
      "cell_type": "code",
      "metadata": {
        "id": "iPhWp_3TE3Uk",
        "colab_type": "code",
        "colab": {}
      },
      "source": [
        "def gFunction(x_data, y_data, theta_data):  #단일 x,y와 모든 theta 계산\n",
        "  result = 0\n",
        "  for i in range(0, 10):\n",
        "    for j in range(0, 10):\n",
        "      result += theta_data[i][j] * np.power(x_data, i) * np.power(y_data, j)\n",
        "  return result"
      ],
      "execution_count": 0,
      "outputs": []
    },
    {
      "cell_type": "code",
      "metadata": {
        "id": "B-ZACWZb_njd",
        "colab_type": "code",
        "colab": {}
      },
      "source": [
        "def objectiveFunction(x_data, y_data, class_data, theta_data, lambda_data):\n",
        "  cost = 0\n",
        "  predictions = deque()\n",
        "  for i in range(0, 118):\n",
        "    estimate = gFunction(x_data[i], y_data[i], theta_data)\n",
        "    estimate = sigmoidFunction(estimate)\n",
        "    #print(estimate)\n",
        "    #print(\"Estimate\",estimate)\n",
        "    predictions.append((-class_data[i]*np.log(estimate)) - (1-class_data[i])*np.log(1-estimate))\n",
        "    #print(\"predictions\",predictions)\n",
        "  cost = np.sum(predictions) / 118                          #data fidelity term\n",
        "  cost += lambda_data / 2 * np.sum(np.square(theta_data))   #regularization term\n",
        "  #print(\"Cost출력\",cost)\n",
        "  return cost"
      ],
      "execution_count": 0,
      "outputs": []
    },
    {
      "cell_type": "code",
      "metadata": {
        "id": "NsaVBnlHiAys",
        "colab_type": "code",
        "colab": {}
      },
      "source": [
        "def gradientDescent(x_data, y_data, class_data, theta_data, lambda_data):\n",
        "  lr = 3e-1\n",
        "  for i in range(0, 10):\n",
        "    for j in range(0, 10):\n",
        "      estimate = 0\n",
        "      for k in range(0, 118):\n",
        "        estimate += (sigmoidFunction(gFunction(x_data[k], y_data[k], theta_data)) - class_data[k]) * np.power(x_data[k],i) * np.power(y_data[k],j)\n",
        "      theta_data[i][j] -= lr * (estimate/118 + lambda_data * theta_data[i][j])\n",
        "  return theta_data"
      ],
      "execution_count": 0,
      "outputs": []
    },
    {
      "cell_type": "code",
      "metadata": {
        "id": "nKROWnxQlgsK",
        "colab_type": "code",
        "colab": {}
      },
      "source": [
        "def main():\n",
        "  theta_data = np.zeros([10,10])  #Initialization\n",
        "  \"\"\"\n",
        "  for iter in range(0, 250):    \n",
        "    lambda_data = 0.00001\n",
        "    train_value = objectiveFunction(x, y, label, theta_data, lambda_data)\n",
        "    train_costs1.append(train_value)\n",
        "    theta_data = gradientDescent(x, y, label, theta_data, lambda_data)\n",
        "    check = 0\n",
        "    for i in range(0, 60):\n",
        "      if gFunction(x[i], y[i], theta_data) >= 0:\n",
        "        check += 1\n",
        "    for i in range(60, 118):\n",
        "      if gFunction(x[i], y[i], theta_data)  < 0:\n",
        "        check += 1\n",
        "    accuracy = check / 118 * 100\n",
        "    accuracys1.append(accuracy)\n",
        "    iters.append(iter)\n",
        "    theta_datas1.append(theta_data)\n",
        "    lambda_datas.append(lambda_data)\n",
        "  \"\"\"\n",
        "  ## 2번째 람다 실험\n",
        "  theta_data = np.zeros([10,10])  #Initialization\n",
        "  for iter in range(0, 250):    \n",
        "    check = 0\n",
        "    for i in range(0, 60):\n",
        "      if gFunction(x[i], y[i], theta_data) >= 0:\n",
        "        check += 1\n",
        "    for i in range(60, 118):\n",
        "      if gFunction(x[i], y[i], theta_data)  < 0:\n",
        "        check += 1\n",
        "    accuracy = check / 118 * 100\n",
        "    accuracys2.append(accuracy)\n",
        "\n",
        "    lambda_data = 0.0003\n",
        "    train_value = objectiveFunction(x, y, label, theta_data, lambda_data)\n",
        "    train_costs2.append(train_value)\n",
        "    theta_data = gradientDescent(x, y, label, theta_data, lambda_data)\n",
        "    theta_datas2.append(theta_data)\n",
        "    lambda_datas.append(lambda_data)\n",
        "  \"\"\"\n",
        "  ## 3번째 람다 실험\n",
        "  theta_data = np.zeros([10,10])  #Initialization\n",
        "  for iter in range(0, 250):    \n",
        "    check = 0\n",
        "    for i in range(0, 60):\n",
        "      if gFunction(x[i], y[i], theta_data) >= 0:\n",
        "        check += 1\n",
        "    for i in range(60, 118):\n",
        "      if gFunction(x[i], y[i], theta_data)  < 0:\n",
        "        check += 1\n",
        "    accuracy = check / 118 * 100\n",
        "    accuracys3.append(accuracy)\n",
        "\n",
        "    lambda_data = 1\n",
        "    train_value = objectiveFunction(x, y, label, theta_data, lambda_data)\n",
        "    train_costs3.append(train_value)\n",
        "    theta_data = gradientDescent(x, y, label, theta_data, lambda_data)\n",
        "    theta_datas3.append(theta_data)\n",
        "    lambda_datas.append(lambda_data)\n",
        "  \"\"\"\n",
        "if __name__ == \"__main__\":\n",
        "  main()"
      ],
      "execution_count": 0,
      "outputs": []
    },
    {
      "cell_type": "markdown",
      "metadata": {
        "id": "FvYhujX-JNLK",
        "colab_type": "text"
      },
      "source": [
        "### **1. Plot the training data**"
      ]
    },
    {
      "cell_type": "code",
      "metadata": {
        "id": "T8fDzM1DJH53",
        "colab_type": "code",
        "outputId": "9143c7f0-2192-4b82-d0c1-1ea93e2f94c7",
        "colab": {
          "base_uri": "https://localhost:8080/",
          "height": 283
        }
      },
      "source": [
        "print(\"Plotting the training data\")\n",
        "plt.figure()\n",
        "plt.scatter(x_label0, y_label0, alpha=0.3, c='b')\n",
        "plt.scatter(x_label1, y_label1, alpha=0.3, c='r')\n",
        "plt.show()"
      ],
      "execution_count": 0,
      "outputs": [
        {
          "output_type": "stream",
          "text": [
            "Plotting the training data\n"
          ],
          "name": "stdout"
        },
        {
          "output_type": "display_data",
          "data": {
            "image/png": "[encoded data removed]",
            "text/plain": [
              "<Figure size 432x288 with 1 Axes>"
            ]
          },
          "metadata": {
            "tags": [],
            "needs_background": "light"
          }
        }
      ]
    },
    {
      "cell_type": "markdown",
      "metadata": {
        "id": "D4-SO5AfK4Qe",
        "colab_type": "text"
      },
      "source": [
        "### **2. Plotting the Training Error with Regularizations**"
      ]
    },
    {
      "cell_type": "code",
      "metadata": {
        "id": "Xpmo7Xr-LKzC",
        "colab_type": "code",
        "outputId": "fda1158b-f399-4897-a14a-f914c9137c9d",
        "colab": {
          "base_uri": "https://localhost:8080/",
          "height": 663
        }
      },
      "source": [
        "print(\"Plotting the Training Error\")\n",
        "plt.plot(iters, train_costs1, 'r')\n",
        "plt.plot(iters, train_costs2, 'g')\n",
        "plt.plot(iters, train_costs3, 'b')\n",
        "plt.xlabel('iteration')\n",
        "plt.ylabel('Traing Error')\n",
        "plt.show()"
      ],
      "execution_count": 0,
      "outputs": [
        {
          "output_type": "stream",
          "text": [
            "Plotting the Training Error\n"
          ],
          "name": "stdout"
        },
        {
          "output_type": "error",
          "ename": "ValueError",
          "evalue": "ignored",
          "traceback": [
            "\u001b[0;31m---------------------------------------------------------------------------\u001b[0m",
            "\u001b[0;31mValueError\u001b[0m                                Traceback (most recent call last)",
            "\u001b[0;32m<ipython-input-23-4ec1a1f1208d>\u001b[0m in \u001b[0;36m<module>\u001b[0;34m()\u001b[0m\n\u001b[1;32m      1\u001b[0m \u001b[0mprint\u001b[0m\u001b[0;34m(\u001b[0m\u001b[0;34m\"Plotting the Training Error\"\u001b[0m\u001b[0;34m)\u001b[0m\u001b[0;34m\u001b[0m\u001b[0;34m\u001b[0m\u001b[0m\n\u001b[1;32m      2\u001b[0m \u001b[0mplt\u001b[0m\u001b[0;34m.\u001b[0m\u001b[0mplot\u001b[0m\u001b[0;34m(\u001b[0m\u001b[0miters\u001b[0m\u001b[0;34m,\u001b[0m \u001b[0mtrain_costs1\u001b[0m\u001b[0;34m,\u001b[0m \u001b[0;34m'r'\u001b[0m\u001b[0;34m)\u001b[0m\u001b[0;34m\u001b[0m\u001b[0;34m\u001b[0m\u001b[0m\n\u001b[0;32m----> 3\u001b[0;31m \u001b[0mplt\u001b[0m\u001b[0;34m.\u001b[0m\u001b[0mplot\u001b[0m\u001b[0;34m(\u001b[0m\u001b[0miters\u001b[0m\u001b[0;34m,\u001b[0m \u001b[0mtrain_costs2\u001b[0m\u001b[0;34m,\u001b[0m \u001b[0;34m'g'\u001b[0m\u001b[0;34m)\u001b[0m\u001b[0;34m\u001b[0m\u001b[0;34m\u001b[0m\u001b[0m\n\u001b[0m\u001b[1;32m      4\u001b[0m \u001b[0mplt\u001b[0m\u001b[0;34m.\u001b[0m\u001b[0mplot\u001b[0m\u001b[0;34m(\u001b[0m\u001b[0miters\u001b[0m\u001b[0;34m,\u001b[0m \u001b[0mtrain_costs3\u001b[0m\u001b[0;34m,\u001b[0m \u001b[0;34m'b'\u001b[0m\u001b[0;34m)\u001b[0m\u001b[0;34m\u001b[0m\u001b[0;34m\u001b[0m\u001b[0m\n\u001b[1;32m      5\u001b[0m \u001b[0mplt\u001b[0m\u001b[0;34m.\u001b[0m\u001b[0mxlabel\u001b[0m\u001b[0;34m(\u001b[0m\u001b[0;34m'iteration'\u001b[0m\u001b[0;34m)\u001b[0m\u001b[0;34m\u001b[0m\u001b[0;34m\u001b[0m\u001b[0m\n",
            "\u001b[0;32m/usr/local/lib/python3.6/dist-packages/matplotlib/pyplot.py\u001b[0m in \u001b[0;36mplot\u001b[0;34m(scalex, scaley, data, *args, **kwargs)\u001b[0m\n\u001b[1;32m   2761\u001b[0m     return gca().plot(\n\u001b[1;32m   2762\u001b[0m         *args, scalex=scalex, scaley=scaley, **({\"data\": data} if data\n\u001b[0;32m-> 2763\u001b[0;31m         is not None else {}), **kwargs)\n\u001b[0m\u001b[1;32m   2764\u001b[0m \u001b[0;34m\u001b[0m\u001b[0m\n\u001b[1;32m   2765\u001b[0m \u001b[0;34m\u001b[0m\u001b[0m\n",
            "\u001b[0;32m/usr/local/lib/python3.6/dist-packages/matplotlib/axes/_axes.py\u001b[0m in \u001b[0;36mplot\u001b[0;34m(self, scalex, scaley, data, *args, **kwargs)\u001b[0m\n\u001b[1;32m   1644\u001b[0m         \"\"\"\n\u001b[1;32m   1645\u001b[0m         \u001b[0mkwargs\u001b[0m \u001b[0;34m=\u001b[0m \u001b[0mcbook\u001b[0m\u001b[0;34m.\u001b[0m\u001b[0mnormalize_kwargs\u001b[0m\u001b[0;34m(\u001b[0m\u001b[0mkwargs\u001b[0m\u001b[0;34m,\u001b[0m \u001b[0mmlines\u001b[0m\u001b[0;34m.\u001b[0m\u001b[0mLine2D\u001b[0m\u001b[0;34m)\u001b[0m\u001b[0;34m\u001b[0m\u001b[0;34m\u001b[0m\u001b[0m\n\u001b[0;32m-> 1646\u001b[0;31m         \u001b[0mlines\u001b[0m \u001b[0;34m=\u001b[0m \u001b[0;34m[\u001b[0m\u001b[0;34m*\u001b[0m\u001b[0mself\u001b[0m\u001b[0;34m.\u001b[0m\u001b[0m_get_lines\u001b[0m\u001b[0;34m(\u001b[0m\u001b[0;34m*\u001b[0m\u001b[0margs\u001b[0m\u001b[0;34m,\u001b[0m \u001b[0mdata\u001b[0m\u001b[0;34m=\u001b[0m\u001b[0mdata\u001b[0m\u001b[0;34m,\u001b[0m \u001b[0;34m**\u001b[0m\u001b[0mkwargs\u001b[0m\u001b[0;34m)\u001b[0m\u001b[0;34m]\u001b[0m\u001b[0;34m\u001b[0m\u001b[0;34m\u001b[0m\u001b[0m\n\u001b[0m\u001b[1;32m   1647\u001b[0m         \u001b[0;32mfor\u001b[0m \u001b[0mline\u001b[0m \u001b[0;32min\u001b[0m \u001b[0mlines\u001b[0m\u001b[0;34m:\u001b[0m\u001b[0;34m\u001b[0m\u001b[0;34m\u001b[0m\u001b[0m\n\u001b[1;32m   1648\u001b[0m             \u001b[0mself\u001b[0m\u001b[0;34m.\u001b[0m\u001b[0madd_line\u001b[0m\u001b[0;34m(\u001b[0m\u001b[0mline\u001b[0m\u001b[0;34m)\u001b[0m\u001b[0;34m\u001b[0m\u001b[0;34m\u001b[0m\u001b[0m\n",
            "\u001b[0;32m/usr/local/lib/python3.6/dist-packages/matplotlib/axes/_base.py\u001b[0m in \u001b[0;36m__call__\u001b[0;34m(self, *args, **kwargs)\u001b[0m\n\u001b[1;32m    214\u001b[0m                 \u001b[0mthis\u001b[0m \u001b[0;34m+=\u001b[0m \u001b[0margs\u001b[0m\u001b[0;34m[\u001b[0m\u001b[0;36m0\u001b[0m\u001b[0;34m]\u001b[0m\u001b[0;34m,\u001b[0m\u001b[0;34m\u001b[0m\u001b[0;34m\u001b[0m\u001b[0m\n\u001b[1;32m    215\u001b[0m                 \u001b[0margs\u001b[0m \u001b[0;34m=\u001b[0m \u001b[0margs\u001b[0m\u001b[0;34m[\u001b[0m\u001b[0;36m1\u001b[0m\u001b[0;34m:\u001b[0m\u001b[0;34m]\u001b[0m\u001b[0;34m\u001b[0m\u001b[0;34m\u001b[0m\u001b[0m\n\u001b[0;32m--> 216\u001b[0;31m             \u001b[0;32myield\u001b[0m \u001b[0;32mfrom\u001b[0m \u001b[0mself\u001b[0m\u001b[0;34m.\u001b[0m\u001b[0m_plot_args\u001b[0m\u001b[0;34m(\u001b[0m\u001b[0mthis\u001b[0m\u001b[0;34m,\u001b[0m \u001b[0mkwargs\u001b[0m\u001b[0;34m)\u001b[0m\u001b[0;34m\u001b[0m\u001b[0;34m\u001b[0m\u001b[0m\n\u001b[0m\u001b[1;32m    217\u001b[0m \u001b[0;34m\u001b[0m\u001b[0m\n\u001b[1;32m    218\u001b[0m     \u001b[0;32mdef\u001b[0m \u001b[0mget_next_color\u001b[0m\u001b[0;34m(\u001b[0m\u001b[0mself\u001b[0m\u001b[0;34m)\u001b[0m\u001b[0;34m:\u001b[0m\u001b[0;34m\u001b[0m\u001b[0;34m\u001b[0m\u001b[0m\n",
            "\u001b[0;32m/usr/local/lib/python3.6/dist-packages/matplotlib/axes/_base.py\u001b[0m in \u001b[0;36m_plot_args\u001b[0;34m(self, tup, kwargs)\u001b[0m\n\u001b[1;32m    340\u001b[0m \u001b[0;34m\u001b[0m\u001b[0m\n\u001b[1;32m    341\u001b[0m         \u001b[0;32mif\u001b[0m \u001b[0mx\u001b[0m\u001b[0;34m.\u001b[0m\u001b[0mshape\u001b[0m\u001b[0;34m[\u001b[0m\u001b[0;36m0\u001b[0m\u001b[0;34m]\u001b[0m \u001b[0;34m!=\u001b[0m \u001b[0my\u001b[0m\u001b[0;34m.\u001b[0m\u001b[0mshape\u001b[0m\u001b[0;34m[\u001b[0m\u001b[0;36m0\u001b[0m\u001b[0;34m]\u001b[0m\u001b[0;34m:\u001b[0m\u001b[0;34m\u001b[0m\u001b[0;34m\u001b[0m\u001b[0m\n\u001b[0;32m--> 342\u001b[0;31m             raise ValueError(f\"x and y must have same first dimension, but \"\n\u001b[0m\u001b[1;32m    343\u001b[0m                              f\"have shapes {x.shape} and {y.shape}\")\n\u001b[1;32m    344\u001b[0m         \u001b[0;32mif\u001b[0m \u001b[0mx\u001b[0m\u001b[0;34m.\u001b[0m\u001b[0mndim\u001b[0m \u001b[0;34m>\u001b[0m \u001b[0;36m2\u001b[0m \u001b[0;32mor\u001b[0m \u001b[0my\u001b[0m\u001b[0;34m.\u001b[0m\u001b[0mndim\u001b[0m \u001b[0;34m>\u001b[0m \u001b[0;36m2\u001b[0m\u001b[0;34m:\u001b[0m\u001b[0;34m\u001b[0m\u001b[0;34m\u001b[0m\u001b[0m\n",
            "\u001b[0;31mValueError\u001b[0m: x and y must have same first dimension, but have shapes (250,) and (500,)"
          ]
        },
        {
          "output_type": "display_data",
          "data": {
            "image/png": "[encoded data removed]",
            "text/plain": [
              "<Figure size 432x288 with 1 Axes>"
            ]
          },
          "metadata": {
            "tags": [],
            "needs_background": "light"
          }
        }
      ]
    },
    {
      "cell_type": "code",
      "metadata": {
        "id": "PMlFvyoUhxgC",
        "colab_type": "code",
        "outputId": "3cebd158-da45-4bdf-9d46-febf9d726fca",
        "colab": {
          "base_uri": "https://localhost:8080/",
          "height": 55
        }
      },
      "source": [
        "print(train_costs2)"
      ],
      "execution_count": 0,
      "outputs": [
        {
          "output_type": "stream",
          "text": [
            "deque([0.6931471805599454, 0.6878832113299839, 0.6831908007480447, 0.67896523151624, 0.6751230171528619, 0.6715978461117332, 0.6683371111563989, 0.6652990382172204, 0.6624503658022974, 0.6597644991061389, 0.657220057483535, 0.654799739524018, 0.6524894401495327, 0.650277565400313, 0.6481545011156171, 0.64611220084262, 0.6441438658552308, 0.6422436962334968, 0.640406696745657, 0.6386285250129285, 0.6369053723309422, 0.6352338697509442, 0.6336110137360379, 0.6320341070206686, 0.6305007113076636, 0.6290086092082183, 0.6275557734214651, 0.6261403416040225, 0.624760595728579, 0.6234149449988056, 0.6221019115945624, 0.6208201186808568, 0.6195682802372773, 0.6183451923600776, 0.6171497257631083, 0.6159808192613306, 0.6148374740654273, 0.6137187487509853, 0.6126237547930427, 0.6115516525782198, 0.6105016478234919, 0.6094729883439184, 0.6084649611221452, 0.607476889640813, 0.6065081314456354, 0.6055580759121983, 0.604626142193812, 0.6037117773311628, 0.6028144545073162, 0.6019336714338971, 0.6010689488561523, 0.6002198291661411, 0.5993858751146037, 0.5985666686131358, 0.5977618096192123, 0.5969709150973959, 0.5961936180507246, 0.5954295666168629, 0.5946784232241025, 0.5939398638027454, 0.5932135770477851, 0.5924992637291638, 0.5917966360461777, 0.5911054170228938, 0.5904253399416822, 0.5897561478121998, 0.5890975928733675, 0.5884494361260647, 0.5878114468944439, 0.5871834024139143, 0.5865650874439986, 0.5859562939043855, 0.5853568205326348, 0.5847664725620921, 0.5841850614186804, 0.5836124044353249, 0.5830483245828659, 0.5824926502163756, 0.5819452148358938, 0.581405856860648, 0.5808744194158982, 0.5803507501315991, 0.5798347009521354, 0.5793261279564296, 0.5788248911877754, 0.5783308544927883, 0.5778438853689104, 0.5773638548199411, 0.5768906372191059, 0.5764241101791977, 0.57596415442937, 0.5755106536981776, 0.5750634946024911, 0.5746225665419392, 0.5741877615985496, 0.5737589744412847, 0.5733361022351856, 0.5729190445548614, 0.5725077033020669, 0.5721019826271431, 0.5717017888540945, 0.5713070304091022, 0.5709176177522794, 0.5705334633124894, 0.5701544814250555, 0.5697805882722072, 0.5694117018261113, 0.5690477417943511, 0.5686886295677192, 0.5683342881702043, 0.567984642211054, 0.5676396178388066, 0.5672991426971868, 0.5669631458827769, 0.566631557904358, 0.5663043106438569, 0.5659813373187985, 0.5656625724462021, 0.5653479518078434, 0.5650374124168194, 0.5647308924853485, 0.5644283313937518, 0.5641296696605544, 0.5638348489136564, 0.5635438118625234, 0.563256502271348, 0.5629728649331391, 0.5626928456446951, 0.5624163911824229, 0.5621434492789641, 0.5618739686005918, 0.5616078987253449, 0.5613451901218697, 0.5610857941289348, 0.5608296629355931, 0.5605767495619628, 0.5603270078406035, 0.5600803923984573, 0.5598368586393397, 0.5595963627269506, 0.5593588615683901, 0.559124312798155, 0.5588926747626002, 0.558663906504844, 0.558437967750104, 0.5582148188914419, 0.5579944209759078, 0.5577767356910642, 0.557561725351878, 0.5573493528879664, 0.5571395818311847, 0.5569323763035423, 0.556727701005436, 0.5565255212041901, 0.5563258027228914, 0.5561285119295102, 0.5559336157262955, 0.555741081539439, 0.555550877308993, 0.5553629714790401, 0.5551773329881031, 0.5549939312597869, 0.5548127361936455, 0.5546337181562695, 0.5544568479725827, 0.5542820969173441, 0.5541094367068494, 0.5539388394908236, 0.5537702778445006, 0.5536037247608844, 0.5534391536431842, 0.5532765382974221, 0.5531158529252045, 0.5529570721166551, 0.5528001708435026, 0.5526451244523226, 0.5524919086579229, 0.5523404995368757, 0.5521908735211873, 0.5520430073921034, 0.5518968782740449, 0.5517524636286746, 0.5516097412490857, 0.5514686892541135, 0.5513292860827655, 0.5511915104887638, 0.5510553415352037, 0.5509207585893182, 0.55078774131735, 0.5506562696795282, 0.5505263239251446, 0.5503978845877286, 0.5502709324803206, 0.5501454486908347, 0.550021414577518, 0.5498988117644945, 0.5497776221373997, 0.5496578278390972, 0.5495394112654812, 0.5494223550613563, 0.5493066421164007, 0.549192255561203, 0.5490791787633758, 0.5489673953237441, 0.5488568890726031, 0.5487476440660491, 0.5486396445823768, 0.5485328751185456, 0.5484273203867107, 0.5483229653108178, 0.5482197950232627, 0.5481177948616097, 0.548016950365372, 0.5479172472728494, 0.5478186715180253, 0.5477212092275175, 0.5476248467175867, 0.5475295704911964, 0.547435367235127, 0.5473422238171403, 0.5472501272831969, 0.5471590648547188, 0.5470690239259055, 0.5469799920610928, 0.5468919569921612, 0.546804906615988, 0.5467188289919448, 0.5466337123394381, 0.5465495450354932, 0.5464663156123788, 0.5463840127552736, 0.5463026252999728, 0.5462221422306347, 0.5461425526775632, 0.5460638459150321, 0.545986011359143, 0.5459090385657213, 0.5458329172282474, 0.5457576371758228, 0.5456831883711704, 0.5456095609086687, 0.5455367450124178, 0.5454647310343395, 0.5453935094523074, 0.5453230708683086, 0.5452534060066369, 0.5451845057121135, 0.5451163609483397, 0.5450489627959763, 0.5449823024510517, 0.6931471805599454, 0.6878755103304562, 0.6831479684895635, 0.6788653268436436, 0.6749480663095907, 0.6713327403549082, 0.667968821093986, 0.6648160605788765, 0.6618423372082193, 0.6590219279213007, 0.6563341381393392, 0.6537622238490942, 0.6512925477624647, 0.6489139206483633, 0.6466170879110035, 0.6443943294714185, 0.6422391477353739, 0.6401460239161277, 0.6381102273610364, 0.636127665981706, 0.6341947685813127, 0.6323083919635752, 0.630465747324797, 0.6286643416781619, 0.6269019310213992, 0.6251764827003293, 0.6234861449923739, 0.6218292223751071, 0.6202041552854702, 0.618609503438577, 0.6170439319788865, 0.6155061998945424, 0.6139951502483787, 0.6125097018745084, 0.6110488422636929, 0.6096116214186861, 0.6081971465060092, 0.6068045771660917, 0.605433121371496, 0.6040820317448091, 0.6027506022649726, 0.6014381653043991, 0.600144088949966, 0.5988677745694959, 0.597608654592099, 0.5963661904761773, 0.5951398708432054, 0.5939292097589027, 0.5927337451462114, 0.5915530373167928, 0.5903866676096032, 0.5892342371266555, 0.5880953655573193, 0.5869696900835798, 0.5858568643595334, 0.5847565575591575, 0.5836684534870066, 0.582592249747033, 0.5815276569651874, 0.5804743980618589, 0.5794322075705686, 0.5784008309996351, 0.577380024233808, 0.5763695529731033, 0.5753691922063054, 0.5743787257167806, 0.5733979456184399, 0.5724266519198414, 0.5714646521145704, 0.5705117607961764, 0.5695677992960595, 0.5686325953428203, 0.5677059827416853, 0.5667878010727215, 0.5658778954066399, 0.5649761160370639, 0.5640823182282287, 0.5631963619771334, 0.5623181117892412, 0.5614474364668819, 0.5605842089095658, 0.5597283059254737, 0.5588796080534293, 0.5580379993947181, 0.5572033674541443, 0.5563756029897654, 0.5555545998707827, 0.5547402549430899, 0.5539324679020258, 0.5531311411718935, 0.5523361797918537, 0.5515474913078026, 0.5507649856698917, 0.5499885751353529, 0.5492181741763199, 0.5484536993923571, 0.5476950694274233, 0.5469422048910111, 0.546195028283231, 0.5454534639236043, 0.544717437883366, 0.5439868779210697, 0.5432617134213152, 0.542541875336423, 0.5418272961308879, 0.541117909728467, 0.5404136514617457, 0.5397144580240563, 0.5390202674236141, 0.538331018939755, 0.5376466530811598, 0.5369671115459588, 0.5362923371836169, 0.5356222739585055, 0.5349568669150708, 0.5342960621445162, 0.5336398067529198, 0.5329880488307112, 0.5323407374234419, 0.531697822503777, 0.5310592549446501, 0.530424986493524, 0.5297949697476948, 0.529169158130598, 0.5285475058690545, 0.5279299679714212, 0.5273165002065946, 0.5267070590838294, 0.5261016018333315, 0.5255000863875875, 0.5249024713633983, 0.5243087160445793, 0.5237187803653, 0.5231326248940292, 0.522550210818062, 0.5219714999285963, 0.5213964546063401, 0.5208250378076191, 0.5202572130509664, 0.5196929444041712, 0.5191321964717663, 0.5185749343829343, 0.5180211237798141, 0.5174707308061937, 0.5169237220965657, 0.516380064765538, 0.5158397263975785, 0.5153026750370814, 0.514768879178745, 0.514238307758242, 0.5137109301431759, 0.5131867161243079, 0.5126656359070453, 0.5121476601031818, 0.511632759722876, 0.5111209061668631, 0.5106120712188874, 0.510106227038349, 0.5096033461531555, 0.5091034014527704, 0.5086063661814535, 0.5081122139316813, 0.5076209186377454, 0.5071324545695213, 0.506646796326397, 0.506163918831363, 0.5056837973252521, 0.5052064073611262, 0.5047317247988041, 0.5042597257995256, 0.5037903868207483, 0.5033236846110705, 0.502859596205277, 0.5023980989195039, 0.5019391703465197, 0.5014827883511132, 0.501028931065594, 0.5005775768853936, 0.5001287044647676, 0.49968229271259584, 0.4992383207882771, 0.49879676809771417, 0.4983576142893882, 0.49792083925051944, 0.49748642310330954, 0.4970543462012668, 0.49662458912560814, 0.4961971326817377, 0.49577195789579953, 0.49534904601130186, 0.4949283784858105, 0.4945099369877106, 0.49409370339303466, 0.49367965978235256, 0.49326778843772606, 0.49285807183972247, 0.49245049266448715, 0.49204503378087433, 0.4916416782476325, 0.4912404093106443, 0.49084121040022033, 0.49044406512844285, 0.4900489572865609, 0.48965587084243384, 0.48926478993802225, 0.48887569888692617, 0.48848858217196733, 0.4881034244428172, 0.4877202105136665, 0.4873389253609384, 0.4869595541210408, 0.48658208208816134, 0.4862064947120991, 0.4858327775961354, 0.48546091649494255, 0.4850908973125285, 0.4847227061002166, 0.48435632905466175, 0.48399175251589815, 0.4836289629654234, 0.4832679470243125, 0.48290869145136495, 0.4825511831412827, 0.48219540912287845, 0.48184135655731425, 0.48148901273636857, 0.481138365080732, 0.4807894011383315, 0.48044210858268144, 0.48009647521126153, 0.47975248894392036, 0.47941013782130654, 0.4790694100033226, 0.478730293767605, 0.47839277750802783, 0.4780568497332308, 0.47772249906516845, 0.4773897142376851, 0.4770584840951097, 0.4767287975908731, 0.4764006437861477, 0.4760740118485067, 0.47574889105060425, 0.4754252707688776, 0.475103140482266, 0.4747824897709513, 0.4744633083151175, 0.47414558589372746, 0.4738293123833201, 0.4735144777568233])\n"
          ],
          "name": "stdout"
        }
      ]
    },
    {
      "cell_type": "markdown",
      "metadata": {
        "id": "2skLDWZvqpQq",
        "colab_type": "text"
      },
      "source": [
        "### **3. Displaying the values of the chosen Regularizations**"
      ]
    },
    {
      "cell_type": "code",
      "metadata": {
        "id": "KaC5-xyyq1dC",
        "colab_type": "code",
        "outputId": "fe5a9f6f-2c4c-4f66-abcd-8a62f6d3c0e8",
        "colab": {
          "base_uri": "https://localhost:8080/",
          "height": 71
        }
      },
      "source": [
        "lambda1 = lambda_datas[0]\n",
        "lambda2 = lambda_datas[250]\n",
        "lambda3 = lambda_datas[500]\n",
        "print(\"lambda1 :\\033[31m\",lambda1,\"\\033[0m\")\n",
        "print(\"lambda2 :\\033[32m\",lambda2,\"\\033[0m\")\n",
        "print(\"lambda3 :\\033[34m\",lambda3,\"\\033[0m\")"
      ],
      "execution_count": 0,
      "outputs": [
        {
          "output_type": "stream",
          "text": [
            "lambda1 :\u001b[31m 1e-05 \u001b[0m\n",
            "lambda2 :\u001b[32m 0.01 \u001b[0m\n",
            "lambda3 :\u001b[34m 1 \u001b[0m\n"
          ],
          "name": "stdout"
        }
      ]
    },
    {
      "cell_type": "markdown",
      "metadata": {
        "id": "oX0DzAdQLpGD",
        "colab_type": "text"
      },
      "source": [
        "  \n",
        "    \n",
        "      \n",
        "        \n",
        "          \n",
        "            \n",
        "\n",
        "### **4. Plotting the Training Accuracy with Regularizations**\n",
        "<br>\n",
        "<br>\n",
        "<br>\n",
        "<br>\n",
        "<br>\n",
        "<br>\n",
        "<br>\n",
        "<br>\n",
        "<br>\n",
        "<br>\n"
      ]
    },
    {
      "cell_type": "code",
      "metadata": {
        "id": "_tI6dv4cLmDQ",
        "colab_type": "code",
        "outputId": "2693973d-ea18-4b91-9fe8-af200b99c72a",
        "colab": {
          "base_uri": "https://localhost:8080/",
          "height": 662
        }
      },
      "source": [
        "print(\"Plotting the Training Accuracy\")\n",
        "plt.plot(iters, accuracys1, 'r')\n",
        "plt.plot(iters, accuracys2, 'g')\n",
        "plt.plot(iters, accuracys3, 'b')\n",
        "plt.xlabel('iteration')\n",
        "plt.ylabel('Training Accuracy')\n",
        "plt.show()"
      ],
      "execution_count": 0,
      "outputs": [
        {
          "output_type": "stream",
          "text": [
            "Plotting the Training Accuracy\n"
          ],
          "name": "stdout"
        },
        {
          "output_type": "error",
          "ename": "ValueError",
          "evalue": "ignored",
          "traceback": [
            "\u001b[0;31m---------------------------------------------------------------------------\u001b[0m",
            "\u001b[0;31mValueError\u001b[0m                                Traceback (most recent call last)",
            "\u001b[0;32m<ipython-input-27-8f4d0bf6381d>\u001b[0m in \u001b[0;36m<module>\u001b[0;34m()\u001b[0m\n\u001b[1;32m      1\u001b[0m \u001b[0mprint\u001b[0m\u001b[0;34m(\u001b[0m\u001b[0;34m\"Plotting the Training Accuracy\"\u001b[0m\u001b[0;34m)\u001b[0m\u001b[0;34m\u001b[0m\u001b[0;34m\u001b[0m\u001b[0m\n\u001b[1;32m      2\u001b[0m \u001b[0mplt\u001b[0m\u001b[0;34m.\u001b[0m\u001b[0mplot\u001b[0m\u001b[0;34m(\u001b[0m\u001b[0miters\u001b[0m\u001b[0;34m,\u001b[0m \u001b[0maccuracys1\u001b[0m\u001b[0;34m,\u001b[0m \u001b[0;34m'r'\u001b[0m\u001b[0;34m)\u001b[0m\u001b[0;34m\u001b[0m\u001b[0;34m\u001b[0m\u001b[0m\n\u001b[0;32m----> 3\u001b[0;31m \u001b[0mplt\u001b[0m\u001b[0;34m.\u001b[0m\u001b[0mplot\u001b[0m\u001b[0;34m(\u001b[0m\u001b[0miters\u001b[0m\u001b[0;34m,\u001b[0m \u001b[0maccuracys2\u001b[0m\u001b[0;34m,\u001b[0m \u001b[0;34m'g'\u001b[0m\u001b[0;34m)\u001b[0m\u001b[0;34m\u001b[0m\u001b[0;34m\u001b[0m\u001b[0m\n\u001b[0m\u001b[1;32m      4\u001b[0m \u001b[0mplt\u001b[0m\u001b[0;34m.\u001b[0m\u001b[0mplot\u001b[0m\u001b[0;34m(\u001b[0m\u001b[0miters\u001b[0m\u001b[0;34m,\u001b[0m \u001b[0maccuracys3\u001b[0m\u001b[0;34m,\u001b[0m \u001b[0;34m'b'\u001b[0m\u001b[0;34m)\u001b[0m\u001b[0;34m\u001b[0m\u001b[0;34m\u001b[0m\u001b[0m\n\u001b[1;32m      5\u001b[0m \u001b[0mplt\u001b[0m\u001b[0;34m.\u001b[0m\u001b[0mxlabel\u001b[0m\u001b[0;34m(\u001b[0m\u001b[0;34m'iteration'\u001b[0m\u001b[0;34m)\u001b[0m\u001b[0;34m\u001b[0m\u001b[0;34m\u001b[0m\u001b[0m\n",
            "\u001b[0;32m/usr/local/lib/python3.6/dist-packages/matplotlib/pyplot.py\u001b[0m in \u001b[0;36mplot\u001b[0;34m(scalex, scaley, data, *args, **kwargs)\u001b[0m\n\u001b[1;32m   2761\u001b[0m     return gca().plot(\n\u001b[1;32m   2762\u001b[0m         *args, scalex=scalex, scaley=scaley, **({\"data\": data} if data\n\u001b[0;32m-> 2763\u001b[0;31m         is not None else {}), **kwargs)\n\u001b[0m\u001b[1;32m   2764\u001b[0m \u001b[0;34m\u001b[0m\u001b[0m\n\u001b[1;32m   2765\u001b[0m \u001b[0;34m\u001b[0m\u001b[0m\n",
            "\u001b[0;32m/usr/local/lib/python3.6/dist-packages/matplotlib/axes/_axes.py\u001b[0m in \u001b[0;36mplot\u001b[0;34m(self, scalex, scaley, data, *args, **kwargs)\u001b[0m\n\u001b[1;32m   1644\u001b[0m         \"\"\"\n\u001b[1;32m   1645\u001b[0m         \u001b[0mkwargs\u001b[0m \u001b[0;34m=\u001b[0m \u001b[0mcbook\u001b[0m\u001b[0;34m.\u001b[0m\u001b[0mnormalize_kwargs\u001b[0m\u001b[0;34m(\u001b[0m\u001b[0mkwargs\u001b[0m\u001b[0;34m,\u001b[0m \u001b[0mmlines\u001b[0m\u001b[0;34m.\u001b[0m\u001b[0mLine2D\u001b[0m\u001b[0;34m)\u001b[0m\u001b[0;34m\u001b[0m\u001b[0;34m\u001b[0m\u001b[0m\n\u001b[0;32m-> 1646\u001b[0;31m         \u001b[0mlines\u001b[0m \u001b[0;34m=\u001b[0m \u001b[0;34m[\u001b[0m\u001b[0;34m*\u001b[0m\u001b[0mself\u001b[0m\u001b[0;34m.\u001b[0m\u001b[0m_get_lines\u001b[0m\u001b[0;34m(\u001b[0m\u001b[0;34m*\u001b[0m\u001b[0margs\u001b[0m\u001b[0;34m,\u001b[0m \u001b[0mdata\u001b[0m\u001b[0;34m=\u001b[0m\u001b[0mdata\u001b[0m\u001b[0;34m,\u001b[0m \u001b[0;34m**\u001b[0m\u001b[0mkwargs\u001b[0m\u001b[0;34m)\u001b[0m\u001b[0;34m]\u001b[0m\u001b[0;34m\u001b[0m\u001b[0;34m\u001b[0m\u001b[0m\n\u001b[0m\u001b[1;32m   1647\u001b[0m         \u001b[0;32mfor\u001b[0m \u001b[0mline\u001b[0m \u001b[0;32min\u001b[0m \u001b[0mlines\u001b[0m\u001b[0;34m:\u001b[0m\u001b[0;34m\u001b[0m\u001b[0;34m\u001b[0m\u001b[0m\n\u001b[1;32m   1648\u001b[0m             \u001b[0mself\u001b[0m\u001b[0;34m.\u001b[0m\u001b[0madd_line\u001b[0m\u001b[0;34m(\u001b[0m\u001b[0mline\u001b[0m\u001b[0;34m)\u001b[0m\u001b[0;34m\u001b[0m\u001b[0;34m\u001b[0m\u001b[0m\n",
            "\u001b[0;32m/usr/local/lib/python3.6/dist-packages/matplotlib/axes/_base.py\u001b[0m in \u001b[0;36m__call__\u001b[0;34m(self, *args, **kwargs)\u001b[0m\n\u001b[1;32m    214\u001b[0m                 \u001b[0mthis\u001b[0m \u001b[0;34m+=\u001b[0m \u001b[0margs\u001b[0m\u001b[0;34m[\u001b[0m\u001b[0;36m0\u001b[0m\u001b[0;34m]\u001b[0m\u001b[0;34m,\u001b[0m\u001b[0;34m\u001b[0m\u001b[0;34m\u001b[0m\u001b[0m\n\u001b[1;32m    215\u001b[0m                 \u001b[0margs\u001b[0m \u001b[0;34m=\u001b[0m \u001b[0margs\u001b[0m\u001b[0;34m[\u001b[0m\u001b[0;36m1\u001b[0m\u001b[0;34m:\u001b[0m\u001b[0;34m]\u001b[0m\u001b[0;34m\u001b[0m\u001b[0;34m\u001b[0m\u001b[0m\n\u001b[0;32m--> 216\u001b[0;31m             \u001b[0;32myield\u001b[0m \u001b[0;32mfrom\u001b[0m \u001b[0mself\u001b[0m\u001b[0;34m.\u001b[0m\u001b[0m_plot_args\u001b[0m\u001b[0;34m(\u001b[0m\u001b[0mthis\u001b[0m\u001b[0;34m,\u001b[0m \u001b[0mkwargs\u001b[0m\u001b[0;34m)\u001b[0m\u001b[0;34m\u001b[0m\u001b[0;34m\u001b[0m\u001b[0m\n\u001b[0m\u001b[1;32m    217\u001b[0m \u001b[0;34m\u001b[0m\u001b[0m\n\u001b[1;32m    218\u001b[0m     \u001b[0;32mdef\u001b[0m \u001b[0mget_next_color\u001b[0m\u001b[0;34m(\u001b[0m\u001b[0mself\u001b[0m\u001b[0;34m)\u001b[0m\u001b[0;34m:\u001b[0m\u001b[0;34m\u001b[0m\u001b[0;34m\u001b[0m\u001b[0m\n",
            "\u001b[0;32m/usr/local/lib/python3.6/dist-packages/matplotlib/axes/_base.py\u001b[0m in \u001b[0;36m_plot_args\u001b[0;34m(self, tup, kwargs)\u001b[0m\n\u001b[1;32m    340\u001b[0m \u001b[0;34m\u001b[0m\u001b[0m\n\u001b[1;32m    341\u001b[0m         \u001b[0;32mif\u001b[0m \u001b[0mx\u001b[0m\u001b[0;34m.\u001b[0m\u001b[0mshape\u001b[0m\u001b[0;34m[\u001b[0m\u001b[0;36m0\u001b[0m\u001b[0;34m]\u001b[0m \u001b[0;34m!=\u001b[0m \u001b[0my\u001b[0m\u001b[0;34m.\u001b[0m\u001b[0mshape\u001b[0m\u001b[0;34m[\u001b[0m\u001b[0;36m0\u001b[0m\u001b[0;34m]\u001b[0m\u001b[0;34m:\u001b[0m\u001b[0;34m\u001b[0m\u001b[0;34m\u001b[0m\u001b[0m\n\u001b[0;32m--> 342\u001b[0;31m             raise ValueError(f\"x and y must have same first dimension, but \"\n\u001b[0m\u001b[1;32m    343\u001b[0m                              f\"have shapes {x.shape} and {y.shape}\")\n\u001b[1;32m    344\u001b[0m         \u001b[0;32mif\u001b[0m \u001b[0mx\u001b[0m\u001b[0;34m.\u001b[0m\u001b[0mndim\u001b[0m \u001b[0;34m>\u001b[0m \u001b[0;36m2\u001b[0m \u001b[0;32mor\u001b[0m \u001b[0my\u001b[0m\u001b[0;34m.\u001b[0m\u001b[0mndim\u001b[0m \u001b[0;34m>\u001b[0m \u001b[0;36m2\u001b[0m\u001b[0;34m:\u001b[0m\u001b[0;34m\u001b[0m\u001b[0;34m\u001b[0m\u001b[0m\n",
            "\u001b[0;31mValueError\u001b[0m: x and y must have same first dimension, but have shapes (250,) and (500,)"
          ]
        },
        {
          "output_type": "display_data",
          "data": {
            "image/png": "[encoded data removed]",
            "text/plain": [
              "<Figure size 432x288 with 1 Axes>"
            ]
          },
          "metadata": {
            "tags": [],
            "needs_background": "light"
          }
        }
      ]
    },
    {
      "cell_type": "markdown",
      "metadata": {
        "id": "oONRbz9XiKz5",
        "colab_type": "text"
      },
      "source": [
        ""
      ]
    },
    {
      "cell_type": "code",
      "metadata": {
        "id": "qxfK9A9HiLB-",
        "colab_type": "code",
        "outputId": "246672cb-8cd0-48c0-f379-00717687b386",
        "colab": {
          "base_uri": "https://localhost:8080/",
          "height": 55
        }
      },
      "source": [
        "print(accuracys2)"
      ],
      "execution_count": 0,
      "outputs": [
        {
          "output_type": "stream",
          "text": [
            "deque([50.847457627118644, 49.152542372881356, 49.152542372881356, 49.152542372881356, 51.69491525423729, 52.54237288135594, 58.47457627118644, 59.32203389830508, 59.32203389830508, 61.86440677966102, 63.559322033898304, 64.40677966101694, 64.40677966101694, 62.71186440677966, 64.40677966101694, 66.94915254237289, 66.94915254237289, 66.94915254237289, 67.79661016949152, 67.79661016949152, 66.94915254237289, 69.49152542372882, 70.33898305084746, 72.03389830508475, 72.03389830508475, 72.88135593220339, 72.03389830508475, 71.1864406779661, 71.1864406779661, 71.1864406779661, 71.1864406779661, 71.1864406779661, 70.33898305084746, 70.33898305084746, 70.33898305084746, 70.33898305084746, 69.49152542372882, 69.49152542372882, 69.49152542372882, 69.49152542372882, 69.49152542372882, 70.33898305084746, 70.33898305084746, 70.33898305084746, 70.33898305084746, 70.33898305084746, 70.33898305084746, 71.1864406779661, 72.88135593220339, 72.88135593220339, 72.88135593220339, 72.88135593220339, 72.88135593220339, 73.72881355932203, 73.72881355932203, 73.72881355932203, 73.72881355932203, 73.72881355932203, 72.88135593220339, 73.72881355932203, 73.72881355932203, 73.72881355932203, 74.57627118644068, 73.72881355932203, 74.57627118644068, 74.57627118644068, 74.57627118644068, 74.57627118644068, 75.42372881355932, 75.42372881355932, 75.42372881355932, 75.42372881355932, 75.42372881355932, 75.42372881355932, 75.42372881355932, 75.42372881355932, 75.42372881355932, 75.42372881355932, 75.42372881355932, 75.42372881355932, 75.42372881355932, 75.42372881355932, 76.27118644067797, 76.27118644067797, 76.27118644067797, 76.27118644067797, 77.11864406779661, 77.11864406779661, 77.11864406779661, 77.11864406779661, 77.11864406779661, 77.11864406779661, 77.11864406779661, 77.96610169491525, 77.96610169491525, 77.96610169491525, 77.96610169491525, 77.96610169491525, 78.8135593220339, 78.8135593220339, 78.8135593220339, 78.8135593220339, 78.8135593220339, 78.8135593220339, 78.8135593220339, 78.8135593220339, 78.8135593220339, 78.8135593220339, 78.8135593220339, 78.8135593220339, 78.8135593220339, 78.8135593220339, 78.8135593220339, 78.8135593220339, 79.66101694915254, 80.50847457627118, 80.50847457627118, 80.50847457627118, 80.50847457627118, 80.50847457627118, 81.35593220338984, 81.35593220338984, 82.20338983050848, 82.20338983050848, 82.20338983050848, 82.20338983050848, 82.20338983050848, 82.20338983050848, 82.20338983050848, 82.20338983050848, 82.20338983050848, 82.20338983050848, 82.20338983050848, 82.20338983050848, 82.20338983050848, 82.20338983050848, 82.20338983050848, 82.20338983050848, 82.20338983050848, 82.20338983050848, 82.20338983050848, 82.20338983050848, 82.20338983050848, 82.20338983050848, 82.20338983050848, 82.20338983050848, 82.20338983050848, 82.20338983050848, 82.20338983050848, 82.20338983050848, 82.20338983050848, 82.20338983050848, 82.20338983050848, 82.20338983050848, 82.20338983050848, 82.20338983050848, 82.20338983050848, 82.20338983050848, 82.20338983050848, 82.20338983050848, 82.20338983050848, 82.20338983050848, 82.20338983050848, 82.20338983050848, 82.20338983050848, 82.20338983050848, 82.20338983050848, 82.20338983050848, 82.20338983050848, 82.20338983050848, 82.20338983050848, 82.20338983050848, 82.20338983050848, 82.20338983050848, 82.20338983050848, 82.20338983050848, 82.20338983050848, 82.20338983050848, 82.20338983050848, 82.20338983050848, 82.20338983050848, 82.20338983050848, 82.20338983050848, 82.20338983050848, 82.20338983050848, 82.20338983050848, 82.20338983050848, 82.20338983050848, 82.20338983050848, 82.20338983050848, 82.20338983050848, 82.20338983050848, 82.20338983050848, 82.20338983050848, 82.20338983050848, 82.20338983050848, 82.20338983050848, 82.20338983050848, 82.20338983050848, 82.20338983050848, 82.20338983050848, 82.20338983050848, 82.20338983050848, 82.20338983050848, 82.20338983050848, 82.20338983050848, 82.20338983050848, 82.20338983050848, 82.20338983050848, 82.20338983050848, 82.20338983050848, 82.20338983050848, 82.20338983050848, 82.20338983050848, 82.20338983050848, 82.20338983050848, 81.35593220338984, 81.35593220338984, 81.35593220338984, 81.35593220338984, 81.35593220338984, 81.35593220338984, 81.35593220338984, 81.35593220338984, 82.20338983050848, 82.20338983050848, 82.20338983050848, 82.20338983050848, 82.20338983050848, 82.20338983050848, 82.20338983050848, 82.20338983050848, 82.20338983050848, 82.20338983050848, 82.20338983050848, 82.20338983050848, 82.20338983050848, 82.20338983050848, 81.35593220338984, 81.35593220338984, 81.35593220338984, 81.35593220338984, 81.35593220338984, 81.35593220338984, 81.35593220338984, 81.35593220338984, 81.35593220338984, 81.35593220338984, 81.35593220338984, 81.35593220338984, 50.847457627118644, 49.152542372881356, 49.152542372881356, 49.152542372881356, 51.69491525423729, 52.54237288135594, 58.47457627118644, 59.32203389830508, 59.32203389830508, 61.86440677966102, 63.559322033898304, 65.2542372881356, 63.559322033898304, 63.559322033898304, 64.40677966101694, 66.94915254237289, 66.94915254237289, 66.10169491525424, 67.79661016949152, 67.79661016949152, 68.64406779661016, 69.49152542372882, 71.1864406779661, 72.03389830508475, 72.03389830508475, 72.03389830508475, 71.1864406779661, 71.1864406779661, 71.1864406779661, 71.1864406779661, 71.1864406779661, 70.33898305084746, 70.33898305084746, 70.33898305084746, 70.33898305084746, 69.49152542372882, 69.49152542372882, 69.49152542372882, 69.49152542372882, 69.49152542372882, 69.49152542372882, 70.33898305084746, 70.33898305084746, 70.33898305084746, 70.33898305084746, 71.1864406779661, 72.03389830508475, 72.03389830508475, 72.03389830508475, 72.88135593220339, 72.88135593220339, 73.72881355932203, 73.72881355932203, 73.72881355932203, 73.72881355932203, 72.88135593220339, 73.72881355932203, 73.72881355932203, 74.57627118644068, 74.57627118644068, 73.72881355932203, 73.72881355932203, 73.72881355932203, 74.57627118644068, 74.57627118644068, 74.57627118644068, 74.57627118644068, 74.57627118644068, 74.57627118644068, 75.42372881355932, 75.42372881355932, 75.42372881355932, 75.42372881355932, 75.42372881355932, 75.42372881355932, 76.27118644067797, 76.27118644067797, 76.27118644067797, 76.27118644067797, 76.27118644067797, 77.11864406779661, 77.11864406779661, 77.11864406779661, 77.11864406779661, 77.11864406779661, 78.8135593220339, 78.8135593220339, 78.8135593220339, 78.8135593220339, 78.8135593220339, 78.8135593220339, 78.8135593220339, 78.8135593220339, 78.8135593220339, 78.8135593220339, 78.8135593220339, 78.8135593220339, 78.8135593220339, 78.8135593220339, 78.8135593220339, 78.8135593220339, 78.8135593220339, 78.8135593220339, 78.8135593220339, 78.8135593220339, 78.8135593220339, 78.8135593220339, 79.66101694915254, 79.66101694915254, 81.35593220338984, 81.35593220338984, 81.35593220338984, 81.35593220338984, 82.20338983050848, 82.20338983050848, 82.20338983050848, 82.20338983050848, 82.20338983050848, 82.20338983050848, 82.20338983050848, 82.20338983050848, 82.20338983050848, 82.20338983050848, 82.20338983050848, 82.20338983050848, 82.20338983050848, 82.20338983050848, 82.20338983050848, 82.20338983050848, 82.20338983050848, 82.20338983050848, 82.20338983050848, 82.20338983050848, 82.20338983050848, 82.20338983050848, 82.20338983050848, 82.20338983050848, 82.20338983050848, 82.20338983050848, 82.20338983050848, 82.20338983050848, 82.20338983050848, 82.20338983050848, 82.20338983050848, 82.20338983050848, 82.20338983050848, 82.20338983050848, 82.20338983050848, 82.20338983050848, 82.20338983050848, 82.20338983050848, 81.35593220338984, 81.35593220338984, 81.35593220338984, 81.35593220338984, 81.35593220338984, 81.35593220338984, 81.35593220338984, 81.35593220338984, 81.35593220338984, 81.35593220338984, 81.35593220338984, 81.35593220338984, 81.35593220338984, 81.35593220338984, 81.35593220338984, 81.35593220338984, 81.35593220338984, 81.35593220338984, 81.35593220338984, 81.35593220338984, 81.35593220338984, 81.35593220338984, 81.35593220338984, 81.35593220338984, 81.35593220338984, 81.35593220338984, 81.35593220338984, 81.35593220338984, 80.50847457627118, 80.50847457627118, 80.50847457627118, 80.50847457627118, 80.50847457627118, 80.50847457627118, 80.50847457627118, 80.50847457627118, 80.50847457627118, 80.50847457627118, 81.35593220338984, 81.35593220338984, 81.35593220338984, 81.35593220338984, 81.35593220338984, 81.35593220338984, 81.35593220338984, 81.35593220338984, 81.35593220338984, 81.35593220338984, 81.35593220338984, 81.35593220338984, 81.35593220338984, 81.35593220338984, 81.35593220338984, 81.35593220338984, 81.35593220338984, 81.35593220338984, 81.35593220338984, 81.35593220338984, 82.20338983050848, 82.20338983050848, 82.20338983050848, 82.20338983050848, 82.20338983050848, 82.20338983050848, 82.20338983050848, 82.20338983050848, 82.20338983050848, 82.20338983050848, 82.20338983050848, 82.20338983050848, 82.20338983050848, 82.20338983050848, 82.20338983050848, 82.20338983050848, 82.20338983050848, 82.20338983050848, 82.20338983050848, 82.20338983050848, 82.20338983050848, 82.20338983050848, 82.20338983050848, 82.20338983050848, 82.20338983050848, 82.20338983050848, 82.20338983050848, 82.20338983050848, 82.20338983050848, 82.20338983050848, 82.20338983050848, 82.20338983050848, 82.20338983050848, 82.20338983050848, 82.20338983050848, 82.20338983050848, 82.20338983050848, 82.20338983050848, 82.20338983050848, 82.20338983050848, 82.20338983050848])\n"
          ],
          "name": "stdout"
        }
      ]
    },
    {
      "cell_type": "markdown",
      "metadata": {
        "id": "zaf0tCc4L6q2",
        "colab_type": "text"
      },
      "source": [
        "### **5. Final Training Accuracy with Regularizations**"
      ]
    },
    {
      "cell_type": "code",
      "metadata": {
        "id": "DVRpopvuL-G3",
        "colab_type": "code",
        "outputId": "c3e257de-1f8c-47d6-8b82-e8ed2355950c",
        "colab": {
          "base_uri": "https://localhost:8080/",
          "height": 71
        }
      },
      "source": [
        "print(\"Final Training Accuracy :\\033[31m\",accuracys1[-1],\"% \\033[0m\")\n",
        "print(\"Final Training Accuracy :\\033[32m\",accuracys2[-1],\"% \\033[0m\")\n",
        "print(\"Final Training Accuracy :\\033[34m\",accuracys3[-1],\"% \\033[0m\")"
      ],
      "execution_count": 0,
      "outputs": [
        {
          "output_type": "stream",
          "text": [
            "Final Training Accuracy :\u001b[31m 82.20338983050848 % \u001b[0m\n",
            "Final Training Accuracy :\u001b[32m 82.20338983050848 % \u001b[0m\n",
            "Final Training Accuracy :\u001b[34m 60.16949152542372 % \u001b[0m\n"
          ],
          "name": "stdout"
        }
      ]
    },
    {
      "cell_type": "markdown",
      "metadata": {
        "id": "w9rPVPoMMGJH",
        "colab_type": "text"
      },
      "source": [
        "### **6. Plotting the Optimal Classifer superimposed on the Training Data**"
      ]
    },
    {
      "cell_type": "code",
      "metadata": {
        "id": "6Qda9OL1AlZV",
        "colab_type": "code",
        "outputId": "dfc8cac3-df2b-44b9-d6a8-dcc84382be04",
        "colab": {
          "base_uri": "https://localhost:8080/",
          "height": 265
        }
      },
      "source": [
        "theta_1 = theta_datas1[-1]\n",
        "theta_2 = theta_datas2[-1]\n",
        "theta_3 = theta_datas3[-1]\n",
        "\n",
        "Xmesh, Ymesh = np.meshgrid(np.linspace(-1.0, 1.0, 300), np.linspace(-1.0, 1.0, 300))\n",
        "\n",
        "Z1 = gFunction(Xmesh, Ymesh, theta_1)\n",
        "Z2 = gFunction(Xmesh, Ymesh, theta_2)\n",
        "Z3 = gFunction(Xmesh, Ymesh, theta_3)\n",
        "\n",
        "fig = plt.figure()\n",
        "levels = [0]\n",
        "graph1 = plt.contour(Xmesh, Ymesh, Z1, levels, colors = 'red')\n",
        "graph2 = plt.contour(Xmesh, Ymesh, Z2, levels, colors = 'green')\n",
        "graph3 = plt.contour(Xmesh, Ymesh, Z3, levels, colors = 'blue')\n",
        "graph4 = plt.scatter(x_label0, y_label0, alpha=0.3, c='b')\n",
        "graph5 = plt.scatter(x_label1, y_label1, alpha=0.3, c='r')\n",
        "plt.show()"
      ],
      "execution_count": 0,
      "outputs": [
        {
          "output_type": "display_data",
          "data": {
            "image/png": "[encoded data removed]",
            "text/plain": [
              "<Figure size 432x288 with 1 Axes>"
            ]
          },
          "metadata": {
            "tags": [],
            "needs_background": "light"
          }
        }
      ]
    }
  ]
}
