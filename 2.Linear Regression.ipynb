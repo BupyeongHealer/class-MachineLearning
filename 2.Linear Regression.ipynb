{
  "nbformat": 4,
  "nbformat_minor": 0,
  "metadata": {
    "colab": {
      "name": "assignment02.ipynb",
      "provenance": [],
      "collapsed_sections": []
    },
    "kernelspec": {
      "name": "python3",
      "display_name": "Python 3"
    }
  },
  "cells": [
    {
      "cell_type": "markdown",
      "metadata": {
        "id": "aF-nuJpxK8oe",
        "colab_type": "text"
      },
      "source": [
        "### **0. Preparation**"
      ]
    },
    {
      "cell_type": "code",
      "metadata": {
        "id": "SRYWq0j8K7LK",
        "colab_type": "code",
        "colab": {}
      },
      "source": [
        "import matplotlib.pyplot as plt\n",
        "import numpy as np\n",
        "import copy\n",
        "import math\n",
        "from collections import deque"
      ],
      "execution_count": 0,
      "outputs": []
    },
    {
      "cell_type": "markdown",
      "metadata": {
        "id": "ctq_xhnRJ6BQ",
        "colab_type": "text"
      },
      "source": [
        "### **1. Input Data**"
      ]
    },
    {
      "cell_type": "markdown",
      "metadata": {
        "id": "MEEWiHYskI__",
        "colab_type": "text"
      },
      "source": [
        "$\\ Domain :  -20 \\leq x \\leq 20$\n",
        "<br>\n",
        "$\\ f(x) = 2x + 3$\n",
        "<br>\n",
        "Sampling the Random Noise points using <font color='red'>**Gaussian Normal Distribution**</font> ***(mu=0, sigma=1)***"
      ]
    },
    {
      "cell_type": "code",
      "metadata": {
        "id": "GZpItNczOekX",
        "colab_type": "code",
        "colab": {}
      },
      "source": [
        "def input():\n",
        "  #-20부터 20까지 정수의 x\n",
        "  x = np.linspace(-20,20,41)\n",
        "  #print(x)\n",
        "  target_y = copy.deepcopy(x)\n",
        "  for i in range(0, 41):\n",
        "    # y = 2x + 3\n",
        "    target_y[i] = 2 * target_y[i] + 3\n",
        "  #print(y)\n",
        "\n",
        "  y = copy.deepcopy(target_y)\n",
        "  #print(y)\n",
        "  n = np.random.normal(0,1,41)\n",
        "  #print(n)\n",
        "  y = np.add(y,n)\n",
        "  #print(y)\n",
        "\n",
        "  print(\"Plotting the input data\")\n",
        "  fig = plt.figure()\n",
        "  #설정한 초기의 그래프\n",
        "  graph1 = plt.plot(x, target_y, 'b')\n",
        "  plt.xlabel('x')\n",
        "  plt.ylabel('target_y')\n",
        "  #랜덤하게 샘플링한 점들\n",
        "  graph2 = plt.plot(x, y, '.k')\n",
        "  plt.xlabel('x')\n",
        "  plt.ylabel('y')\n",
        "  plt.show()\n",
        "\n",
        "  return x, y"
      ],
      "execution_count": 0,
      "outputs": []
    },
    {
      "cell_type": "markdown",
      "metadata": {
        "id": "d1UhFs-k3CrU",
        "colab_type": "text"
      },
      "source": [
        "### **2. Linear Regression**\n",
        "1) Linear Model\n",
        "<br>\n",
        "$\\ h(x) = \\theta_1x + \\theta_0 $\n",
        "<br>\n",
        "<br>\n",
        "2) Objective Function\n",
        "<br>\n",
        "$\\ J(\\theta) = \\frac{1}{2m} \\sum_{i=1}^{m}(h_{\\theta} (x ^{(i)} )-y^{(i)})^2 $\n",
        "<br>\n",
        "<br>\n",
        "3) Gradient Descent\n",
        "<br>\n",
        "$\\ \\theta_0^{(t+1)} =  \\theta_0^{(t)} - \\alpha \\frac{1}{m} \\sum_{i=1}^{m} (h_\\theta(x^{(i)}) - y^{(i)})$\n",
        "<br>\n",
        "$\\ \\theta_1^{(t+1)} = \\theta_1^{(t)} - \\alpha \\frac{1}{m} \\sum_{i=1}^{m} (h_\\theta(x^{(i)}) - y^{(i)}) x^{(i)}$\n",
        "<br>\n",
        "<br>\n",
        "4) HyperParameters Setting\n",
        "<br>\n",
        "$\\ \\theta_0^{(0)} = 6$  \n",
        "$\\ \\theta_1^{(0)} = 5$\n",
        "<br>\n",
        "$\\ lr = 10^{-7}$\n",
        "\n"
      ]
    },
    {
      "cell_type": "code",
      "metadata": {
        "id": "o_JXDSD-3HzJ",
        "colab_type": "code",
        "colab": {}
      },
      "source": [
        "def ObjectiveFunction(m, b, y):\n",
        "  #print(m)\n",
        "  cost = 0\n",
        "  for x in range(-20, 21):\n",
        "    h = m * x + b\n",
        "    #print(\"m의 값\",m)\n",
        "    r = y[x+20]\n",
        "    cost += np.square(h - r) / 400\n",
        "    #print(cost)\n",
        "  return cost"
      ],
      "execution_count": 0,
      "outputs": []
    },
    {
      "cell_type": "code",
      "metadata": {
        "id": "GtY9PBCGlb_r",
        "colab_type": "code",
        "colab": {}
      },
      "source": [
        "def gradientDescent(m, b, y):\n",
        "  for x in range(-20, 21):\n",
        "    h = m * x + b\n",
        "    r = y[x+20]\n",
        "    lr = 0.0001\n",
        "    b -= lr * np.square(h-r) / 200\n",
        "    m -= lr * x * np.square(h-r) / 200\n",
        "  return b, m "
      ],
      "execution_count": 0,
      "outputs": []
    },
    {
      "cell_type": "code",
      "metadata": {
        "id": "XlmSTWx0g-Tp",
        "colab_type": "code",
        "outputId": "412eda6a-f309-49a8-dcd2-144dfa4dcbd1",
        "colab": {
          "base_uri": "https://localhost:8080/",
          "height": 1000
        }
      },
      "source": [
        "def main():\n",
        "  x, y = input()\n",
        "  #print(\"x\", x)\n",
        "  #print(\"y\", y)\n",
        "  m = 5\n",
        "  b = 6   ##initialization\n",
        "  costs = deque()\n",
        "  bs = deque()\n",
        "  ms = deque()\n",
        "  iters = deque()\n",
        "\n",
        "  for iter in range(0, 5000):\n",
        "    value_Object = ObjectiveFunction(m, b, y)\n",
        "    b, m = gradientDescent(m, b, y)\n",
        "    #print(\"cost\", value_Object)\n",
        "    #print(\"절편b\",b)\n",
        "    #print(\"기울기m\",m)\n",
        "\n",
        "    #data수집을 위해 deque 자료구조를 이용해 저장!\n",
        "    iters.append(iter)\n",
        "    costs.append(value_Object)\n",
        "    bs.append(b)\n",
        "    ms.append(m)\n",
        "\n",
        "  #print(\"iters, costs, ms, bs\",iters, costs, ms, bs)\n",
        "  #print(\"m, b\",m,b)\n",
        "\n",
        "  print(\"Plotting the Output Results\")\n",
        "  fig = plt.figure()\n",
        "\n",
        "  graph3 = plt.plot(x, m * x + b, 'r')\n",
        "  plt.xlabel('x')\n",
        "  plt.ylabel('linear regression')\n",
        "\n",
        "  graph4 = plt.plot(x, y, '.k')\n",
        "  plt.xlabel('x')\n",
        "  plt.ylabel('y')\n",
        "  plt.show()\n",
        "\n",
        "  print(\"Plotting the Energy Values\")\n",
        "  plt.plot(iters, costs, 'b')\n",
        "  plt.xlabel('iteration')\n",
        "  plt.ylabel('energy value')\n",
        "  plt.show()\n",
        "\n",
        "  print(\"Plotting the Model Parameters\")\n",
        "  fig = plt.figure()\n",
        "  graph5 = plt.plot(iters, bs, 'r')\n",
        "  graph6 = plt.plot(iters, ms, 'b')\n",
        "  plt.xlabel('iteration')\n",
        "  plt.ylabel('parameter')\n",
        "  plt.show()\n",
        "\n",
        "if __name__ == \"__main__\":\n",
        "  main()"
      ],
      "execution_count": 29,
      "outputs": [
        {
          "output_type": "stream",
          "text": [
            "Plotting the input data\n"
          ],
          "name": "stdout"
        },
        {
          "output_type": "display_data",
          "data": {
            "image/png": "[encoded data removed]",
            "text/plain": [
              "<Figure size 432x288 with 1 Axes>"
            ]
          },
          "metadata": {
            "tags": [],
            "needs_background": "light"
          }
        },
        {
          "output_type": "stream",
          "text": [
            "Plotting the Output Results\n"
          ],
          "name": "stdout"
        },
        {
          "output_type": "display_data",
          "data": {
            "image/png": "[encoded data removed]",
            "text/plain": [
              "<Figure size 432x288 with 1 Axes>"
            ]
          },
          "metadata": {
            "tags": [],
            "needs_background": "light"
          }
        },
        {
          "output_type": "stream",
          "text": [
            "Plotting the Energy Values\n"
          ],
          "name": "stdout"
        },
        {
          "output_type": "display_data",
          "data": {
            "image/png": "[encoded data removed]",
            "text/plain": [
              "<Figure size 432x288 with 1 Axes>"
            ]
          },
          "metadata": {
            "tags": [],
            "needs_background": "light"
          }
        },
        {
          "output_type": "stream",
          "text": [
            "Plotting the Model Parameters\n"
          ],
          "name": "stdout"
        },
        {
          "output_type": "display_data",
          "data": {
            "image/png": "[encoded data removed]",
            "text/plain": [
              "<Figure size 432x288 with 1 Axes>"
            ]
          },
          "metadata": {
            "tags": [],
            "needs_background": "light"
          }
        }
      ]
    }
  ]
}
