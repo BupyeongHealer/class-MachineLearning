{
  "nbformat": 4,
  "nbformat_minor": 0,
  "metadata": {
    "colab": {
      "name": "assignment06.ipynb의 사본의 사본",
      "provenance": [],
      "collapsed_sections": []
    },
    "kernelspec": {
      "name": "python3",
      "display_name": "Python 3"
    }
  },
  "cells": [
    {
      "cell_type": "markdown",
      "metadata": {
        "id": "sQy9EvTe1J6q",
        "colab_type": "text"
      },
      "source": [
        "### **0. Preparation**\n"
      ]
    },
    {
      "cell_type": "code",
      "metadata": {
        "id": "YgZQmLLx1HWI",
        "colab_type": "code",
        "colab": {}
      },
      "source": [
        "import matplotlib.pyplot as plt\n",
        "import numpy as np\n",
        "import copy\n",
        "import math\n",
        "import csv\n",
        "from collections import deque\n",
        "from google.colab import files\n",
        "from mpl_toolkits.mplot3d import Axes3D\n",
        "from matplotlib import cm\n",
        "from matplotlib.ticker import LinearLocator, FormatStrFormatter"
      ],
      "execution_count": 0,
      "outputs": []
    },
    {
      "cell_type": "markdown",
      "metadata": {
        "id": "oDTD9ppr1OAX",
        "colab_type": "text"
      },
      "source": [
        "### **1. Input Data**\n",
        "load the training data file ('data.txt')  \n",
        "each row $\\{ (x^{(i)}, y^{(i)}, l^{(i)}) \\}$ of the data consists of a 2-dimensional point $(x, y)$ with its label $l$  \n",
        "$x, y \\in \\mathbb{R}$ and $l \\in \\{0, 1\\}$"
      ]
    },
    {
      "cell_type": "code",
      "metadata": {
        "id": "XjbPUG9E1Tie",
        "colab_type": "code",
        "outputId": "1523bf33-f2d6-4600-deb1-762829fcdae3",
        "colab": {
          "resources": {
            "http://localhost:8080/nbextensions/google.colab/files.js": {
              "data": "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",
              "ok": true,
              "headers": [
                [
                  "content-type",
                  "application/javascript"
                ]
              ],
              "status": 200,
              "status_text": ""
            }
          },
          "base_uri": "https://localhost:8080/",
          "height": 78
        }
      },
      "source": [
        "uploaded = files.upload()"
      ],
      "execution_count": 90,
      "outputs": [
        {
          "output_type": "display_data",
          "data": {
            "text/html": [
              "\n",
              "     <input type=\"file\" id=\"files-1cf31ca6-0b93-4181-95a4-c98c07f62d02\" name=\"files[]\" multiple disabled />\n",
              "     <output id=\"result-1cf31ca6-0b93-4181-95a4-c98c07f62d02\">\n",
              "      Upload widget is only available when the cell has been executed in the\n",
              "      current browser session. Please rerun this cell to enable.\n",
              "      </output>\n",
              "      <script src=\"/nbextensions/google.colab/files.js\"></script> "
            ],
            "text/plain": [
              "<IPython.core.display.HTML object>"
            ]
          },
          "metadata": {
            "tags": []
          }
        },
        {
          "output_type": "stream",
          "text": [
            "Saving test.txt to test.txt\n"
          ],
          "name": "stdout"
        }
      ]
    },
    {
      "cell_type": "code",
      "metadata": {
        "id": "MFaPtak-zpwW",
        "colab_type": "code",
        "outputId": "984f1780-7cc3-4b1c-bf35-e474d2dac4e4",
        "colab": {
          "base_uri": "https://localhost:8080/",
          "height": 1000
        }
      },
      "source": [
        "data = np.genfromtxt(\"test.txt\", delimiter=',')\n",
        "x = data[:, 0]\n",
        "y = data[:, 1]\n",
        "label = data[:, 2]\n",
        "x_label0 = x[label == 0]\n",
        "x_label1 = x[label == 1]\n",
        "y_label0 = y[label == 0]\n",
        "y_label1 = y[label == 1]\n",
        "\n",
        "print(\"Plotting the training data\")\n",
        "plt.figure(figsize=(8, 8))\n",
        "plt.scatter(x_label0, y_label0, alpha=0.3, c='b')\n",
        "plt.scatter(x_label1, y_label1, alpha=0.3, c='r')\n",
        "plt.show()\n",
        "\n",
        "print(\"X\",x) #100\n",
        "print(\"Y\",y)\n",
        "print(label[57])\n",
        "print(label[58])\n",
        "#print(type(x))\n",
        "#print(y_label0)\n",
        "#print(type(x_label0))"
      ],
      "execution_count": 107,
      "outputs": [
        {
          "output_type": "stream",
          "text": [
            "Plotting the training data\n"
          ],
          "name": "stdout"
        },
        {
          "output_type": "display_data",
          "data": {
            "image/png": "[encoded data removed]",
            "text/plain": [
              "<Figure size 576x576 with 1 Axes>"
            ]
          },
          "metadata": {
            "tags": [],
            "needs_background": "light"
          }
        },
        {
          "output_type": "stream",
          "text": [
            "X [ 0.051267  -0.092742  -0.21371   -0.375     -0.51325   -0.52477\n",
            " -0.39804   -0.30588    0.016705   0.13191    0.38537    0.52938\n",
            "  0.63882    0.73675    0.54666    0.322      0.16647   -0.046659\n",
            " -0.17339   -0.47869   -0.60541   -0.62846   -0.59389   -0.42108\n",
            " -0.11578    0.20104    0.46601    0.67339   -0.13882   -0.29435\n",
            " -0.26555   -0.16187   -0.17339   -0.28283   -0.36348   -0.30012\n",
            " -0.23675   -0.06394    0.062788   0.22984    0.2932     0.48329\n",
            "  0.64459    0.46025    0.6273     0.57546    0.72523    0.22408\n",
            "  0.44297    0.322      0.13767   -0.0063364 -0.092742  -0.20795\n",
            " -0.20795   -0.43836   -0.21947   -0.13882    0.18376    0.22408\n",
            "  0.29896    0.50634    0.61578    0.60426    0.76555    0.92684\n",
            "  0.82316    0.96141    0.93836    0.86348    0.89804    0.85196\n",
            "  0.82892    0.79435    0.59274    0.51786    0.46601    0.35081\n",
            "  0.28744    0.085829   0.14919   -0.13306   -0.40956   -0.39228\n",
            " -0.74366   -0.69758   -0.75518   -0.69758   -0.4038    -0.38076\n",
            " -0.50749   -0.54781    0.10311    0.057028  -0.10426   -0.081221\n",
            "  0.28744    0.39689    0.63882    0.82316    0.67339    1.0709\n",
            " -0.046659  -0.23675   -0.15035   -0.49021   -0.46717   -0.28859\n",
            " -0.61118   -0.66302   -0.59965   -0.72638   -0.83007   -0.72062\n",
            " -0.59389   -0.48445   -0.0063364  0.63265  ]\n",
            "Y [ 0.69956   0.68494   0.69225   0.50219   0.46564   0.2098    0.034357\n",
            " -0.19225  -0.40424  -0.51389  -0.56506  -0.5212   -0.24342  -0.18494\n",
            "  0.48757   0.5826    0.53874   0.81652   0.69956   0.63377   0.59722\n",
            "  0.33406   0.005117 -0.27266  -0.39693  -0.60161  -0.53582  -0.53582\n",
            "  0.54605   0.77997   0.96272   0.8019    0.64839   0.47295   0.31213\n",
            "  0.027047 -0.21418  -0.18494  -0.16301  -0.41155  -0.2288   -0.18494\n",
            " -0.14108   0.012427  0.15863   0.26827   0.44371   0.52412   0.67032\n",
            "  0.69225   0.57529   0.39985   0.55336   0.35599   0.17325   0.21711\n",
            " -0.016813 -0.27266   0.93348   0.77997   0.61915   0.75804   0.7288\n",
            "  0.59722   0.50219   0.3633    0.27558   0.085526  0.012427 -0.082602\n",
            " -0.20687  -0.36769  -0.5212   -0.55775  -0.7405   -0.5943   -0.41886\n",
            " -0.57968  -0.76974  -0.75512  -0.57968  -0.4481   -0.41155  -0.25804\n",
            " -0.25804   0.041667  0.2902    0.68494   0.70687   0.91886   0.90424\n",
            "  0.70687   0.77997   0.91886   0.99196   1.1089    1.087     0.82383\n",
            "  0.88962   0.66301   0.64108   0.10015  -0.57968  -0.63816  -0.36769\n",
            " -0.3019   -0.13377  -0.060673 -0.067982 -0.21418  -0.41886  -0.082602\n",
            "  0.31213   0.53874   0.49488   0.99927   0.99927  -0.030612]\n",
            "1.0\n",
            "0.0\n"
          ],
          "name": "stdout"
        }
      ]
    },
    {
      "cell_type": "markdown",
      "metadata": {
        "id": "Cw4DKfx74hAg",
        "colab_type": "text"
      },
      "source": [
        "### **2. Logistic Regression**\n",
        "1) Linear Model\n",
        "<br>\n",
        "$\\ z = \\theta_0 + \\theta_1x + \\theta_2y  $  \n",
        "$\\sigma(z) = \\frac{1}{1 + \\exp(-z)}$\n",
        "<br>  \n",
        "2) Objective Function\n",
        "<br>\n",
        "$\\ J(\\theta_0, \\theta_1, \\theta_2) = \\frac{1}{m} \\sum_{i=1}^m ( - l^{(i)} \\log(\\sigma(z^{(i)})) - (1 - l^{(i)}) \\log(1 - \\sigma(z^{(i)}))  )$\n",
        "<br>  \n",
        "3) Gradient Descent\n",
        "<br>\n",
        "$\\ \\theta_0^{(t+1)} = \\theta_0^{(t)} - \\alpha \\frac{1}{m} \\sum_{i=1}^{m} (\\sigma(z^{(i)}) - l^{(i)})$  \n",
        "$\\ \\theta_1^{(t+1)} = \\theta_1^{(t)} - \\alpha \\frac{1}{m} \\sum_{i=1}^{m} (\\sigma(z^{(i)}) - l^{(i)}) x^{(i)}$  \n",
        "$\\ \\theta_2^{(t+1)} = \\theta_2^{(t)} - \\alpha \\frac{1}{m} \\sum_{i=1}^{m} (\\sigma(z^{(i)}) - l^{(i)}) y^{(i)}$  \n",
        "<br>\n",
        "4) HyperParameters Setting\n",
        "<br>\n",
        "$\\ \\theta_0^{(0)} = -10$  \n",
        "$\\ \\theta_1^{(0)} = 20$  \n",
        "$\\ \\theta_2^{(0)} = -10$\n",
        "<br>\n",
        "$\\ lr = 2*10^{-2}$\n",
        "\n"
      ]
    },
    {
      "cell_type": "code",
      "metadata": {
        "id": "b8ZdZ71zkyiN",
        "colab_type": "code",
        "colab": {}
      },
      "source": [
        "def sigmoidFunction(z):\n",
        "  result = 1/(1 + np.exp(-z))\n",
        "  return result"
      ],
      "execution_count": 0,
      "outputs": []
    },
    {
      "cell_type": "code",
      "metadata": {
        "id": "3-gCevCjgKyl",
        "colab_type": "code",
        "colab": {}
      },
      "source": [
        "def objectiveFunction(x_data, y_data, class_data, theta_0, theta_1, theta_2, theta_3, theta_4, theta_5):\n",
        "  cost = 0\n",
        "  predictions = deque()\n",
        "  for i in range(0, 118):\n",
        "    estimate = sigmoidFunction(theta_0 + theta_1 * x_data[i] + theta_2 * y_data[i] + theta_3 * x_data[i] * y_data[i] + theta_4 * np.power(x_data[i],2) + theta_5 * np.power(y_data[i],2)) \n",
        "    #print(estimate)\n",
        "    #print(\"Estimate\",estimate)\n",
        "    predictions.append((-class_data[i]*np.log(estimate)) - (1-class_data[i])*np.log(1-estimate))\n",
        "    #print(\"predictions\",predictions)\n",
        "  cost = np.sum(predictions) / 118\n",
        "  #print(\"Cost출력\",cost)\n",
        "  return cost"
      ],
      "execution_count": 0,
      "outputs": []
    },
    {
      "cell_type": "code",
      "metadata": {
        "id": "NsaVBnlHiAys",
        "colab_type": "code",
        "colab": {}
      },
      "source": [
        "def gradientDescent(x_data, y_data, class_data, theta_0, theta_1, theta_2, theta_3, theta_4, theta_5):\n",
        "  for i in range(0, 118):\n",
        "    lr = 3e-4\n",
        "    estimate = sigmoidFunction(theta_0 + theta_1 * x_data[i] + theta_2 * y_data[i] + theta_3 * x_data[i] * y_data[i] + theta_4 * np.power(x_data[i],2) + theta_5 * np.power(y_data[i],2) ) - class_data[i]\n",
        "    theta_0 -= lr * estimate / 118\n",
        "    theta_1 -= lr * estimate * x_data[i] / 118\n",
        "    theta_2 -= lr * estimate * y_data[i] / 118\n",
        "    theta_3 -= lr * estimate * x_data[i] * y_data[i] / 118\n",
        "    theta_4 -= lr * estimate * np.power(x_data[i],2) / 118\n",
        "    theta_5 -= lr * estimate * np.power(y_data[i],2) / 118\n",
        "  return theta_0, theta_1, theta_2, theta_3, theta_4, theta_5"
      ],
      "execution_count": 0,
      "outputs": []
    },
    {
      "cell_type": "code",
      "metadata": {
        "id": "nKROWnxQlgsK",
        "colab_type": "code",
        "outputId": "10632b41-6539-4258-d467-dcf77307223e",
        "colab": {
          "base_uri": "https://localhost:8080/",
          "height": 876
        }
      },
      "source": [
        "def main():\n",
        "  theta_0, theta_1, theta_2, theta_3, theta_4, theta_5 = 10, 10, 10, 1, 1, 1  #Initialization\n",
        "  train_costs = deque()\n",
        "  theta_0s = deque()\n",
        "  theta_1s = deque()\n",
        "  theta_2s = deque()\n",
        "  theta_3s = deque()\n",
        "  theta_4s = deque()\n",
        "  theta_5s = deque()\n",
        "  iters = deque()\n",
        "  accuracys = deque()\n",
        "\n",
        "  for iter in range(0, 30000):\n",
        "    theta_0s.append(theta_0)\n",
        "    theta_1s.append(theta_1)\n",
        "    theta_2s.append(theta_2)\n",
        "    theta_3s.append(theta_3)\n",
        "    theta_4s.append(theta_4)\n",
        "    theta_5s.append(theta_5)\n",
        "    \n",
        "    check = 0\n",
        "    for i in range(0, 57):\n",
        "      if theta_0 + theta_1 * x[i] + theta_2 * y[i] + theta_3 * x[i] * y[i] + theta_4 * np.power(x[i],2) + theta_5 * np.power(y[i],2) >= 0:\n",
        "        check += 1\n",
        "    for i in range(58, 118):\n",
        "      if theta_0 + theta_1 * x[i] + theta_2 * y[i] + theta_3 * x[i] * y[i] + theta_4 * np.power(x[i],2) + theta_5 * np.power(y[i],2)  < 0:\n",
        "        check += 1\n",
        "    accuracy = check / 118 * 100\n",
        "    accuracys.append(accuracy)\n",
        "\n",
        "    train_value = objectiveFunction(x, y, label, theta_0, theta_1, theta_2, theta_3, theta_4, theta_5)\n",
        "    #train data 수집\n",
        "    train_costs.append(train_value)\n",
        "    theta_0, theta_1, theta_2, theta_3, theta_4 ,theta_5= gradientDescent(x, y, label, theta_0, theta_1, theta_2, theta_3, theta_4, theta_5)\n",
        "    iters.append(iter)\n",
        "\n",
        "    #print(\"thetas\",theta_0,theta_1,theta_2,theta_3,theta_4)\n",
        "  \n",
        "  print(\"Plotting the Estimated Parameters\")\n",
        "  fig = plt.figure()\n",
        "  graph1 = plt.plot(iters, theta_0s, 'r')\n",
        "  graph2 = plt.plot(iters, theta_1s, 'g', linewidth = 3, linestyle=(0, (5, 2, 1, 2)), dash_capstyle='round')\n",
        "  graph3 = plt.plot(iters, theta_2s, 'b')\n",
        "  graph4 = plt.plot(iters, theta_3s)\n",
        "  graph5 = plt.plot(iters, theta_4s)\n",
        "  graph6 = plt.plot(iters, theta_5s)\n",
        "  plt.xlabel('iterations')\n",
        "  plt.ylabel('value')\n",
        "  plt.show()\n",
        "  \n",
        "  print(\"Plotting the Training Error\")\n",
        "  plt.plot(iters, train_costs, 'b')\n",
        "  plt.xlabel('iteration')\n",
        "  plt.ylabel('Traing Error')\n",
        "  plt.show()\n",
        "\n",
        "  print(\"Plotting the Training Accuracy\")\n",
        "  plt.plot(iters, accuracys, 'r')\n",
        "  plt.xlabel('iteration')\n",
        "  plt.ylabel('Training Accuracy')\n",
        "  plt.show()\n",
        "\n",
        "  print(theta_0, theta_1, theta_2)\n",
        "\"\"\"\n",
        "  print(\"Plotting the Obtained Classifer\")\n",
        "  points = np.arange(30,100,0.5)\n",
        "  xs,ys = np.meshgrid(points, points)\n",
        "  z = theta_0 + theta_1 * xs + theta_2 * ys\n",
        "  z = sigmoidFunction(z)\n",
        "\n",
        "  fig = plt.figure()\n",
        "  plt.xlim([30,100])\n",
        "  plt.ylim([30,100])\n",
        "  graph4 = plt.imshow(z, cmap=plt.cm.bwr)\n",
        "  graph5 = plt.scatter(x_label0, y_label0, alpha=0.3, c='b')\n",
        "  graph6 = plt.scatter(x_label1, y_label1, alpha=0.3, c='r')\n",
        "  plt.show()\n",
        "\"\"\"\n",
        "if __name__ == \"__main__\":\n",
        "  main()"
      ],
      "execution_count": 112,
      "outputs": [
        {
          "output_type": "stream",
          "text": [
            "Plotting the Estimated Parameters\n"
          ],
          "name": "stdout"
        },
        {
          "output_type": "display_data",
          "data": {
            "image/png": "[encoded data removed]",
            "text/plain": [
              "<Figure size 432x288 with 1 Axes>"
            ]
          },
          "metadata": {
            "tags": [],
            "needs_background": "light"
          }
        },
        {
          "output_type": "stream",
          "text": [
            "Plotting the Training Error\n"
          ],
          "name": "stdout"
        },
        {
          "output_type": "display_data",
          "data": {
            "image/png": "[encoded data removed]",
            "text/plain": [
              "<Figure size 432x288 with 1 Axes>"
            ]
          },
          "metadata": {
            "tags": [],
            "needs_background": "light"
          }
        },
        {
          "output_type": "stream",
          "text": [
            "Plotting the Training Accuracy\n"
          ],
          "name": "stdout"
        },
        {
          "output_type": "display_data",
          "data": {
            "image/png": "[encoded data removed]",
            "text/plain": [
              "<Figure size 432x288 with 1 Axes>"
            ]
          },
          "metadata": {
            "tags": [],
            "needs_background": "light"
          }
        },
        {
          "output_type": "stream",
          "text": [
            "5.921290258496175 9.347390791291595 9.02568797433569\n"
          ],
          "name": "stdout"
        }
      ]
    }
  ]
}
