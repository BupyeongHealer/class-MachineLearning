{
  "nbformat": 4,
  "nbformat_minor": 0,
  "metadata": {
    "colab": {
      "name": "assignment02.ipynb",
      "provenance": [],
      "collapsed_sections": []
    },
    "kernelspec": {
      "name": "python3",
      "display_name": "Python 3"
    }
  },
  "cells": [
    {
      "cell_type": "markdown",
      "metadata": {
        "id": "aF-nuJpxK8oe",
        "colab_type": "text"
      },
      "source": [
        "### **0. Preparation**"
      ]
    },
    {
      "cell_type": "code",
      "metadata": {
        "id": "SRYWq0j8K7LK",
        "colab_type": "code",
        "colab": {}
      },
      "source": [
        "import matplotlib.pyplot as plt\n",
        "import numpy as np\n",
        "import copy\n",
        "import math"
      ],
      "execution_count": 0,
      "outputs": []
    },
    {
      "cell_type": "markdown",
      "metadata": {
        "id": "ctq_xhnRJ6BQ",
        "colab_type": "text"
      },
      "source": [
        "### **1. Input Data**"
      ]
    },
    {
      "cell_type": "markdown",
      "metadata": {
        "id": "PcUcfi1hLT0A",
        "colab_type": "text"
      },
      "source": [
        "\n",
        "$\\ f(x) = 2x + 3$\n",
        "\\\n",
        "$\\ Domain :  -20 \\leq x \\leq 20$\n",
        "\\\n",
        "해당 그래프를 파란색 선으로 그린다.\n",
        "\\\n",
        "Gaussian Normal Distribution : mu=0, sigma=1 인 y점들을 random하게 샘플링한다\n",
        "\\\n",
        "target_y : Linear Model\n",
        "\\\n",
        "y : Random Point"
      ]
    },
    {
      "cell_type": "code",
      "metadata": {
        "id": "GZpItNczOekX",
        "colab_type": "code",
        "colab": {}
      },
      "source": [
        "def input():\n",
        "  x = np.linspace(-20,20,41)\n",
        "  #print(x)\n",
        "  target_y = copy.deepcopy(x)\n",
        "  for i in range(0, 41):\n",
        "    target_y[i] = 2 * target_y[i] + 3\n",
        "  #print(y)\n",
        "\n",
        "  y = copy.deepcopy(target_y)\n",
        "  #print(y)\n",
        "  n = np.random.normal(0,1,41)\n",
        "  #print(n)\n",
        "  y = np.add(y,n)\n",
        "  #print(y)\n",
        "\n",
        "  fig = plt.figure()\n",
        "\n",
        "  graph1 = plt.plot(x, target_y, 'b')\n",
        "  plt.xlabel('x')\n",
        "  plt.ylabel('target_y')\n",
        "\n",
        "  graph2 = plt.plot(x, y, '.k')\n",
        "  plt.xlabel('x')\n",
        "  plt.ylabel('y')\n",
        "  plt.show()\n",
        "\n",
        "  return x, y"
      ],
      "execution_count": 0,
      "outputs": []
    },
    {
      "cell_type": "markdown",
      "metadata": {
        "id": "d1UhFs-k3CrU",
        "colab_type": "text"
      },
      "source": [
        "### **2. Linear Model**\n",
        "h(x) = mx + b\n",
        "\\\n",
        "Objective Function\n",
        "\\\n",
        "cost = 1/2m * SUM((h(x)-y)^2)"
      ]
    },
    {
      "cell_type": "code",
      "metadata": {
        "id": "o_JXDSD-3HzJ",
        "colab_type": "code",
        "colab": {}
      },
      "source": [
        "def ObjectiveFunction(m, b):\n",
        "  #print(m)\n",
        "  cost = 0\n",
        "  for x in range(-20, 21):\n",
        "    h = m * x + b\n",
        "    #print(\"m의 값\",m)\n",
        "    r = y[x+20]\n",
        "    cost += np.square(h - r) / (2*m)\n",
        "    #print(cost)\n",
        "  return cost"
      ],
      "execution_count": 0,
      "outputs": []
    },
    {
      "cell_type": "code",
      "metadata": {
        "id": "GtY9PBCGlb_r",
        "colab_type": "code",
        "colab": {}
      },
      "source": [
        "def gradientDescent(m, b):\n",
        "  for x in range(-20, 21):\n",
        "    h = m * x + b\n",
        "    r = y[x+20]\n",
        "    lr = 0.00005\n",
        "    b -= lr * np.square(h-r) / m\n",
        "    m -= lr * x * np.square(h-r) / m\n",
        "  return b, m "
      ],
      "execution_count": 0,
      "outputs": []
    },
    {
      "cell_type": "code",
      "metadata": {
        "id": "XlmSTWx0g-Tp",
        "colab_type": "code",
        "colab": {
          "base_uri": "https://localhost:8080/",
          "height": 788
        },
        "outputId": "10b8c267-9815-4389-ac71-767b617bb625"
      },
      "source": [
        "def main():\n",
        "\n",
        "  x, y = input()\n",
        "  print(\"x\", x)\n",
        "  print(\"y\", y)\n",
        "\n",
        "  m = 100.0\n",
        "  b = 50.0   ##initialization\n",
        "\n",
        "  for iter in range(0, 500):\n",
        "    value_Object = ObjectiveFunction(m, b)\n",
        "    b, m = gradientDescent(m, b)\n",
        "    #print(\"cost\", value_Object)\n",
        "    #print(\"절편b\",b)\n",
        "    #print(\"기울기m\",m)\n",
        "  \n",
        "  print(\"m, b\",m,b)\n",
        "\n",
        "  fig = plt.figure()\n",
        "\n",
        "  graph3 = plt.plot(x, m * x + b, 'r')\n",
        "  plt.xlabel('x')\n",
        "  plt.ylabel('linear regression')\n",
        "\n",
        "  graph4 = plt.plot(x, y, '.k')\n",
        "  plt.xlabel('x')\n",
        "  plt.ylabel('y')\n",
        "  plt.show()\n",
        "    \n",
        "    #if value_Object == float('inf'):\n",
        "    #  value_Object = 99999\n",
        "\n",
        "if __name__ == \"__main__\":\n",
        "  main()"
      ],
      "execution_count": 69,
      "outputs": [
        {
          "output_type": "display_data",
          "data": {
            "image/png": "[encoded data removed]",
            "text/plain": [
              "<Figure size 432x288 with 1 Axes>"
            ]
          },
          "metadata": {
            "tags": []
          }
        },
        {
          "output_type": "stream",
          "text": [
            "x [-20. -19. -18. -17. -16. -15. -14. -13. -12. -11. -10.  -9.  -8.  -7.\n",
            "  -6.  -5.  -4.  -3.  -2.  -1.   0.   1.   2.   3.   4.   5.   6.   7.\n",
            "   8.   9.  10.  11.  12.  13.  14.  15.  16.  17.  18.  19.  20.]\n",
            "y [-36.94684838 -34.39270672 -35.18036506 -32.01281637 -28.64166667\n",
            " -26.86557819 -25.42681566 -22.77035002 -21.02744078 -17.59987025\n",
            " -16.20253642 -16.00407115 -13.85690907 -11.46680449  -8.64113343\n",
            "  -6.75353397  -4.77573458  -3.450125    -1.53894189   1.4150981\n",
            "   1.88613481   5.90956185   6.41635951   9.76189414  10.35727605\n",
            "  14.3752539   16.14956885  15.36424693  19.12150655  21.4870508\n",
            "  23.34401249  27.61831214  27.51810442  29.84631812  32.84118113\n",
            "  33.23860927  35.0098991   36.07960608  37.6986096   41.65134686\n",
            "  43.184844  ]\n",
            "m, b 4.0988062809861513e+65 -1.68899171886868e+66\n"
          ],
          "name": "stdout"
        },
        {
          "output_type": "display_data",
          "data": {
            "image/png": "[encoded data removed]",
            "text/plain": [
              "<Figure size 432x288 with 1 Axes>"
            ]
          },
          "metadata": {
            "tags": []
          }
        }
      ]
    }
  ]
}
