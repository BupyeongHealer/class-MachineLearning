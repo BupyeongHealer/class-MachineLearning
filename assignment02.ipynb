{
  "nbformat": 4,
  "nbformat_minor": 0,
  "metadata": {
    "colab": {
      "name": "assignment02.ipynb",
      "provenance": [],
      "collapsed_sections": []
    },
    "kernelspec": {
      "name": "python3",
      "display_name": "Python 3"
    }
  },
  "cells": [
    {
      "cell_type": "markdown",
      "metadata": {
        "id": "aF-nuJpxK8oe",
        "colab_type": "text"
      },
      "source": [
        "### **0. Preparation**"
      ]
    },
    {
      "cell_type": "code",
      "metadata": {
        "id": "SRYWq0j8K7LK",
        "colab_type": "code",
        "colab": {}
      },
      "source": [
        "import matplotlib.pyplot as plt\n",
        "import numpy as np\n",
        "import copy"
      ],
      "execution_count": 0,
      "outputs": []
    },
    {
      "cell_type": "markdown",
      "metadata": {
        "id": "ctq_xhnRJ6BQ",
        "colab_type": "text"
      },
      "source": [
        "### **1. Input Data**"
      ]
    },
    {
      "cell_type": "markdown",
      "metadata": {
        "id": "PcUcfi1hLT0A",
        "colab_type": "text"
      },
      "source": [
        "\n",
        "$\\ f(x) = 2x + 3$\n",
        "\\\n",
        "$\\ Domain :  -20 \\leq x \\leq 20$\n",
        "\\\n",
        "해당 그래프를 파란색 선으로 그린다.\n",
        "\\\n",
        "Gaussian Normal Distribution : mu=0, sigma=5 인 y점들을 random하게 샘플링한다\n",
        "\\\n",
        "target_y : Linear Model\n",
        "\\\n",
        "y : Random Point"
      ]
    },
    {
      "cell_type": "code",
      "metadata": {
        "id": "GZpItNczOekX",
        "colab_type": "code",
        "outputId": "927c8989-2bf7-4b2b-95b9-f5e410984246",
        "colab": {
          "base_uri": "https://localhost:8080/",
          "height": 279
        }
      },
      "source": [
        "x = np.linspace(-20,20,41)\n",
        "#print(x)\n",
        "target_y = copy.deepcopy(x)\n",
        "for i in range(0, 41):\n",
        "  target_y[i] = 2 * target_y[i] + 3\n",
        "#print(y)\n",
        "\n",
        "y = copy.deepcopy(target_y)\n",
        "#print(y)\n",
        "n = np.random.normal(0,5,41)\n",
        "#print(n)\n",
        "y = np.add(y,n)\n",
        "#print(y)\n",
        "\n",
        "fig = plt.figure()\n",
        "\n",
        "graph1 = plt.plot(x, target_y, 'b')\n",
        "plt.xlabel('x')\n",
        "plt.ylabel('target_y')\n",
        "\n",
        "graph2 = plt.plot(x, y, '.k')\n",
        "plt.xlabel('x')\n",
        "plt.ylabel('y')\n",
        "plt.show()"
      ],
      "execution_count": 5,
      "outputs": [
        {
          "output_type": "display_data",
          "data": {
            "image/png": "[encoded data removed]",
            "text/plain": [
              "<Figure size 432x288 with 1 Axes>"
            ]
          },
          "metadata": {
            "tags": []
          }
        }
      ]
    },
    {
      "cell_type": "markdown",
      "metadata": {
        "id": "d1UhFs-k3CrU",
        "colab_type": "text"
      },
      "source": [
        "### **2. Linear Model**\n",
        "h(x) = mx + b\n",
        "\\\n",
        "Objective Function\n",
        "\\\n",
        "cost = 1/2m * SUM((h(x)-y)^2)"
      ]
    },
    {
      "cell_type": "code",
      "metadata": {
        "id": "o_JXDSD-3HzJ",
        "colab_type": "code",
        "colab": {}
      },
      "source": [
        "def ObjectiveFunction(m, b):\n",
        "  #print(m)\n",
        "  cost = 0\n",
        "  for x in range(-20, 21):\n",
        "    h = m * x + b\n",
        "    r = y[x+20]\n",
        "    cost += np.square(h - r) / (2*m)\n",
        "    #print(cost)\n",
        "  return cost"
      ],
      "execution_count": 0,
      "outputs": []
    },
    {
      "cell_type": "code",
      "metadata": {
        "id": "GtY9PBCGlb_r",
        "colab_type": "code",
        "colab": {}
      },
      "source": [
        "def gradientDescent(m, b):\n",
        "  for x in range(-20, 21):\n",
        "    h = m * x + b\n",
        "    r = y[x+20]\n",
        "    lr = 0.01\n",
        "    b -= lr / m * np.square(h-r)\n",
        "    m -= lr / m * (np.square(h-r) * x)\n",
        "  return b, m "
      ],
      "execution_count": 0,
      "outputs": []
    },
    {
      "cell_type": "code",
      "metadata": {
        "id": "XlmSTWx0g-Tp",
        "colab_type": "code",
        "colab": {}
      },
      "source": [
        "def main():\n",
        "  m = 3\n",
        "  b = 3\n",
        "\n",
        "  l = ObjectiveFunction(3, 3)\n",
        "  b, m = gradientDescent(3, 3)\n",
        "  print(l)\n",
        "  print(b)\n",
        "  print(m)"
      ],
      "execution_count": 0,
      "outputs": []
    },
    {
      "cell_type": "code",
      "metadata": {
        "id": "s95QyL6ihWp0",
        "colab_type": "code",
        "colab": {
          "base_uri": "https://localhost:8080/",
          "height": 71
        },
        "outputId": "92d255af-9578-4f5b-9268-23e410348e1d"
      },
      "source": [
        "if __name__ == \"__main__\":\n",
        "  main()"
      ],
      "execution_count": 57,
      "outputs": [
        {
          "output_type": "stream",
          "text": [
            "1555.3429307916906\n",
            "1.4661089976443503e+23\n",
            "2.934826957279816e+24\n"
          ],
          "name": "stdout"
        }
      ]
    }
  ]
}
