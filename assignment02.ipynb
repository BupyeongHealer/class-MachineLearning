{
  "nbformat": 4,
  "nbformat_minor": 0,
  "metadata": {
    "colab": {
      "name": "assignment02.ipynb",
      "provenance": [],
      "collapsed_sections": []
    },
    "kernelspec": {
      "name": "python3",
      "display_name": "Python 3"
    }
  },
  "cells": [
    {
      "cell_type": "markdown",
      "metadata": {
        "id": "aF-nuJpxK8oe",
        "colab_type": "text"
      },
      "source": [
        "### **0. Preparation**"
      ]
    },
    {
      "cell_type": "code",
      "metadata": {
        "id": "SRYWq0j8K7LK",
        "colab_type": "code",
        "colab": {}
      },
      "source": [
        "import matplotlib.pyplot as plt\n",
        "import numpy as np\n",
        "import copy\n",
        "import math\n",
        "from collections import deque"
      ],
      "execution_count": 0,
      "outputs": []
    },
    {
      "cell_type": "markdown",
      "metadata": {
        "id": "ctq_xhnRJ6BQ",
        "colab_type": "text"
      },
      "source": [
        "### **1. Input Data**"
      ]
    },
    {
      "cell_type": "markdown",
      "metadata": {
        "id": "PcUcfi1hLT0A",
        "colab_type": "text"
      },
      "source": [
        "\n",
        "$\\ f(x) = 2x + 3$\n",
        "\\\n",
        "$\\ Domain :  -20 \\leq x \\leq 20$\n",
        "\\\n",
        "해당 그래프를 파란색 선으로 그린다.\n",
        "\\\n",
        "Gaussian Normal Distribution : mu=0, sigma=1 인 y점들을 random하게 샘플링한다\n",
        "\\\n",
        "target_y : Linear Model\n",
        "\\\n",
        "y : Random Point"
      ]
    },
    {
      "cell_type": "code",
      "metadata": {
        "id": "GZpItNczOekX",
        "colab_type": "code",
        "colab": {}
      },
      "source": [
        "def input():\n",
        "  x = np.linspace(-20,20,41)\n",
        "  #print(x)\n",
        "  target_y = copy.deepcopy(x)\n",
        "  for i in range(0, 41):\n",
        "    target_y[i] = 2 * target_y[i] + 3\n",
        "  #print(y)\n",
        "\n",
        "  y = copy.deepcopy(target_y)\n",
        "  #print(y)\n",
        "  n = np.random.normal(0,1,41)\n",
        "  #print(n)\n",
        "  y = np.add(y,n)\n",
        "  #print(y)\n",
        "\n",
        "  fig = plt.figure()\n",
        "\n",
        "  graph1 = plt.plot(x, target_y, 'b')\n",
        "  plt.xlabel('x')\n",
        "  plt.ylabel('target_y')\n",
        "\n",
        "  graph2 = plt.plot(x, y, '.k')\n",
        "  plt.xlabel('x')\n",
        "  plt.ylabel('y')\n",
        "  plt.show()\n",
        "\n",
        "  return x, y"
      ],
      "execution_count": 0,
      "outputs": []
    },
    {
      "cell_type": "markdown",
      "metadata": {
        "id": "d1UhFs-k3CrU",
        "colab_type": "text"
      },
      "source": [
        "### **2. Linear Model**\n",
        "h(x) = mx + b\n",
        "\\\n",
        "Objective Function\n",
        "\\\n",
        "cost = 1/2m * SUM((h(x)-y)^2)"
      ]
    },
    {
      "cell_type": "code",
      "metadata": {
        "id": "o_JXDSD-3HzJ",
        "colab_type": "code",
        "colab": {}
      },
      "source": [
        "def ObjectiveFunction(m, b):\n",
        "  #print(m)\n",
        "  cost = 0\n",
        "  for x in range(-20, 21):\n",
        "    h = m * x + b\n",
        "    #print(\"m의 값\",m)\n",
        "    r = y[x+20]\n",
        "    cost += np.square(h - r) / (2*m)\n",
        "    #print(cost)\n",
        "  return cost"
      ],
      "execution_count": 0,
      "outputs": []
    },
    {
      "cell_type": "code",
      "metadata": {
        "id": "GtY9PBCGlb_r",
        "colab_type": "code",
        "colab": {}
      },
      "source": [
        "def gradientDescent(m, b):\n",
        "  for x in range(-20, 21):\n",
        "    h = m * x + b\n",
        "    r = y[x+20]\n",
        "    lr = 0.00005\n",
        "    b -= lr * np.square(h-r) / m\n",
        "    m -= lr * x * np.square(h-r) / m\n",
        "  return b, m "
      ],
      "execution_count": 0,
      "outputs": []
    },
    {
      "cell_type": "code",
      "metadata": {
        "id": "XlmSTWx0g-Tp",
        "colab_type": "code",
        "colab": {
          "base_uri": "https://localhost:8080/",
          "height": 1000
        },
        "outputId": "d946e508-de25-4227-f19e-a021832ed519"
      },
      "source": [
        "def main():\n",
        "\n",
        "  x, y = input()\n",
        "  print(\"x\", x)\n",
        "  print(\"y\", y)\n",
        "\n",
        "  m = 100\n",
        "  b = 50   ##initialization\n",
        "  costs = deque()\n",
        "  bs = deque()\n",
        "  ms = deque()\n",
        "  iters = deque()\n",
        "\n",
        "  for iter in range(0, 500):\n",
        "    value_Object = ObjectiveFunction(m, b)\n",
        "    b, m = gradientDescent(m, b)\n",
        "    #print(\"cost\", value_Object)\n",
        "    #print(\"절편b\",b)\n",
        "    #print(\"기울기m\",m)\n",
        "    iters.append(iter)\n",
        "    costs.append(value_Object)\n",
        "    bs.append(b)\n",
        "    ms.append(m)\n",
        "\n",
        "  #print(\"iters, costs, ms, bs\",iters, costs, ms, bs)\n",
        "  print(\"m, b\",m,b)\n",
        "\n",
        "  fig = plt.figure()\n",
        "\n",
        "  graph3 = plt.plot(x, m * x + b, 'r')\n",
        "  plt.xlabel('x')\n",
        "  plt.ylabel('linear regression')\n",
        "\n",
        "  graph4 = plt.plot(x, y, '.k')\n",
        "  plt.xlabel('x')\n",
        "  plt.ylabel('y')\n",
        "  plt.show()\n",
        "\n",
        "  plt.plot(iters, costs, 'b')\n",
        "  plt.xlabel('iteration')\n",
        "  plt.ylabel('energy value')\n",
        "  plt.show()\n",
        "\n",
        "\n",
        "    \n",
        "    #if value_Object == float('inf'):\n",
        "    #  value_Object = 99999\n",
        "\n",
        "if __name__ == \"__main__\":\n",
        "  main()"
      ],
      "execution_count": 83,
      "outputs": [
        {
          "output_type": "display_data",
          "data": {
            "image/png": "[encoded data removed]",
            "text/plain": [
              "<Figure size 432x288 with 1 Axes>"
            ]
          },
          "metadata": {
            "tags": []
          }
        },
        {
          "output_type": "stream",
          "text": [
            "x [-20. -19. -18. -17. -16. -15. -14. -13. -12. -11. -10.  -9.  -8.  -7.\n",
            "  -6.  -5.  -4.  -3.  -2.  -1.   0.   1.   2.   3.   4.   5.   6.   7.\n",
            "   8.   9.  10.  11.  12.  13.  14.  15.  16.  17.  18.  19.  20.]\n",
            "y [-36.83454808 -34.41922072 -33.31444918 -31.21376883 -26.92076125\n",
            " -27.28865624 -26.02470017 -23.61259993 -20.64218381 -19.22095081\n",
            " -17.59642815 -13.22616753 -12.88240536 -10.72387078 -10.22144391\n",
            "  -6.17317833  -5.49373482  -3.78887555   0.48471283   1.6358508\n",
            "   2.77893886   4.51786342   7.23328755   9.058896    12.69137297\n",
            "  12.29485994  16.32712876  16.27712017  19.83019267  21.32688614\n",
            "  23.41251148  23.56141742  27.79181178  30.68759843  30.23518351\n",
            "  33.31737619  36.07992498  35.6560729   40.24089391  43.0320789\n",
            "  43.96521441]\n",
            "m, b 4.0988062809861513e+65 -1.68899171886868e+66\n"
          ],
          "name": "stdout"
        },
        {
          "output_type": "display_data",
          "data": {
            "image/png": "[encoded data removed]",
            "text/plain": [
              "<Figure size 432x288 with 1 Axes>"
            ]
          },
          "metadata": {
            "tags": []
          }
        },
        {
          "output_type": "display_data",
          "data": {
            "image/png": "[encoded data removed]",
            "text/plain": [
              "<Figure size 432x288 with 1 Axes>"
            ]
          },
          "metadata": {
            "tags": []
          }
        }
      ]
    }
  ]
}
