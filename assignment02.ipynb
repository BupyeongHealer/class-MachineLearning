{
  "nbformat": 4,
  "nbformat_minor": 0,
  "metadata": {
    "colab": {
      "name": "assignment02.ipynb",
      "provenance": []
    },
    "kernelspec": {
      "name": "python3",
      "display_name": "Python 3"
    }
  },
  "cells": [
    {
      "cell_type": "markdown",
      "metadata": {
        "id": "aF-nuJpxK8oe",
        "colab_type": "text"
      },
      "source": [
        "### **0. Preparation**"
      ]
    },
    {
      "cell_type": "code",
      "metadata": {
        "id": "SRYWq0j8K7LK",
        "colab_type": "code",
        "colab": {}
      },
      "source": [
        "import matplotlib.pyplot as plt\n",
        "import numpy as np\n",
        "import copy"
      ],
      "execution_count": 0,
      "outputs": []
    },
    {
      "cell_type": "markdown",
      "metadata": {
        "id": "ctq_xhnRJ6BQ",
        "colab_type": "text"
      },
      "source": [
        "### **1. Input Data**"
      ]
    },
    {
      "cell_type": "markdown",
      "metadata": {
        "id": "PcUcfi1hLT0A",
        "colab_type": "text"
      },
      "source": [
        "\n",
        "$\\ f(x) = 2x + 3$\n",
        "\\\n",
        "$\\ Domain :  -20 \\leq x \\leq 20$\n",
        "\\\n",
        "해당 그래프를 파란색 선으로 그린다.\n",
        "\\\n",
        "Gaussian Normal Distribution : mu=0, signma=1 인 y점들을 random하게 샘플링한다\n"
      ]
    },
    {
      "cell_type": "code",
      "metadata": {
        "id": "GZpItNczOekX",
        "colab_type": "code",
        "colab": {
          "base_uri": "https://localhost:8080/",
          "height": 279
        },
        "outputId": "7b2da272-4df8-4636-e11c-c483c1878bc3"
      },
      "source": [
        "x = np.linspace(-20,20,41)\n",
        "#print(x)\n",
        "target_y = copy.deepcopy(x)\n",
        "for i in range(0, 41):\n",
        "  target_y[i] = 2 * target_y[i] + 3\n",
        "#print(y)\n",
        "\n",
        "y = copy.deepcopy(target_y)\n",
        "#print(y)\n",
        "n = np.random.normal(0,1,41)\n",
        "#print(n)\n",
        "y = np.add(y,n)\n",
        "#print(y)\n",
        "\n",
        "fig = plt.figure()\n",
        "\n",
        "graph1 = plt.plot(x, target_y, 'b')\n",
        "plt.xlabel('x')\n",
        "plt.ylabel('target_y')\n",
        "\n",
        "graph2 = plt.plot(x, y, '.k')\n",
        "plt.xlabel('x')\n",
        "plt.ylabel('y')\n",
        "plt.show()"
      ],
      "execution_count": 44,
      "outputs": [
        {
          "output_type": "display_data",
          "data": {
            "image/png": "[encoded data removed]",
            "text/plain": [
              "<Figure size 432x288 with 1 Axes>"
            ]
          },
          "metadata": {
            "tags": []
          }
        }
      ]
    }
  ]
}