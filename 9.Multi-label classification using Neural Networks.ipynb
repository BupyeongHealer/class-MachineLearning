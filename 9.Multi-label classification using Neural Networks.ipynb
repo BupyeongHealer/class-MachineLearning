{
  "nbformat": 4,
  "nbformat_minor": 0,
  "metadata": {
    "colab": {
      "name": "9.Multi-label classification using Neural Networks.ipynb",
      "provenance": [],
      "collapsed_sections": []
    },
    "kernelspec": {
      "name": "python3",
      "display_name": "Python 3"
    }
  },
  "cells": [
    {
      "cell_type": "code",
      "metadata": {
        "id": "V0BqPQCyiZQS",
        "colab_type": "code",
        "colab": {}
      },
      "source": [
        "import matplotlib.pyplot as plt\n",
        "import numpy as np\n",
        "import copy\n",
        "import math\n",
        "import csv\n",
        "from google.colab import files\n",
        "from collections import deque"
      ],
      "execution_count": 0,
      "outputs": []
    },
    {
      "cell_type": "code",
      "metadata": {
        "id": "HwmL4SD6ieF9",
        "colab_type": "code",
        "outputId": "1c7873fa-97ff-40c4-edba-52d25f87609c",
        "colab": {
          "resources": {
            "http://localhost:8080/nbextensions/google.colab/files.js": {
              "data": "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",
              "ok": true,
              "headers": [
                [
                  "content-type",
                  "application/javascript"
                ]
              ],
              "status": 200,
              "status_text": ""
            }
          },
          "base_uri": "https://localhost:8080/",
          "height": 78
        }
      },
      "source": [
        "uploaded = files.upload()"
      ],
      "execution_count": 0,
      "outputs": [
        {
          "output_type": "display_data",
          "data": {
            "text/html": [
              "\n",
              "     <input type=\"file\" id=\"files-8c25f969-85fc-4059-b74e-e854854c8d76\" name=\"files[]\" multiple disabled />\n",
              "     <output id=\"result-8c25f969-85fc-4059-b74e-e854854c8d76\">\n",
              "      Upload widget is only available when the cell has been executed in the\n",
              "      current browser session. Please rerun this cell to enable.\n",
              "      </output>\n",
              "      <script src=\"/nbextensions/google.colab/files.js\"></script> "
            ],
            "text/plain": [
              "<IPython.core.display.HTML object>"
            ]
          },
          "metadata": {
            "tags": []
          }
        },
        {
          "output_type": "stream",
          "text": [
            "Saving mnist.csv to mnist.csv\n"
          ],
          "name": "stdout"
        }
      ]
    },
    {
      "cell_type": "code",
      "metadata": {
        "id": "JmV8XN4XifFM",
        "colab_type": "code",
        "outputId": "0f4308cc-9550-4a8b-d362-62623cb0dfa8",
        "colab": {
          "base_uri": "https://localhost:8080/",
          "height": 144
        }
      },
      "source": [
        "file_data   = \"mnist.csv\"\n",
        "handle_file = open(file_data, \"r\")\n",
        "data        = handle_file.readlines()\n",
        "handle_file.close()\n",
        "\n",
        "size_row    = 28    # height of the image\n",
        "size_col    = 28    # width of the image\n",
        "\n",
        "num_image   = len(data)   #10000개\n",
        "count       = 0     # count for the number of images\n",
        "\n",
        "#\n",
        "# normalize the values of the input data to be [0, 1]\n",
        "#\n",
        "def normalize(data):\n",
        "\n",
        "    data_normalized = (data - min(data)) / (max(data) - min(data))\n",
        "\n",
        "    return(data_normalized)\n",
        "\n",
        "#\n",
        "# example of distance function between two vectors x and y\n",
        "#\n",
        "def distance(x, y):\n",
        "\n",
        "    d = (x - y) ** 2\n",
        "    s = np.sum(d)\n",
        "    # r = np.sqrt(s)\n",
        "\n",
        "    return(s)\n",
        "\n",
        "#\n",
        "# make a matrix each column of which represents an images in a vector form\n",
        "#\n",
        "train_image  = np.empty((size_row * size_col, 6000), dtype=float)\n",
        "train_label  = np.empty(6000, dtype=int)\n",
        "test_image  = np.empty((size_row * size_col, 4000), dtype=float)\n",
        "test_label  = np.empty(4000, dtype=int)\n",
        "\n",
        "for line in data:\n",
        "    if count < 6000 :\n",
        "      line_data   = line.split(',')\n",
        "      label       = line_data[0]\n",
        "      im_vector   = np.asfarray(line_data[1:])\n",
        "      im_vector   = normalize(im_vector)\n",
        "\n",
        "      train_label[count]       = label       # size : 10000\n",
        "      train_image[:, count]    = im_vector   # size : 784 * 10000\n",
        "\n",
        "    else: \n",
        "      line_data   = line.split(',')\n",
        "      label       = line_data[0]\n",
        "      im_vector   = np.asfarray(line_data[1:])\n",
        "      im_vector   = normalize(im_vector)\n",
        "\n",
        "      test_label[count-6000]       = label       # size : 10000\n",
        "      test_image[:, count-6000]    = im_vector   # size : 784 * 10000\n",
        "\n",
        "    count += 1\n",
        "#\n",
        "# plot first 150 images out of 10,000 with their labels\n",
        "#\n",
        "\"\"\"\n",
        "f1 = plt.figure(1)\n",
        "\n",
        "for i in range(150):\n",
        "\n",
        "    label       = list_label[i]\n",
        "    im_vector   = list_image[:, i]\n",
        "    im_matrix   = im_vector.reshape((size_row, size_col))\n",
        "\n",
        "    plt.subplot(10, 15, i+1)\n",
        "    plt.title(label)\n",
        "    plt.imshow(im_matrix, cmap='Greys', interpolation='None')\n",
        "\n",
        "    frame   = plt.gca()\n",
        "    frame.axes.get_xaxis().set_visible(False)\n",
        "    frame.axes.get_yaxis().set_visible(False)\n",
        "\n",
        "\n",
        "#plt.show()\n",
        "\n",
        "#\n",
        "# plot the average image of all the images for each digit\n",
        "#\n",
        "f2 = plt.figure(2)\n",
        "\n",
        "im_average  = np.zeros((size_row * size_col, 10), dtype=float)\n",
        "im_count    = np.zeros(10, dtype=int)\n",
        "\n",
        "for i in range(10):\n",
        "\n",
        "    im_average[:, test_label[i]] += test_image[:, i]\n",
        "    im_count[test_label[i]] += 1\n",
        "\n",
        "for i in range(10):\n",
        "\n",
        "    im_average[:, i] /= im_count[i]\n",
        "\n",
        "    plt.subplot(2, 5, i+1)\n",
        "    plt.title(i)\n",
        "    plt.imshow(im_average[:,i].reshape((size_row, size_col)), cmap='Greys', interpolation='None')\n",
        "\n",
        "    frame   = plt.gca()\n",
        "    frame.axes.get_xaxis().set_visible(False)\n",
        "    frame.axes.get_yaxis().set_visible(False)\n",
        "\n",
        "plt.show()\n",
        "\"\"\"\n",
        "train_costs = deque()\n",
        "test_costs = deque()\n",
        "theta_0s = deque()\n",
        "theta_1s = deque()\n",
        "theta_2s = deque()\n",
        "bias_0s = deque()\n",
        "bias_1s = deque()\n",
        "bias_2s = deque()\n",
        "iters = deque()\n",
        "train_accuracys = deque()\n",
        "test_accuracys = deque()\n",
        "incorrect_predicts = deque()\n",
        "\n",
        "#correct_labels = []\n",
        "correct_labels = deque()\n",
        "#incorrect_labels = []\n",
        "incorrect_labels = deque()\n",
        "\n",
        "print(num_image)  #10000\n",
        "print(len(train_image))  #784\n",
        "print(len(train_image[0]))  #6000\n",
        "print(len(train_label))  #6000\n",
        "print(len(test_image))  #784\n",
        "print(len(test_image[0]))  #4000\n",
        "print(len(test_label))  #4000\n",
        "#list_label 0~5999까지 training data, 6000~9999까지 test data\n",
        "#list_image [:,5999]까지 training data, [:,9999]까지 test data"
      ],
      "execution_count": 125,
      "outputs": [
        {
          "output_type": "stream",
          "text": [
            "10000\n",
            "784\n",
            "6000\n",
            "6000\n",
            "784\n",
            "4000\n",
            "4000\n"
          ],
          "name": "stdout"
        }
      ]
    },
    {
      "cell_type": "code",
      "metadata": {
        "id": "B_UkBCZFii_k",
        "colab_type": "code",
        "colab": {}
      },
      "source": [
        "def forward(theta, value):\n",
        "  #print(theta.shape, value.shape)\n",
        "  #print(\"Theta\", theta.shape)\n",
        "  #print(\"value\", value.shape)\n",
        "  result = np.matmul(theta, value)\n",
        "  return result"
      ],
      "execution_count": 0,
      "outputs": []
    },
    {
      "cell_type": "code",
      "metadata": {
        "id": "qVq9jp5iikTi",
        "colab_type": "code",
        "colab": {}
      },
      "source": [
        "def sigmoid(value):\n",
        "  \"\"\"\n",
        "  length = len(value)\n",
        "  for i in range(0, length):\n",
        "    value[i] = 1 / (1 + np.exp(-value[i]))\n",
        "  \"\"\"\n",
        "  value = value.astype(float)\n",
        "  value = np.multiply(value,-1)\n",
        "  value = np.exp(value)\n",
        "  value = np.add(1,value)\n",
        "  value = np.divide(1, value)\n",
        "  return value"
      ],
      "execution_count": 0,
      "outputs": []
    },
    {
      "cell_type": "code",
      "metadata": {
        "id": "PsayRgz3ZkGm",
        "colab_type": "code",
        "colab": {}
      },
      "source": [
        "def addBias(value, bias):\n",
        "  \"\"\"\n",
        "  length = len(bias)\n",
        "  for i in range(0, length):\n",
        "    value[i] += bias[i]\n",
        "  \"\"\"\n",
        "  value = np.add(value, bias)\n",
        "  return value"
      ],
      "execution_count": 0,
      "outputs": []
    },
    {
      "cell_type": "code",
      "metadata": {
        "id": "Vvg44h6kZWZr",
        "colab_type": "code",
        "colab": {}
      },
      "source": [
        "def neuralNet(x, u, v, w, bias0, bias1, bias2):    #data, theta0, theta1, theta2, bias0, bias1, bias2\n",
        "  y_hat = forward(u, x)\n",
        "  y_hat = addBias(y_hat, bias0)\n",
        "  y = sigmoid(y_hat)\n",
        "  z_hat = forward(v, y)\n",
        "  z_hat = addBias(z_hat, bias1)\n",
        "  z = sigmoid(z_hat)\n",
        "  h_hat = forward(w, z)\n",
        "  h_hat = addBias(h_hat, bias2)\n",
        "  h = sigmoid(h_hat)\n",
        "  return y, z, h"
      ],
      "execution_count": 0,
      "outputs": []
    },
    {
      "cell_type": "code",
      "metadata": {
        "id": "sjcnYDFMnCRg",
        "colab_type": "code",
        "colab": {}
      },
      "source": [
        "def objectiveFunction(image, label, theta0, theta1, theta2, b0, b1, b2):     #list_image[:, count], list_label -> traing과 test 구분해야겠다.!!\n",
        "  length = len(label)                    #두는 이유는 trainig 6000, test 4000개  갯수가 달라서\n",
        "  cost = 0\n",
        "  for i in range(0, length):\n",
        "    y, z, outputs = neuralNet(image[:,i], theta0, theta1, theta2, b0, b1, b2)  #size = 10x1 good!!!\n",
        "    l = label[i]\n",
        "    #print(\"outputs\",outputs)\n",
        "    temp7 = np.log(outputs)\n",
        "    #print(\"log\",temp7)\n",
        "    temp8 = np.subtract(1, outputs)\n",
        "    temp8 = np.log(temp8)\n",
        "    cost1 = -temp7[l] - np.sum(temp8) + temp8[l]\n",
        "    #print(-temp7[l], temp8[l])\n",
        "    cost += cost1\n",
        "    cost /= length\n",
        "  print(cost)\n",
        "  \n",
        "  return cost"
      ],
      "execution_count": 0,
      "outputs": []
    },
    {
      "cell_type": "code",
      "metadata": {
        "id": "tzRWAQQG0uxJ",
        "colab_type": "code",
        "outputId": "ed8fb081-3372-4d93-a637-6990a6b0acaf",
        "colab": {
          "base_uri": "https://localhost:8080/",
          "height": 55
        }
      },
      "source": [
        "def gradientDescent(image, label, theta0, theta1, theta2, b0, b1, b2, learning_rate):\n",
        "  lr = learning_rate\n",
        "  length = len(label)\n",
        "  for i in range(0, length):\n",
        "    x = image[:,i]\n",
        "    y, z, h = neuralNet(image[:,i], theta0, theta1, theta2, b0, b1, b2)\n",
        "    l = label[i]\n",
        "\n",
        "    ##first layer\n",
        "    temp1 = np.zeros(10)\n",
        "    temp1 = np.subtract(h, l)\n",
        "    temp = np.multiply(temp1, lr/length)\n",
        "    b2 = np.subtract(b2, temp)\n",
        "\n",
        "    z_transpose = np.reshape(z, (1,49))\n",
        "    temp1 = np.reshape(temp1, (10,1))\n",
        "    temp2 = np.zeros((10,49))\n",
        "    temp2 = np.matmul(temp1, z_transpose)\n",
        "    temp = np.multiply(temp2, lr/length)\n",
        "    theta2 = np.subtract(theta2, temp)\n",
        "    \n",
        "    ##second layer\n",
        "    temp3 = np.zeros(49)\n",
        "    temp1 = np.subtract(h, l)                 #그전의 temp1을 가져와서 썼더니, 차원 size forward matmul에서 차원이 틀려서 안됨!\n",
        "    temp3 = np.matmul(temp1, theta2)\n",
        "    temp3 = np.multiply(temp3, z)\n",
        "    temp3 = np.multiply(temp3, 1-z)\n",
        "    temp = np.multiply(temp3, lr/length)\n",
        "    b1 = np.array(np.subtract(b1, temp), dtype=object)\n",
        "\n",
        "    temp4 = np.zeros((49,196))\n",
        "    temp3 = np.reshape(temp3, (49,1))\n",
        "    y_transpose = np.reshape(y, (1,196))\n",
        "    #print(temp3.shape)\n",
        "    #print(y_transpose.shape)\n",
        "    temp4 = np.matmul(temp3, y_transpose)\n",
        "    temp = np.multiply(temp4, lr/length)        ##***********이거 안넣었다\n",
        "    theta1 = np.array(np.subtract(theta1, temp), dtype=object)\n",
        "\n",
        "    ##third layer\n",
        "    temp5 = np.zeros(196)\n",
        "    temp1 = np.subtract(h, l)\n",
        "    temp5 = np.matmul(temp1, theta2)\n",
        "    temp5 = np.multiply(temp5, z)\n",
        "    temp5 = np.multiply(temp5, 1-z)\n",
        "    theta1 = np.reshape(theta1, (49, 196))\n",
        "    temp5 = np.matmul(temp5, theta1)\n",
        "    temp5 = np.multiply(temp5, y)\n",
        "    temp5 = np.multiply(temp5, 1-y)\n",
        "    temp = np.multiply(temp5, lr/length)\n",
        "    b0 = np.array(np.subtract(b0, temp), dtype=object)\n",
        "\n",
        "    temp6 = np.zeros((196, 784))\n",
        "    temp5 = np.reshape(temp5, (196,1))\n",
        "    x_transpose = np.reshape(x, (1,784))\n",
        "    #print(temp3.shape)\n",
        "    #print(y_transpose.shape)\n",
        "    temp6 = np.matmul(temp5, x_transpose)\n",
        "    temp = np.multiply(temp6, lr/length)        ##***********이거 안넣었다\n",
        "    theta0 = np.array(np.subtract(theta0, temp), dtype=object)\n",
        "\n",
        "  print(\"b2.shape\",b2.shape)\n",
        "  print(\"b1.shape\",b1.shape)\n",
        "  print(\"b0.shape\",b0.shape)\n",
        "  print(\"theta2.shape\",theta2.shape)\n",
        "  print(\"theta1.shape\",theta1.shape)\n",
        "  print(\"theta0.shape\",theta0.shape)\n",
        "  return b2, theta2, b1, theta1, b0, theta0\n",
        "\n",
        "\"\"\"  \n",
        "\n",
        "\n",
        "\n",
        "    ## first layer update\n",
        "    for j in range(0, 10):\n",
        "      estimate1 = (-label[i] + h[j])\n",
        "      b2[j] -= lr * estimate1       #bias2 update!\n",
        "      \n",
        "      for k in range(0, 49):\n",
        "        estimate2 = estimate1 * z[k]\n",
        "        theta2[j][k] -= lr * estimate2   #theta2 update!\n",
        "    \n",
        "    ## second layer update\n",
        "    for l in range(0, 196):\n",
        "      for j in range(0, 49):\n",
        "        estimate3 = 0\n",
        "        for k in range(0, 10):\n",
        "          estimate3 += (-label[i] + h[k]) * theta1[k][j]\n",
        "        b1[j] -= lr * z[j] * (1 - z[j]) * estimate3\n",
        "        theta1[j][l] -= b1[j] * y[l]\n",
        "\"\"\""
      ],
      "execution_count": 131,
      "outputs": [
        {
          "output_type": "execute_result",
          "data": {
            "text/plain": [
              "'  \\n\\n\\n\\n    ## first layer update\\n    for j in range(0, 10):\\n      estimate1 = (-label[i] + h[j])\\n      b2[j] -= lr * estimate1       #bias2 update!\\n      \\n      for k in range(0, 49):\\n        estimate2 = estimate1 * z[k]\\n        theta2[j][k] -= lr * estimate2   #theta2 update!\\n    \\n    ## second layer update\\n    for l in range(0, 196):\\n      for j in range(0, 49):\\n        estimate3 = 0\\n        for k in range(0, 10):\\n          estimate3 += (-label[i] + h[k]) * theta1[k][j]\\n        b1[j] -= lr * z[j] * (1 - z[j]) * estimate3\\n        theta1[j][l] -= b1[j] * y[l]\\n'"
            ]
          },
          "metadata": {
            "tags": []
          },
          "execution_count": 131
        }
      ]
    },
    {
      "cell_type": "code",
      "metadata": {
        "id": "WN6ghexckeWy",
        "colab_type": "code",
        "colab": {}
      },
      "source": [
        "def checkAccuracy(image, label, theta0, theta1, theta2, b0, b1, b2):\n",
        "  length = len(label)\n",
        "  count = 0\n",
        "  for i in range(0, length):\n",
        "    y, z, h = neuralNet(image[:,i], theta0, theta1, theta2, b0, b1, b2)\n",
        "    if label[i] == np.argmax(h):\n",
        "      count += 1\n",
        "  accuracy = count / length\n",
        "  return accuracy"
      ],
      "execution_count": 0,
      "outputs": []
    },
    {
      "cell_type": "code",
      "metadata": {
        "id": "TP9QaVGX2KDJ",
        "colab_type": "code",
        "colab": {}
      },
      "source": [
        "def checkCorrect(image, label, theta0, theta1, theta2, b0, b1, b2):\n",
        "  length = len(label)\n",
        "  count = 0\n",
        "  labels = []\n",
        "  for i in range(0, length):\n",
        "    if count == 10:\n",
        "      break\n",
        "    else:\n",
        "      y, z, h = neuralNet(image[:,i], theta0, theta1, theta2, b0, b1, b2)\n",
        "      if label[i] == np.argmax(h):\n",
        "        labels.append(i)  #index를 labels 리스트에 추가\n",
        "        count += 1\n",
        "  return labels"
      ],
      "execution_count": 0,
      "outputs": []
    },
    {
      "cell_type": "code",
      "metadata": {
        "id": "TURh4x9O4ZhA",
        "colab_type": "code",
        "colab": {}
      },
      "source": [
        "def checkIncorrect(image, label, theta0, theta1, theta2, b0, b1, b2):\n",
        "  length = len(label)\n",
        "  count = 0\n",
        "  labels = []\n",
        "  predicts = []\n",
        "  for i in range(0, length):\n",
        "    if count == 10:\n",
        "      break\n",
        "    else:\n",
        "      y, z, h = neuralNet(image[:,i], theta0, theta1, theta2, b0, b1, b2)\n",
        "      if label[i] != np.argmax(h):\n",
        "        labels.append(i)  #index를 labels 리스트에 추가\n",
        "        count += 1\n",
        "        predicts.append(np.argmax(h))\n",
        "  return labels, predicts"
      ],
      "execution_count": 0,
      "outputs": []
    },
    {
      "cell_type": "code",
      "metadata": {
        "id": "Ae53uHmoilyj",
        "colab_type": "code",
        "outputId": "3b970fda-e98f-4c4a-a356-7d992d7dc587",
        "colab": {
          "base_uri": "https://localhost:8080/",
          "height": 3617
        }
      },
      "source": [
        "def main():\n",
        "  mu = 0\n",
        "  sigma = 1\n",
        "\n",
        "  theta_0 = np.random.normal(mu, sigma, size=(196,784))   #size = 196x784\n",
        "  theta_1 = np.random.normal(mu, sigma, size=(49,196))    #size = 49x196\n",
        "  theta_2 = np.random.normal(mu, sigma, size=(10,49))     #size = 10x49\n",
        "  \n",
        "  b_0 = np.random.normal(mu, sigma, 196)                  #size = 196x1\n",
        "  b_1 = np.random.normal(mu, sigma, 49)                   #size = 49x1\n",
        "  b_2 = np.random.normal(mu, sigma, 10)                   #size = 10x1\n",
        "\n",
        "  lr = 0.0003                                                #learning rate\n",
        "\n",
        "  #training step\n",
        "  for iter in range(0, 15):\n",
        "    iters.append(iter)\n",
        "    train_cost = objectiveFunction(train_image, train_label, theta_0, theta_1, theta_2, b_0, b_1, b_2)  #print(cost)\n",
        "    print(\"##########################################111111111111111111111111111111\")\n",
        "    train_costs.append(train_cost)\n",
        "    b_2, theta_2, b_1, theta_1, b_0, theta_0 = gradientDescent(train_image, train_label, theta_0, theta_1, theta_2, b_0, b_1, b_2, lr)\n",
        "    \n",
        "    #############train accuracy 하자!############\n",
        "    train_accuracy = checkAccuracy(train_image, train_label, theta_0, theta_1, theta_2, b_0, b_1, b_2)\n",
        "    train_accuracys.append(train_accuracy)\n",
        "    print(\"##########################################12222222222\")\n",
        "\n",
        "    test_cost = objectiveFunction(test_image, test_label, theta_0, theta_1, theta_2, b_0, b_1, b_2)\n",
        "    print(\"##########################################33333333333\")\n",
        "    test_costs.append(test_cost)\n",
        "    #############test accuracy\n",
        "    test_accuracy = checkAccuracy(test_image, test_label, theta_0, theta_1, theta_2, b_0, b_1, b_2)\n",
        "    test_accuracys.append(test_accuracy)\n",
        "\n",
        "    #train_y, train_z, train_h = neuralNet(train_image, theta_0, theta_1, theta_2, b_0, b_1, b_2) #image 문제\n",
        "    print(\"##########################################4444444444444444444\")\n",
        "\n",
        "    \n",
        "  ######correct label 가져오자!\n",
        "  #correct_labels = checkCorrect(test_image, test_label, theta_0, theta_1, theta_2, b_0, b_1, b_2)  #data의 index만 헐당!\n",
        "  correct_label = checkCorrect(test_image, test_label, theta_0, theta_1, theta_2, b_0, b_1, b_2)\n",
        "  correct_labels.append(correct_label)\n",
        "  #incorrect_labels = checkIncorrect(test_image, test_label, theta_0, theta_1, theta_2, b_0, b_1, b_2)\n",
        "  incorrect_label, predict = checkIncorrect(test_image, test_label, theta_0, theta_1, theta_2, b_0, b_1, b_2)\n",
        "  incorrect_labels.append(incorrect_label)\n",
        "  incorrect_predicts.append(predict)\n",
        "\n",
        "  print(\"iters\",iters)\n",
        "  print(\"train_costs\",train_costs)\n",
        "  print(\"Plotting the loss curve\")\n",
        "  fig = plt.figure()\n",
        "  graph1 = plt.plot(iters, train_costs, 'b')\n",
        "  graph2 = plt.plot(iters, test_costs, 'r')\n",
        "  plt.xlabel('iterations')\n",
        "  plt.ylabel('loss')\n",
        "  plt.show()\n",
        "\n",
        "if __name__ == \"__main__\":\n",
        "  main()"
      ],
      "execution_count": 135,
      "outputs": [
        {
          "output_type": "stream",
          "text": [
            "0.004413280271112331\n",
            "##########################################111111111111111111111111111111\n",
            "b2.shape (10,)\n",
            "b1.shape (49,)\n",
            "b0.shape (196,)\n",
            "theta2.shape (10, 49)\n",
            "theta1.shape (49, 196)\n",
            "theta0.shape (196, 784)\n",
            "##########################################12222222222\n",
            "0.007771740892294841\n",
            "##########################################33333333333\n",
            "##########################################4444444444444444444\n",
            "0.004430508377445608\n",
            "##########################################111111111111111111111111111111\n",
            "b2.shape (10,)\n",
            "b1.shape (49,)\n",
            "b0.shape (196,)\n",
            "theta2.shape (10, 49)\n",
            "theta1.shape (49, 196)\n",
            "theta0.shape (196, 784)\n",
            "##########################################12222222222\n",
            "0.007808811405308316\n",
            "##########################################33333333333\n",
            "##########################################4444444444444444444\n",
            "0.004447782714760732\n",
            "##########################################111111111111111111111111111111\n",
            "b2.shape (10,)\n",
            "b1.shape (49,)\n",
            "b0.shape (196,)\n",
            "theta2.shape (10, 49)\n",
            "theta1.shape (49, 196)\n",
            "theta0.shape (196, 784)\n",
            "##########################################12222222222\n",
            "0.007845968482743746\n",
            "##########################################33333333333\n",
            "##########################################4444444444444444444\n",
            "0.004465103529253866\n",
            "##########################################111111111111111111111111111111\n",
            "b2.shape (10,)\n",
            "b1.shape (49,)\n",
            "b0.shape (196,)\n",
            "theta2.shape (10, 49)\n",
            "theta1.shape (49, 196)\n",
            "theta0.shape (196, 784)\n",
            "##########################################12222222222\n",
            "0.00788320799276366\n",
            "##########################################33333333333\n",
            "##########################################4444444444444444444\n",
            "0.004482471077736326\n",
            "##########################################111111111111111111111111111111\n",
            "b2.shape (10,)\n",
            "b1.shape (49,)\n",
            "b0.shape (196,)\n",
            "theta2.shape (10, 49)\n",
            "theta1.shape (49, 196)\n",
            "theta0.shape (196, 784)\n",
            "##########################################12222222222\n",
            "0.0079205258046187\n",
            "##########################################33333333333\n",
            "##########################################4444444444444444444\n",
            "0.004499885628334252\n",
            "##########################################111111111111111111111111111111\n",
            "b2.shape (10,)\n",
            "b1.shape (49,)\n",
            "b0.shape (196,)\n",
            "theta2.shape (10, 49)\n",
            "theta1.shape (49, 196)\n",
            "theta0.shape (196, 784)\n",
            "##########################################12222222222\n",
            "0.00795791780260037\n",
            "##########################################33333333333\n",
            "##########################################4444444444444444444\n",
            "0.0045173474611988635\n",
            "##########################################111111111111111111111111111111\n",
            "b2.shape (10,)\n",
            "b1.shape (49,)\n",
            "b0.shape (196,)\n",
            "theta2.shape (10, 49)\n",
            "theta1.shape (49, 196)\n",
            "theta0.shape (196, 784)\n",
            "##########################################12222222222\n",
            "0.007995379899694552\n",
            "##########################################33333333333\n",
            "##########################################4444444444444444444\n",
            "0.004534856869226971\n",
            "##########################################111111111111111111111111111111\n",
            "b2.shape (10,)\n",
            "b1.shape (49,)\n",
            "b0.shape (196,)\n",
            "theta2.shape (10, 49)\n",
            "theta1.shape (49, 196)\n",
            "theta0.shape (196, 784)\n",
            "##########################################12222222222\n",
            "0.008032908050812054\n",
            "##########################################33333333333\n",
            "##########################################4444444444444444444\n",
            "0.004552414158788825\n",
            "##########################################111111111111111111111111111111\n",
            "b2.shape (10,)\n",
            "b1.shape (49,)\n",
            "b0.shape (196,)\n",
            "theta2.shape (10, 49)\n",
            "theta1.shape (49, 196)\n",
            "theta0.shape (196, 784)\n",
            "##########################################12222222222\n",
            "0.008070498265502017\n",
            "##########################################33333333333\n",
            "##########################################4444444444444444444\n",
            "0.004570019650466157\n",
            "##########################################111111111111111111111111111111\n",
            "b2.shape (10,)\n",
            "b1.shape (49,)\n",
            "b0.shape (196,)\n",
            "theta2.shape (10, 49)\n",
            "theta1.shape (49, 196)\n",
            "theta0.shape (196, 784)\n",
            "##########################################12222222222\n",
            "0.00810814662008242\n",
            "##########################################33333333333\n",
            "##########################################4444444444444444444\n",
            "0.004587673679797139\n",
            "##########################################111111111111111111111111111111\n",
            "b2.shape (10,)\n",
            "b1.shape (49,)\n",
            "b0.shape (196,)\n",
            "theta2.shape (10, 49)\n",
            "theta1.shape (49, 196)\n",
            "theta0.shape (196, 784)\n",
            "##########################################12222222222\n",
            "0.008145849269089376\n",
            "##########################################33333333333\n",
            "##########################################4444444444444444444\n",
            "0.004605376598028834\n",
            "##########################################111111111111111111111111111111\n",
            "b2.shape (10,)\n",
            "b1.shape (49,)\n",
            "b0.shape (196,)\n",
            "theta2.shape (10, 49)\n",
            "theta1.shape (49, 196)\n",
            "theta0.shape (196, 784)\n",
            "##########################################12222222222\n",
            "0.008183602455994919\n",
            "##########################################33333333333\n",
            "##########################################4444444444444444444\n",
            "0.00462312877287641\n",
            "##########################################111111111111111111111111111111\n",
            "b2.shape (10,)\n",
            "b1.shape (49,)\n",
            "b0.shape (196,)\n",
            "theta2.shape (10, 49)\n",
            "theta1.shape (49, 196)\n",
            "theta0.shape (196, 784)\n",
            "##########################################12222222222\n",
            "0.008221402523136372\n",
            "##########################################33333333333\n",
            "##########################################4444444444444444444\n",
            "0.004640930589287226\n",
            "##########################################111111111111111111111111111111\n",
            "b2.shape (10,)\n",
            "b1.shape (49,)\n",
            "b0.shape (196,)\n",
            "theta2.shape (10, 49)\n",
            "theta1.shape (49, 196)\n",
            "theta0.shape (196, 784)\n",
            "##########################################12222222222\n",
            "0.008259245920806178\n",
            "##########################################33333333333\n",
            "##########################################4444444444444444444\n",
            "0.004658782450211379\n",
            "##########################################111111111111111111111111111111\n",
            "b2.shape (10,)\n",
            "b1.shape (49,)\n",
            "b0.shape (196,)\n",
            "theta2.shape (10, 49)\n",
            "theta1.shape (49, 196)\n",
            "theta0.shape (196, 784)\n",
            "##########################################12222222222\n",
            "0.008297129215462332\n",
            "##########################################33333333333\n",
            "##########################################4444444444444444444\n",
            "iters deque([0, 1, 2, 3, 4, 5, 6, 7, 8, 9, 10, 11, 12, 13, 14])\n",
            "train_costs deque([0.004413280271112331, 0.004430508377445608, 0.004447782714760732, 0.004465103529253866, 0.004482471077736326, 0.004499885628334252, 0.0045173474611988635, 0.004534856869226971, 0.004552414158788825, 0.004570019650466157, 0.004587673679797139, 0.004605376598028834, 0.00462312877287641, 0.004640930589287226, 0.004658782450211379])\n",
            "Plotting the loss curve\n"
          ],
          "name": "stdout"
        },
        {
          "output_type": "display_data",
          "data": {
            "image/png": "[encoded data removed]",
            "text/plain": [
              "<Figure size 432x288 with 1 Axes>"
            ]
          },
          "metadata": {
            "tags": [],
            "needs_background": "light"
          }
        }
      ]
    },
    {
      "cell_type": "markdown",
      "metadata": {
        "id": "t3U7TGl2icNm",
        "colab_type": "text"
      },
      "source": [
        "### **1. Plot the loss curve**"
      ]
    },
    {
      "cell_type": "code",
      "metadata": {
        "id": "_TpBzAaCiVhd",
        "colab_type": "code",
        "outputId": "c0164729-027b-487b-a0c3-01f4fb51fd47",
        "colab": {
          "base_uri": "https://localhost:8080/",
          "height": 279
        }
      },
      "source": [
        "fig = plt.figure()\n",
        "graph1 = plt.plot(iters, train_costs, 'b')\n",
        "graph2 = plt.plot(iters, test_costs, 'r')\n",
        "plt.xlabel('iterations')\n",
        "plt.ylabel('loss')\n",
        "plt.show()"
      ],
      "execution_count": 136,
      "outputs": [
        {
          "output_type": "display_data",
          "data": {
            "image/png": "[encoded data removed]",
            "text/plain": [
              "<Figure size 432x288 with 1 Axes>"
            ]
          },
          "metadata": {
            "tags": [],
            "needs_background": "light"
          }
        }
      ]
    },
    {
      "cell_type": "markdown",
      "metadata": {
        "id": "wYAIbkRpjUNZ",
        "colab_type": "text"
      },
      "source": [
        "<br>\n",
        "<br>\n",
        "<br>\n",
        "<br>\n",
        "<br>\n",
        "<br>\n",
        "<br>\n",
        "<br>\n",
        "<br>\n",
        "<br>\n"
      ]
    },
    {
      "cell_type": "markdown",
      "metadata": {
        "id": "hbvpbieUigAI",
        "colab_type": "text"
      },
      "source": [
        "### **2. Plot the accuracy curve**"
      ]
    },
    {
      "cell_type": "code",
      "metadata": {
        "id": "_WepyFzxik6n",
        "colab_type": "code",
        "outputId": "ed31fc07-f535-4eee-de1f-4c4d3fe85900",
        "colab": {
          "base_uri": "https://localhost:8080/",
          "height": 279
        }
      },
      "source": [
        "fig = plt.figure()\n",
        "graph3 = plt.plot(iters, train_accuracys, 'b')\n",
        "graph4 = plt.plot(iters, test_accuracys, 'r')\n",
        "plt.xlabel('iterations')\n",
        "plt.ylabel('loss')\n",
        "plt.show()"
      ],
      "execution_count": 150,
      "outputs": [
        {
          "output_type": "display_data",
          "data": {
            "image/png": "[encoded data removed]",
            "text/plain": [
              "<Figure size 432x288 with 1 Axes>"
            ]
          },
          "metadata": {
            "tags": [],
            "needs_background": "light"
          }
        }
      ]
    },
    {
      "cell_type": "markdown",
      "metadata": {
        "id": "CcYJkW0ZvIBq",
        "colab_type": "text"
      },
      "source": [
        "### **3. Plot the accuracy value**"
      ]
    },
    {
      "cell_type": "code",
      "metadata": {
        "id": "_I-fWRNFvQEv",
        "colab_type": "code",
        "outputId": "64563ec6-aa5e-4ef9-ee61-8b357a4b8e8e",
        "colab": {
          "base_uri": "https://localhost:8080/",
          "height": 53
        }
      },
      "source": [
        "final_train_accuracy = train_accuracys[-1]\n",
        "final_test_accuracy = test_accuracys[-1]\n",
        "print(\"final_train_accuracys :\", final_train_accuracy,\"%\")\n",
        "print(\"final_test_accuracys :\", final_test_accuracy,\"%\")"
      ],
      "execution_count": 151,
      "outputs": [
        {
          "output_type": "stream",
          "text": [
            "final_train_accuracys : 60.79999999999999 %\n",
            "final_test_accuracys : 54.25 %\n"
          ],
          "name": "stdout"
        }
      ]
    },
    {
      "cell_type": "markdown",
      "metadata": {
        "id": "v1k8NptSxNFy",
        "colab_type": "text"
      },
      "source": [
        "### **4. Plot the classification example**"
      ]
    },
    {
      "cell_type": "code",
      "metadata": {
        "id": "lVBi79mqxQGY",
        "colab_type": "code",
        "outputId": "08cd1c75-6433-4b98-cc88-a31be99afb50",
        "colab": {
          "base_uri": "https://localhost:8080/",
          "height": 509
        }
      },
      "source": [
        "f2 = plt.figure(2)\n",
        "im_correct  = np.zeros((size_row * size_col, 10), dtype=float)\n",
        "print(correct_labels)\n",
        "print(correct_labels[0][1])\n",
        "print(incorrect_labels)\n",
        "label_correct_index = []\n",
        "label_incorrect_index = []\n",
        "\n",
        "for i in range(10):\n",
        "    correct_index = correct_labels[0][i]\n",
        "    im_correct[:, i] += test_image[:, correct_index]\n",
        "    label_correct_index.append(test_label[correct_index])\n",
        "\n",
        "for i in range(10):\n",
        "    plt.subplot(2, 5, i+1)\n",
        "    plt.title(label_correct_index[i])\n",
        "    plt.imshow(im_correct[:,i].reshape((size_row, size_col)), cmap='Greys', interpolation='None')\n",
        "\n",
        "    frame   = plt.gca()\n",
        "    frame.axes.get_xaxis().set_visible(False)\n",
        "    frame.axes.get_yaxis().set_visible(False)\n",
        "plt.show()\n",
        "###################################################\n",
        "print(incorrect_predicts)\n",
        "\n",
        "f2 = plt.figure(2)\n",
        "im_incorrect  = np.zeros((size_row * size_col, 10), dtype=float)\n",
        "\n",
        "for i in range(10):\n",
        "    incorrect_index = incorrect_labels[0][i]\n",
        "    im_incorrect[:, i] += test_image[:, incorrect_index]\n",
        "    label_incorrect_index.append(test_label[incorrect_index])\n",
        "\n",
        "for i in range(10):\n",
        "    plt.subplot(2, 5, i+1)\n",
        "    value = incorrect_predicts[0][i]\n",
        "    plt.title(value)\n",
        "    plt.imshow(im_incorrect[:,i].reshape((size_row, size_col)), cmap='Greys', interpolation='None')\n",
        "\n",
        "    frame   = plt.gca()\n",
        "    frame.axes.get_xaxis().set_visible(False)\n",
        "    frame.axes.get_yaxis().set_visible(False)\n",
        "plt.show()"
      ],
      "execution_count": 139,
      "outputs": [
        {
          "output_type": "stream",
          "text": [
            "deque([[6, 17, 26, 48, 50, 69, 79, 88, 98, 104]])\n",
            "17\n",
            "deque([[0, 1, 2, 3, 4, 5, 7, 8, 9, 10]])\n"
          ],
          "name": "stdout"
        },
        {
          "output_type": "display_data",
          "data": {
            "image/png": "[encoded data removed]",
            "text/plain": [
              "<Figure size 432x288 with 10 Axes>"
            ]
          },
          "metadata": {
            "tags": [],
            "needs_background": "light"
          }
        },
        {
          "output_type": "stream",
          "text": [
            "deque([[7, 7, 7, 7, 7, 7, 6, 6, 7, 7]])\n"
          ],
          "name": "stdout"
        },
        {
          "output_type": "display_data",
          "data": {
            "image/png": "[encoded data removed]",
            "text/plain": [
              "<Figure size 432x288 with 10 Axes>"
            ]
          },
          "metadata": {
            "tags": [],
            "needs_background": "light"
          }
        }
      ]
    }
  ]
}
